{
 "cells": [
  {
   "cell_type": "code",
   "execution_count": 1,
   "metadata": {},
   "outputs": [],
   "source": [
    "#!pip install pycaret\n",
    "#!pip install -U pip setuptools wheel\n",
    "#!pip install -U spacy\n",
    "#!python -m spacy download en_core_web_sm"
   ]
  },
  {
   "cell_type": "code",
   "execution_count": 7,
   "metadata": {},
   "outputs": [],
   "source": [
    "#!pip install -U pycaret --user"
   ]
  },
  {
   "cell_type": "markdown",
   "metadata": {},
   "source": [
    "#  Load Dataset"
   ]
  },
  {
   "cell_type": "code",
   "execution_count": 8,
   "metadata": {
    "scrolled": true
   },
   "outputs": [
    {
     "data": {
      "text/html": [
       "<div>\n",
       "<style scoped>\n",
       "    .dataframe tbody tr th:only-of-type {\n",
       "        vertical-align: middle;\n",
       "    }\n",
       "\n",
       "    .dataframe tbody tr th {\n",
       "        vertical-align: top;\n",
       "    }\n",
       "\n",
       "    .dataframe thead th {\n",
       "        text-align: right;\n",
       "    }\n",
       "</style>\n",
       "<table border=\"1\" class=\"dataframe\">\n",
       "  <thead>\n",
       "    <tr style=\"text-align: right;\">\n",
       "      <th></th>\n",
       "      <th>country</th>\n",
       "      <th>en</th>\n",
       "      <th>gender</th>\n",
       "      <th>loan_amount</th>\n",
       "      <th>nonpayment</th>\n",
       "      <th>sector</th>\n",
       "      <th>status</th>\n",
       "    </tr>\n",
       "  </thead>\n",
       "  <tbody>\n",
       "    <tr>\n",
       "      <th>0</th>\n",
       "      <td>Dominican Republic</td>\n",
       "      <td>\"Banco Esperanza\" is a group of 10 women looki...</td>\n",
       "      <td>F</td>\n",
       "      <td>1225</td>\n",
       "      <td>partner</td>\n",
       "      <td>Retail</td>\n",
       "      <td>0</td>\n",
       "    </tr>\n",
       "    <tr>\n",
       "      <th>1</th>\n",
       "      <td>Dominican Republic</td>\n",
       "      <td>\"Caminemos Hacia Adelante\" or \"Walking Forward...</td>\n",
       "      <td>F</td>\n",
       "      <td>1975</td>\n",
       "      <td>lender</td>\n",
       "      <td>Clothing</td>\n",
       "      <td>0</td>\n",
       "    </tr>\n",
       "    <tr>\n",
       "      <th>2</th>\n",
       "      <td>Dominican Republic</td>\n",
       "      <td>\"Creciendo Por La Union\" is a group of 10 peop...</td>\n",
       "      <td>F</td>\n",
       "      <td>2175</td>\n",
       "      <td>partner</td>\n",
       "      <td>Clothing</td>\n",
       "      <td>0</td>\n",
       "    </tr>\n",
       "    <tr>\n",
       "      <th>3</th>\n",
       "      <td>Dominican Republic</td>\n",
       "      <td>\"Cristo Vive\" (\"Christ lives\" is a group of 10...</td>\n",
       "      <td>F</td>\n",
       "      <td>1425</td>\n",
       "      <td>partner</td>\n",
       "      <td>Clothing</td>\n",
       "      <td>0</td>\n",
       "    </tr>\n",
       "    <tr>\n",
       "      <th>4</th>\n",
       "      <td>Dominican Republic</td>\n",
       "      <td>\"Cristo Vive\" is a large group of 35 people, 2...</td>\n",
       "      <td>F</td>\n",
       "      <td>4025</td>\n",
       "      <td>partner</td>\n",
       "      <td>Food</td>\n",
       "      <td>0</td>\n",
       "    </tr>\n",
       "  </tbody>\n",
       "</table>\n",
       "</div>"
      ],
      "text/plain": [
       "              country                                                 en  \\\n",
       "0  Dominican Republic  \"Banco Esperanza\" is a group of 10 women looki...   \n",
       "1  Dominican Republic  \"Caminemos Hacia Adelante\" or \"Walking Forward...   \n",
       "2  Dominican Republic  \"Creciendo Por La Union\" is a group of 10 peop...   \n",
       "3  Dominican Republic  \"Cristo Vive\" (\"Christ lives\" is a group of 10...   \n",
       "4  Dominican Republic  \"Cristo Vive\" is a large group of 35 people, 2...   \n",
       "\n",
       "  gender  loan_amount nonpayment    sector  status  \n",
       "0      F         1225    partner    Retail       0  \n",
       "1      F         1975     lender  Clothing       0  \n",
       "2      F         2175    partner  Clothing       0  \n",
       "3      F         1425    partner  Clothing       0  \n",
       "4      F         4025    partner      Food       0  "
      ]
     },
     "metadata": {},
     "output_type": "display_data"
    }
   ],
   "source": [
    "from pycaret.datasets import get_data\n",
    "data = get_data('kiva')"
   ]
  },
  {
   "cell_type": "code",
   "execution_count": null,
   "metadata": {},
   "outputs": [],
   "source": []
  },
  {
   "cell_type": "code",
   "execution_count": 9,
   "metadata": {},
   "outputs": [
    {
     "data": {
      "text/plain": [
       "(6818, 7)"
      ]
     },
     "execution_count": 9,
     "metadata": {},
     "output_type": "execute_result"
    }
   ],
   "source": [
    "#check the shape of data\n",
    "data.shape"
   ]
  },
  {
   "cell_type": "code",
   "execution_count": 10,
   "metadata": {},
   "outputs": [
    {
     "data": {
      "text/plain": [
       "(1000, 7)"
      ]
     },
     "execution_count": 10,
     "metadata": {},
     "output_type": "execute_result"
    }
   ],
   "source": [
    "# sampling the data to select only 1000 documents\n",
    "data = data.sample(1000, random_state=786).reset_index(drop=True)\n",
    "data.shape"
   ]
  },
  {
   "cell_type": "markdown",
   "metadata": {},
   "source": [
    "# Initialization of the environment"
   ]
  },
  {
   "cell_type": "code",
   "execution_count": 11,
   "metadata": {},
   "outputs": [
    {
     "data": {
      "text/html": [
       "<style type=\"text/css\">\n",
       "</style>\n",
       "<table id=\"T_84b05_\">\n",
       "  <thead>\n",
       "    <tr>\n",
       "      <th class=\"col_heading level0 col0\" >Description</th>\n",
       "      <th class=\"col_heading level0 col1\" >Value</th>\n",
       "    </tr>\n",
       "  </thead>\n",
       "  <tbody>\n",
       "    <tr>\n",
       "      <td id=\"T_84b05_row0_col0\" class=\"data row0 col0\" >session_id</td>\n",
       "      <td id=\"T_84b05_row0_col1\" class=\"data row0 col1\" >123</td>\n",
       "    </tr>\n",
       "    <tr>\n",
       "      <td id=\"T_84b05_row1_col0\" class=\"data row1 col0\" >Documents</td>\n",
       "      <td id=\"T_84b05_row1_col1\" class=\"data row1 col1\" >1000</td>\n",
       "    </tr>\n",
       "    <tr>\n",
       "      <td id=\"T_84b05_row2_col0\" class=\"data row2 col0\" >Vocab Size</td>\n",
       "      <td id=\"T_84b05_row2_col1\" class=\"data row2 col1\" >5302</td>\n",
       "    </tr>\n",
       "    <tr>\n",
       "      <td id=\"T_84b05_row3_col0\" class=\"data row3 col0\" >Custom Stopwords</td>\n",
       "      <td id=\"T_84b05_row3_col1\" class=\"data row3 col1\" >False</td>\n",
       "    </tr>\n",
       "  </tbody>\n",
       "</table>\n"
      ],
      "text/plain": [
       "<pandas.io.formats.style.Styler at 0x2011711fd08>"
      ]
     },
     "metadata": {},
     "output_type": "display_data"
    }
   ],
   "source": [
    "from pycaret.nlp import *\n",
    "exp_nlp101 = setup(data = data, target = 'en', session_id = 123)"
   ]
  },
  {
   "cell_type": "markdown",
   "metadata": {},
   "source": [
    "# Creation of the Model"
   ]
  },
  {
   "cell_type": "code",
   "execution_count": 9,
   "metadata": {},
   "outputs": [
    {
     "data": {
      "text/html": [
       "<div>\n",
       "<style scoped>\n",
       "    .dataframe tbody tr th:only-of-type {\n",
       "        vertical-align: middle;\n",
       "    }\n",
       "\n",
       "    .dataframe tbody tr th {\n",
       "        vertical-align: top;\n",
       "    }\n",
       "\n",
       "    .dataframe thead th {\n",
       "        text-align: right;\n",
       "    }\n",
       "</style>\n",
       "<table border=\"1\" class=\"dataframe\">\n",
       "  <thead>\n",
       "    <tr style=\"text-align: right;\">\n",
       "      <th></th>\n",
       "      <th>Name</th>\n",
       "      <th>Reference</th>\n",
       "    </tr>\n",
       "    <tr>\n",
       "      <th>ID</th>\n",
       "      <th></th>\n",
       "      <th></th>\n",
       "    </tr>\n",
       "  </thead>\n",
       "  <tbody>\n",
       "    <tr>\n",
       "      <th>lda</th>\n",
       "      <td>Latent Dirichlet Allocation</td>\n",
       "      <td>gensim/models/ldamodel</td>\n",
       "    </tr>\n",
       "    <tr>\n",
       "      <th>lsi</th>\n",
       "      <td>Latent Semantic Indexing</td>\n",
       "      <td>gensim/models/lsimodel</td>\n",
       "    </tr>\n",
       "    <tr>\n",
       "      <th>hdp</th>\n",
       "      <td>Hierarchical Dirichlet Process</td>\n",
       "      <td>gensim/models/hdpmodel</td>\n",
       "    </tr>\n",
       "    <tr>\n",
       "      <th>rp</th>\n",
       "      <td>Random Projections</td>\n",
       "      <td>gensim/models/rpmodel</td>\n",
       "    </tr>\n",
       "    <tr>\n",
       "      <th>nmf</th>\n",
       "      <td>Non-Negative Matrix Factorization</td>\n",
       "      <td>sklearn.decomposition.NMF</td>\n",
       "    </tr>\n",
       "  </tbody>\n",
       "</table>\n",
       "</div>"
      ],
      "text/plain": [
       "                                  Name                  Reference\n",
       "ID                                                               \n",
       "lda        Latent Dirichlet Allocation     gensim/models/ldamodel\n",
       "lsi           Latent Semantic Indexing     gensim/models/lsimodel\n",
       "hdp     Hierarchical Dirichlet Process     gensim/models/hdpmodel\n",
       "rp                  Random Projections      gensim/models/rpmodel\n",
       "nmf  Non-Negative Matrix Factorization  sklearn.decomposition.NMF"
      ]
     },
     "execution_count": 9,
     "metadata": {},
     "output_type": "execute_result"
    }
   ],
   "source": [
    "models()"
   ]
  },
  {
   "cell_type": "code",
   "execution_count": 10,
   "metadata": {
    "scrolled": false
   },
   "outputs": [],
   "source": [
    "lda = create_model('lda')"
   ]
  },
  {
   "cell_type": "code",
   "execution_count": 11,
   "metadata": {},
   "outputs": [
    {
     "name": "stdout",
     "output_type": "stream",
     "text": [
      "LdaModel(num_terms=5302, num_topics=4, decay=0.5, chunksize=100)\n"
     ]
    }
   ],
   "source": [
    "print(lda)"
   ]
  },
  {
   "cell_type": "markdown",
   "metadata": {},
   "source": [
    "We have created the Latent Dirichlet Assignment (LDA) model with a single word, that is, `create_model ()`. Notice that the `num_topics` parameter is set to` 4`, which is a default value taken when you do not pass the `num_topics` parameter in` create_model () `. In the following example, we will create an LDA model with 6 themes and also set the `multi_core` parameter to` True`. When `multi_core` is set to` True`, Latent Dirichlet Allocation (LDA) uses all CPU cores to parallelize and speed up model training."
   ]
  },
  {
   "cell_type": "code",
   "execution_count": 12,
   "metadata": {},
   "outputs": [],
   "source": [
    "lda2 = create_model('lda', num_topics = 6, multi_core = True)"
   ]
  },
  {
   "cell_type": "code",
   "execution_count": 13,
   "metadata": {},
   "outputs": [
    {
     "name": "stdout",
     "output_type": "stream",
     "text": [
      "LdaModel(num_terms=5302, num_topics=6, decay=0.5, chunksize=100)\n"
     ]
    }
   ],
   "source": [
    "print(lda2)"
   ]
  },
  {
   "cell_type": "markdown",
   "metadata": {},
   "source": [
    "#  Model assignation"
   ]
  },
  {
   "cell_type": "markdown",
   "metadata": {},
   "source": [
    "Now that we have created a theme model, we would like to assign the theme proportions to our dataset (6818 documents / samples) to analyze the results. We will achieve this using the ʻassign_model () `function. See an example below:"
   ]
  },
  {
   "cell_type": "code",
   "execution_count": 14,
   "metadata": {},
   "outputs": [
    {
     "data": {
      "text/html": [
       "<div>\n",
       "<style scoped>\n",
       "    .dataframe tbody tr th:only-of-type {\n",
       "        vertical-align: middle;\n",
       "    }\n",
       "\n",
       "    .dataframe tbody tr th {\n",
       "        vertical-align: top;\n",
       "    }\n",
       "\n",
       "    .dataframe thead th {\n",
       "        text-align: right;\n",
       "    }\n",
       "</style>\n",
       "<table border=\"1\" class=\"dataframe\">\n",
       "  <thead>\n",
       "    <tr style=\"text-align: right;\">\n",
       "      <th></th>\n",
       "      <th>country</th>\n",
       "      <th>en</th>\n",
       "      <th>gender</th>\n",
       "      <th>loan_amount</th>\n",
       "      <th>nonpayment</th>\n",
       "      <th>sector</th>\n",
       "      <th>status</th>\n",
       "      <th>Topic_0</th>\n",
       "      <th>Topic_1</th>\n",
       "      <th>Topic_2</th>\n",
       "      <th>Topic_3</th>\n",
       "      <th>Dominant_Topic</th>\n",
       "      <th>Perc_Dominant_Topic</th>\n",
       "    </tr>\n",
       "  </thead>\n",
       "  <tbody>\n",
       "    <tr>\n",
       "      <th>0</th>\n",
       "      <td>Kenya</td>\n",
       "      <td>praxide marry child primary school train tailo...</td>\n",
       "      <td>F</td>\n",
       "      <td>75</td>\n",
       "      <td>partner</td>\n",
       "      <td>Services</td>\n",
       "      <td>0</td>\n",
       "      <td>0.871802</td>\n",
       "      <td>0.000354</td>\n",
       "      <td>0.001464</td>\n",
       "      <td>0.126379</td>\n",
       "      <td>Topic 0</td>\n",
       "      <td>0.87</td>\n",
       "    </tr>\n",
       "    <tr>\n",
       "      <th>1</th>\n",
       "      <td>Kenya</td>\n",
       "      <td>gynaecology practitioner run reproductive year...</td>\n",
       "      <td>M</td>\n",
       "      <td>1200</td>\n",
       "      <td>partner</td>\n",
       "      <td>Health</td>\n",
       "      <td>0</td>\n",
       "      <td>0.984097</td>\n",
       "      <td>0.000325</td>\n",
       "      <td>0.001341</td>\n",
       "      <td>0.014237</td>\n",
       "      <td>Topic 0</td>\n",
       "      <td>0.98</td>\n",
       "    </tr>\n",
       "    <tr>\n",
       "      <th>2</th>\n",
       "      <td>Dominican Republic</td>\n",
       "      <td>live san_cristobal child boy girl range year o...</td>\n",
       "      <td>F</td>\n",
       "      <td>150</td>\n",
       "      <td>partner</td>\n",
       "      <td>Clothing</td>\n",
       "      <td>0</td>\n",
       "      <td>0.070113</td>\n",
       "      <td>0.000361</td>\n",
       "      <td>0.001493</td>\n",
       "      <td>0.928032</td>\n",
       "      <td>Topic 3</td>\n",
       "      <td>0.93</td>\n",
       "    </tr>\n",
       "    <tr>\n",
       "      <th>3</th>\n",
       "      <td>Kenya</td>\n",
       "      <td>phanice marry child daughter secondary school ...</td>\n",
       "      <td>F</td>\n",
       "      <td>150</td>\n",
       "      <td>lender</td>\n",
       "      <td>Services</td>\n",
       "      <td>1</td>\n",
       "      <td>0.727180</td>\n",
       "      <td>0.000391</td>\n",
       "      <td>0.001616</td>\n",
       "      <td>0.270813</td>\n",
       "      <td>Topic 0</td>\n",
       "      <td>0.73</td>\n",
       "    </tr>\n",
       "    <tr>\n",
       "      <th>4</th>\n",
       "      <td>Kenya</td>\n",
       "      <td>fredrice nzioka kilonzo year old hotel operate...</td>\n",
       "      <td>F</td>\n",
       "      <td>300</td>\n",
       "      <td>lender</td>\n",
       "      <td>Food</td>\n",
       "      <td>1</td>\n",
       "      <td>0.463812</td>\n",
       "      <td>0.000355</td>\n",
       "      <td>0.208921</td>\n",
       "      <td>0.326911</td>\n",
       "      <td>Topic 0</td>\n",
       "      <td>0.46</td>\n",
       "    </tr>\n",
       "  </tbody>\n",
       "</table>\n",
       "</div>"
      ],
      "text/plain": [
       "              country                                                 en  \\\n",
       "0               Kenya  praxide marry child primary school train tailo...   \n",
       "1               Kenya  gynaecology practitioner run reproductive year...   \n",
       "2  Dominican Republic  live san_cristobal child boy girl range year o...   \n",
       "3               Kenya  phanice marry child daughter secondary school ...   \n",
       "4               Kenya  fredrice nzioka kilonzo year old hotel operate...   \n",
       "\n",
       "  gender  loan_amount nonpayment    sector  status   Topic_0   Topic_1  \\\n",
       "0      F           75    partner  Services       0  0.871802  0.000354   \n",
       "1      M         1200    partner    Health       0  0.984097  0.000325   \n",
       "2      F          150    partner  Clothing       0  0.070113  0.000361   \n",
       "3      F          150     lender  Services       1  0.727180  0.000391   \n",
       "4      F          300     lender      Food       1  0.463812  0.000355   \n",
       "\n",
       "    Topic_2   Topic_3 Dominant_Topic  Perc_Dominant_Topic  \n",
       "0  0.001464  0.126379        Topic 0                 0.87  \n",
       "1  0.001341  0.014237        Topic 0                 0.98  \n",
       "2  0.001493  0.928032        Topic 3                 0.93  \n",
       "3  0.001616  0.270813        Topic 0                 0.73  \n",
       "4  0.208921  0.326911        Topic 0                 0.46  "
      ]
     },
     "execution_count": 14,
     "metadata": {},
     "output_type": "execute_result"
    }
   ],
   "source": [
    "lda_results = assign_model(lda)\n",
    "lda_results.head()"
   ]
  },
  {
   "cell_type": "markdown",
   "metadata": {},
   "source": [
    "Notice how 6 additional columns are now added to the data frame. ʻEn` is the text after all the preprocessing. `Topic_0 ... Topic_3` are the proportions of the topics and represent the distribution of topics for each document. `Dominant_Topic` is the topic number with the highest proportion and` Perc_Dominant_Topic` is the percentage of dominant topic over 1 (only shown when the models are stochastic, that is, the sum of all the proportions is equal to 1)."
   ]
  },
  {
   "cell_type": "markdown",
   "metadata": {},
   "source": [
    "#  Visualization of the Model"
   ]
  },
  {
   "cell_type": "markdown",
   "metadata": {},
   "source": [
    "The `plot_model ()` function can be used to parse the general corpus or just specific topics extracted through the topic model. So the `plot_model ()` function can also work without passing any trained model objects. See examples below:"
   ]
  },
  {
   "cell_type": "markdown",
   "metadata": {},
   "source": [
    "###  Frequency Distribution of Entire Corpus"
   ]
  },
  {
   "cell_type": "code",
   "execution_count": 16,
   "metadata": {},
   "outputs": [
    {
     "data": {
      "text/html": [
       "        <script type=\"text/javascript\">\n",
       "        window.PlotlyConfig = {MathJaxConfig: 'local'};\n",
       "        if (window.MathJax) {MathJax.Hub.Config({SVG: {font: \"STIX-Web\"}});}\n",
       "        if (typeof require !== 'undefined') {\n",
       "        require.undef(\"plotly\");\n",
       "        requirejs.config({\n",
       "            paths: {\n",
       "                'plotly': ['https://cdn.plot.ly/plotly-2.2.0.min']\n",
       "            }\n",
       "        });\n",
       "        require(['plotly'], function(Plotly) {\n",
       "            window._Plotly = Plotly;\n",
       "        });\n",
       "        }\n",
       "        </script>\n",
       "        "
      ]
     },
     "metadata": {},
     "output_type": "display_data"
    },
    {
     "data": {
      "application/vnd.plotly.v1+json": {
       "config": {
        "linkText": "Export to plot.ly",
        "plotlyServerURL": "https://plot.ly",
        "showLink": true
       },
       "data": [
        {
         "marker": {
          "color": "rgba(255, 153, 51, 0.6)",
          "line": {
           "color": "rgba(255, 153, 51, 1.0)",
           "width": 1
          }
         },
         "name": "count",
         "orientation": "v",
         "text": "",
         "type": "bar",
         "x": [
          "loan",
          "business",
          "child",
          "year",
          "sell",
          "buy",
          "school",
          "work",
          "also",
          "use",
          "old",
          "family",
          "group",
          "make",
          "able",
          "start",
          "small",
          "help",
          "live",
          "product",
          "husband",
          "purchase",
          "well",
          "income",
          "increase",
          "home",
          "community",
          "marry",
          "woman",
          "customer",
          "good",
          "order",
          "need",
          "member",
          "hope",
          "request",
          "get",
          "expand",
          "pay",
          "new",
          "stock",
          "rice",
          "farmer",
          "grow",
          "want",
          "time",
          "area",
          "store",
          "provide",
          "clothing",
          "people",
          "repay",
          "house",
          "support",
          "many",
          "entrepreneur",
          "go",
          "first",
          "money",
          "improve",
          "client",
          "market",
          "give",
          "life",
          "hard",
          "shop",
          "mother",
          "sale",
          "food",
          "run",
          "service",
          "invest",
          "clothe",
          "month",
          "plan",
          "take",
          "usd",
          "profit",
          "capital",
          "ago",
          "high",
          "continue",
          "education",
          "local",
          "wife",
          "enable",
          "day",
          "young",
          "fee",
          "item",
          "demand",
          "operate",
          "meet",
          "large",
          "receive",
          "say",
          "farm",
          "supply",
          "still",
          "offer"
         ],
         "y": [
          1930,
          1886,
          1198,
          1163,
          1121,
          814,
          686,
          659,
          647,
          634,
          600,
          598,
          561,
          530,
          517,
          491,
          468,
          464,
          415,
          399,
          392,
          390,
          388,
          379,
          355,
          351,
          343,
          339,
          320,
          318,
          314,
          304,
          299,
          298,
          280,
          275,
          272,
          269,
          264,
          258,
          255,
          254,
          252,
          249,
          245,
          241,
          239,
          238,
          235,
          230,
          228,
          225,
          222,
          219,
          217,
          214,
          214,
          213,
          210,
          205,
          202,
          200,
          200,
          196,
          196,
          195,
          188,
          186,
          186,
          185,
          179,
          175,
          175,
          174,
          173,
          172,
          171,
          171,
          170,
          163,
          163,
          162,
          160,
          156,
          154,
          152,
          152,
          149,
          143,
          142,
          140,
          139,
          139,
          136,
          132,
          132,
          131,
          127,
          126,
          125
         ]
        }
       ],
       "layout": {
        "legend": {
         "bgcolor": "#F5F6F9",
         "font": {
          "color": "#4D5663"
         }
        },
        "paper_bgcolor": "#F5F6F9",
        "plot_bgcolor": "#F5F6F9",
        "template": {
         "data": {
          "bar": [
           {
            "error_x": {
             "color": "#2a3f5f"
            },
            "error_y": {
             "color": "#2a3f5f"
            },
            "marker": {
             "line": {
              "color": "#E5ECF6",
              "width": 0.5
             },
             "pattern": {
              "fillmode": "overlay",
              "size": 10,
              "solidity": 0.2
             }
            },
            "type": "bar"
           }
          ],
          "barpolar": [
           {
            "marker": {
             "line": {
              "color": "#E5ECF6",
              "width": 0.5
             },
             "pattern": {
              "fillmode": "overlay",
              "size": 10,
              "solidity": 0.2
             }
            },
            "type": "barpolar"
           }
          ],
          "carpet": [
           {
            "aaxis": {
             "endlinecolor": "#2a3f5f",
             "gridcolor": "white",
             "linecolor": "white",
             "minorgridcolor": "white",
             "startlinecolor": "#2a3f5f"
            },
            "baxis": {
             "endlinecolor": "#2a3f5f",
             "gridcolor": "white",
             "linecolor": "white",
             "minorgridcolor": "white",
             "startlinecolor": "#2a3f5f"
            },
            "type": "carpet"
           }
          ],
          "choropleth": [
           {
            "colorbar": {
             "outlinewidth": 0,
             "ticks": ""
            },
            "type": "choropleth"
           }
          ],
          "contour": [
           {
            "colorbar": {
             "outlinewidth": 0,
             "ticks": ""
            },
            "colorscale": [
             [
              0,
              "#0d0887"
             ],
             [
              0.1111111111111111,
              "#46039f"
             ],
             [
              0.2222222222222222,
              "#7201a8"
             ],
             [
              0.3333333333333333,
              "#9c179e"
             ],
             [
              0.4444444444444444,
              "#bd3786"
             ],
             [
              0.5555555555555556,
              "#d8576b"
             ],
             [
              0.6666666666666666,
              "#ed7953"
             ],
             [
              0.7777777777777778,
              "#fb9f3a"
             ],
             [
              0.8888888888888888,
              "#fdca26"
             ],
             [
              1,
              "#f0f921"
             ]
            ],
            "type": "contour"
           }
          ],
          "contourcarpet": [
           {
            "colorbar": {
             "outlinewidth": 0,
             "ticks": ""
            },
            "type": "contourcarpet"
           }
          ],
          "heatmap": [
           {
            "colorbar": {
             "outlinewidth": 0,
             "ticks": ""
            },
            "colorscale": [
             [
              0,
              "#0d0887"
             ],
             [
              0.1111111111111111,
              "#46039f"
             ],
             [
              0.2222222222222222,
              "#7201a8"
             ],
             [
              0.3333333333333333,
              "#9c179e"
             ],
             [
              0.4444444444444444,
              "#bd3786"
             ],
             [
              0.5555555555555556,
              "#d8576b"
             ],
             [
              0.6666666666666666,
              "#ed7953"
             ],
             [
              0.7777777777777778,
              "#fb9f3a"
             ],
             [
              0.8888888888888888,
              "#fdca26"
             ],
             [
              1,
              "#f0f921"
             ]
            ],
            "type": "heatmap"
           }
          ],
          "heatmapgl": [
           {
            "colorbar": {
             "outlinewidth": 0,
             "ticks": ""
            },
            "colorscale": [
             [
              0,
              "#0d0887"
             ],
             [
              0.1111111111111111,
              "#46039f"
             ],
             [
              0.2222222222222222,
              "#7201a8"
             ],
             [
              0.3333333333333333,
              "#9c179e"
             ],
             [
              0.4444444444444444,
              "#bd3786"
             ],
             [
              0.5555555555555556,
              "#d8576b"
             ],
             [
              0.6666666666666666,
              "#ed7953"
             ],
             [
              0.7777777777777778,
              "#fb9f3a"
             ],
             [
              0.8888888888888888,
              "#fdca26"
             ],
             [
              1,
              "#f0f921"
             ]
            ],
            "type": "heatmapgl"
           }
          ],
          "histogram": [
           {
            "marker": {
             "pattern": {
              "fillmode": "overlay",
              "size": 10,
              "solidity": 0.2
             }
            },
            "type": "histogram"
           }
          ],
          "histogram2d": [
           {
            "colorbar": {
             "outlinewidth": 0,
             "ticks": ""
            },
            "colorscale": [
             [
              0,
              "#0d0887"
             ],
             [
              0.1111111111111111,
              "#46039f"
             ],
             [
              0.2222222222222222,
              "#7201a8"
             ],
             [
              0.3333333333333333,
              "#9c179e"
             ],
             [
              0.4444444444444444,
              "#bd3786"
             ],
             [
              0.5555555555555556,
              "#d8576b"
             ],
             [
              0.6666666666666666,
              "#ed7953"
             ],
             [
              0.7777777777777778,
              "#fb9f3a"
             ],
             [
              0.8888888888888888,
              "#fdca26"
             ],
             [
              1,
              "#f0f921"
             ]
            ],
            "type": "histogram2d"
           }
          ],
          "histogram2dcontour": [
           {
            "colorbar": {
             "outlinewidth": 0,
             "ticks": ""
            },
            "colorscale": [
             [
              0,
              "#0d0887"
             ],
             [
              0.1111111111111111,
              "#46039f"
             ],
             [
              0.2222222222222222,
              "#7201a8"
             ],
             [
              0.3333333333333333,
              "#9c179e"
             ],
             [
              0.4444444444444444,
              "#bd3786"
             ],
             [
              0.5555555555555556,
              "#d8576b"
             ],
             [
              0.6666666666666666,
              "#ed7953"
             ],
             [
              0.7777777777777778,
              "#fb9f3a"
             ],
             [
              0.8888888888888888,
              "#fdca26"
             ],
             [
              1,
              "#f0f921"
             ]
            ],
            "type": "histogram2dcontour"
           }
          ],
          "mesh3d": [
           {
            "colorbar": {
             "outlinewidth": 0,
             "ticks": ""
            },
            "type": "mesh3d"
           }
          ],
          "parcoords": [
           {
            "line": {
             "colorbar": {
              "outlinewidth": 0,
              "ticks": ""
             }
            },
            "type": "parcoords"
           }
          ],
          "pie": [
           {
            "automargin": true,
            "type": "pie"
           }
          ],
          "scatter": [
           {
            "marker": {
             "colorbar": {
              "outlinewidth": 0,
              "ticks": ""
             }
            },
            "type": "scatter"
           }
          ],
          "scatter3d": [
           {
            "line": {
             "colorbar": {
              "outlinewidth": 0,
              "ticks": ""
             }
            },
            "marker": {
             "colorbar": {
              "outlinewidth": 0,
              "ticks": ""
             }
            },
            "type": "scatter3d"
           }
          ],
          "scattercarpet": [
           {
            "marker": {
             "colorbar": {
              "outlinewidth": 0,
              "ticks": ""
             }
            },
            "type": "scattercarpet"
           }
          ],
          "scattergeo": [
           {
            "marker": {
             "colorbar": {
              "outlinewidth": 0,
              "ticks": ""
             }
            },
            "type": "scattergeo"
           }
          ],
          "scattergl": [
           {
            "marker": {
             "colorbar": {
              "outlinewidth": 0,
              "ticks": ""
             }
            },
            "type": "scattergl"
           }
          ],
          "scattermapbox": [
           {
            "marker": {
             "colorbar": {
              "outlinewidth": 0,
              "ticks": ""
             }
            },
            "type": "scattermapbox"
           }
          ],
          "scatterpolar": [
           {
            "marker": {
             "colorbar": {
              "outlinewidth": 0,
              "ticks": ""
             }
            },
            "type": "scatterpolar"
           }
          ],
          "scatterpolargl": [
           {
            "marker": {
             "colorbar": {
              "outlinewidth": 0,
              "ticks": ""
             }
            },
            "type": "scatterpolargl"
           }
          ],
          "scatterternary": [
           {
            "marker": {
             "colorbar": {
              "outlinewidth": 0,
              "ticks": ""
             }
            },
            "type": "scatterternary"
           }
          ],
          "surface": [
           {
            "colorbar": {
             "outlinewidth": 0,
             "ticks": ""
            },
            "colorscale": [
             [
              0,
              "#0d0887"
             ],
             [
              0.1111111111111111,
              "#46039f"
             ],
             [
              0.2222222222222222,
              "#7201a8"
             ],
             [
              0.3333333333333333,
              "#9c179e"
             ],
             [
              0.4444444444444444,
              "#bd3786"
             ],
             [
              0.5555555555555556,
              "#d8576b"
             ],
             [
              0.6666666666666666,
              "#ed7953"
             ],
             [
              0.7777777777777778,
              "#fb9f3a"
             ],
             [
              0.8888888888888888,
              "#fdca26"
             ],
             [
              1,
              "#f0f921"
             ]
            ],
            "type": "surface"
           }
          ],
          "table": [
           {
            "cells": {
             "fill": {
              "color": "#EBF0F8"
             },
             "line": {
              "color": "white"
             }
            },
            "header": {
             "fill": {
              "color": "#C8D4E3"
             },
             "line": {
              "color": "white"
             }
            },
            "type": "table"
           }
          ]
         },
         "layout": {
          "annotationdefaults": {
           "arrowcolor": "#2a3f5f",
           "arrowhead": 0,
           "arrowwidth": 1
          },
          "autotypenumbers": "strict",
          "coloraxis": {
           "colorbar": {
            "outlinewidth": 0,
            "ticks": ""
           }
          },
          "colorscale": {
           "diverging": [
            [
             0,
             "#8e0152"
            ],
            [
             0.1,
             "#c51b7d"
            ],
            [
             0.2,
             "#de77ae"
            ],
            [
             0.3,
             "#f1b6da"
            ],
            [
             0.4,
             "#fde0ef"
            ],
            [
             0.5,
             "#f7f7f7"
            ],
            [
             0.6,
             "#e6f5d0"
            ],
            [
             0.7,
             "#b8e186"
            ],
            [
             0.8,
             "#7fbc41"
            ],
            [
             0.9,
             "#4d9221"
            ],
            [
             1,
             "#276419"
            ]
           ],
           "sequential": [
            [
             0,
             "#0d0887"
            ],
            [
             0.1111111111111111,
             "#46039f"
            ],
            [
             0.2222222222222222,
             "#7201a8"
            ],
            [
             0.3333333333333333,
             "#9c179e"
            ],
            [
             0.4444444444444444,
             "#bd3786"
            ],
            [
             0.5555555555555556,
             "#d8576b"
            ],
            [
             0.6666666666666666,
             "#ed7953"
            ],
            [
             0.7777777777777778,
             "#fb9f3a"
            ],
            [
             0.8888888888888888,
             "#fdca26"
            ],
            [
             1,
             "#f0f921"
            ]
           ],
           "sequentialminus": [
            [
             0,
             "#0d0887"
            ],
            [
             0.1111111111111111,
             "#46039f"
            ],
            [
             0.2222222222222222,
             "#7201a8"
            ],
            [
             0.3333333333333333,
             "#9c179e"
            ],
            [
             0.4444444444444444,
             "#bd3786"
            ],
            [
             0.5555555555555556,
             "#d8576b"
            ],
            [
             0.6666666666666666,
             "#ed7953"
            ],
            [
             0.7777777777777778,
             "#fb9f3a"
            ],
            [
             0.8888888888888888,
             "#fdca26"
            ],
            [
             1,
             "#f0f921"
            ]
           ]
          },
          "colorway": [
           "#636efa",
           "#EF553B",
           "#00cc96",
           "#ab63fa",
           "#FFA15A",
           "#19d3f3",
           "#FF6692",
           "#B6E880",
           "#FF97FF",
           "#FECB52"
          ],
          "font": {
           "color": "#2a3f5f"
          },
          "geo": {
           "bgcolor": "white",
           "lakecolor": "white",
           "landcolor": "#E5ECF6",
           "showlakes": true,
           "showland": true,
           "subunitcolor": "white"
          },
          "hoverlabel": {
           "align": "left"
          },
          "hovermode": "closest",
          "mapbox": {
           "style": "light"
          },
          "paper_bgcolor": "white",
          "plot_bgcolor": "#E5ECF6",
          "polar": {
           "angularaxis": {
            "gridcolor": "white",
            "linecolor": "white",
            "ticks": ""
           },
           "bgcolor": "#E5ECF6",
           "radialaxis": {
            "gridcolor": "white",
            "linecolor": "white",
            "ticks": ""
           }
          },
          "scene": {
           "xaxis": {
            "backgroundcolor": "#E5ECF6",
            "gridcolor": "white",
            "gridwidth": 2,
            "linecolor": "white",
            "showbackground": true,
            "ticks": "",
            "zerolinecolor": "white"
           },
           "yaxis": {
            "backgroundcolor": "#E5ECF6",
            "gridcolor": "white",
            "gridwidth": 2,
            "linecolor": "white",
            "showbackground": true,
            "ticks": "",
            "zerolinecolor": "white"
           },
           "zaxis": {
            "backgroundcolor": "#E5ECF6",
            "gridcolor": "white",
            "gridwidth": 2,
            "linecolor": "white",
            "showbackground": true,
            "ticks": "",
            "zerolinecolor": "white"
           }
          },
          "shapedefaults": {
           "line": {
            "color": "#2a3f5f"
           }
          },
          "ternary": {
           "aaxis": {
            "gridcolor": "white",
            "linecolor": "white",
            "ticks": ""
           },
           "baxis": {
            "gridcolor": "white",
            "linecolor": "white",
            "ticks": ""
           },
           "bgcolor": "#E5ECF6",
           "caxis": {
            "gridcolor": "white",
            "linecolor": "white",
            "ticks": ""
           }
          },
          "title": {
           "x": 0.05
          },
          "xaxis": {
           "automargin": true,
           "gridcolor": "white",
           "linecolor": "white",
           "ticks": "",
           "title": {
            "standoff": 15
           },
           "zerolinecolor": "white",
           "zerolinewidth": 2
          },
          "yaxis": {
           "automargin": true,
           "gridcolor": "white",
           "linecolor": "white",
           "ticks": "",
           "title": {
            "standoff": 15
           },
           "zerolinecolor": "white",
           "zerolinewidth": 2
          }
         }
        },
        "title": {
         "font": {
          "color": "#4D5663"
         },
         "text": "Top 100 words after removing stop words"
        },
        "xaxis": {
         "gridcolor": "#E1E5ED",
         "linecolor": "black",
         "showgrid": true,
         "tickfont": {
          "color": "#4D5663"
         },
         "title": {
          "font": {
           "color": "#4D5663"
          },
          "text": ""
         },
         "zerolinecolor": "#E1E5ED"
        },
        "yaxis": {
         "gridcolor": "#E1E5ED",
         "linecolor": "black",
         "showgrid": true,
         "tickfont": {
          "color": "#4D5663"
         },
         "title": {
          "font": {
           "color": "#4D5663"
          },
          "text": "Count"
         },
         "zerolinecolor": "#E1E5ED"
        }
       }
      },
      "text/html": [
       "<div>                            <div id=\"245618d8-d11c-4ad1-836c-7e951f9f1670\" class=\"plotly-graph-div\" style=\"height:525px; width:100%;\"></div>            <script type=\"text/javascript\">                require([\"plotly\"], function(Plotly) {                    window.PLOTLYENV=window.PLOTLYENV || {};\n",
       "                    window.PLOTLYENV.BASE_URL='https://plot.ly';                                    if (document.getElementById(\"245618d8-d11c-4ad1-836c-7e951f9f1670\")) {                    Plotly.newPlot(                        \"245618d8-d11c-4ad1-836c-7e951f9f1670\",                        [{\"marker\":{\"color\":\"rgba(255, 153, 51, 0.6)\",\"line\":{\"color\":\"rgba(255, 153, 51, 1.0)\",\"width\":1}},\"name\":\"count\",\"orientation\":\"v\",\"text\":\"\",\"type\":\"bar\",\"x\":[\"loan\",\"business\",\"child\",\"year\",\"sell\",\"buy\",\"school\",\"work\",\"also\",\"use\",\"old\",\"family\",\"group\",\"make\",\"able\",\"start\",\"small\",\"help\",\"live\",\"product\",\"husband\",\"purchase\",\"well\",\"income\",\"increase\",\"home\",\"community\",\"marry\",\"woman\",\"customer\",\"good\",\"order\",\"need\",\"member\",\"hope\",\"request\",\"get\",\"expand\",\"pay\",\"new\",\"stock\",\"rice\",\"farmer\",\"grow\",\"want\",\"time\",\"area\",\"store\",\"provide\",\"clothing\",\"people\",\"repay\",\"house\",\"support\",\"many\",\"entrepreneur\",\"go\",\"first\",\"money\",\"improve\",\"client\",\"market\",\"give\",\"life\",\"hard\",\"shop\",\"mother\",\"sale\",\"food\",\"run\",\"service\",\"invest\",\"clothe\",\"month\",\"plan\",\"take\",\"usd\",\"profit\",\"capital\",\"ago\",\"high\",\"continue\",\"education\",\"local\",\"wife\",\"enable\",\"day\",\"young\",\"fee\",\"item\",\"demand\",\"operate\",\"meet\",\"large\",\"receive\",\"say\",\"farm\",\"supply\",\"still\",\"offer\"],\"y\":[1930,1886,1198,1163,1121,814,686,659,647,634,600,598,561,530,517,491,468,464,415,399,392,390,388,379,355,351,343,339,320,318,314,304,299,298,280,275,272,269,264,258,255,254,252,249,245,241,239,238,235,230,228,225,222,219,217,214,214,213,210,205,202,200,200,196,196,195,188,186,186,185,179,175,175,174,173,172,171,171,170,163,163,162,160,156,154,152,152,149,143,142,140,139,139,136,132,132,131,127,126,125]}],                        {\"legend\":{\"bgcolor\":\"#F5F6F9\",\"font\":{\"color\":\"#4D5663\"}},\"paper_bgcolor\":\"#F5F6F9\",\"plot_bgcolor\":\"#F5F6F9\",\"template\":{\"data\":{\"bar\":[{\"error_x\":{\"color\":\"#2a3f5f\"},\"error_y\":{\"color\":\"#2a3f5f\"},\"marker\":{\"line\":{\"color\":\"#E5ECF6\",\"width\":0.5},\"pattern\":{\"fillmode\":\"overlay\",\"size\":10,\"solidity\":0.2}},\"type\":\"bar\"}],\"barpolar\":[{\"marker\":{\"line\":{\"color\":\"#E5ECF6\",\"width\":0.5},\"pattern\":{\"fillmode\":\"overlay\",\"size\":10,\"solidity\":0.2}},\"type\":\"barpolar\"}],\"carpet\":[{\"aaxis\":{\"endlinecolor\":\"#2a3f5f\",\"gridcolor\":\"white\",\"linecolor\":\"white\",\"minorgridcolor\":\"white\",\"startlinecolor\":\"#2a3f5f\"},\"baxis\":{\"endlinecolor\":\"#2a3f5f\",\"gridcolor\":\"white\",\"linecolor\":\"white\",\"minorgridcolor\":\"white\",\"startlinecolor\":\"#2a3f5f\"},\"type\":\"carpet\"}],\"choropleth\":[{\"colorbar\":{\"outlinewidth\":0,\"ticks\":\"\"},\"type\":\"choropleth\"}],\"contour\":[{\"colorbar\":{\"outlinewidth\":0,\"ticks\":\"\"},\"colorscale\":[[0.0,\"#0d0887\"],[0.1111111111111111,\"#46039f\"],[0.2222222222222222,\"#7201a8\"],[0.3333333333333333,\"#9c179e\"],[0.4444444444444444,\"#bd3786\"],[0.5555555555555556,\"#d8576b\"],[0.6666666666666666,\"#ed7953\"],[0.7777777777777778,\"#fb9f3a\"],[0.8888888888888888,\"#fdca26\"],[1.0,\"#f0f921\"]],\"type\":\"contour\"}],\"contourcarpet\":[{\"colorbar\":{\"outlinewidth\":0,\"ticks\":\"\"},\"type\":\"contourcarpet\"}],\"heatmap\":[{\"colorbar\":{\"outlinewidth\":0,\"ticks\":\"\"},\"colorscale\":[[0.0,\"#0d0887\"],[0.1111111111111111,\"#46039f\"],[0.2222222222222222,\"#7201a8\"],[0.3333333333333333,\"#9c179e\"],[0.4444444444444444,\"#bd3786\"],[0.5555555555555556,\"#d8576b\"],[0.6666666666666666,\"#ed7953\"],[0.7777777777777778,\"#fb9f3a\"],[0.8888888888888888,\"#fdca26\"],[1.0,\"#f0f921\"]],\"type\":\"heatmap\"}],\"heatmapgl\":[{\"colorbar\":{\"outlinewidth\":0,\"ticks\":\"\"},\"colorscale\":[[0.0,\"#0d0887\"],[0.1111111111111111,\"#46039f\"],[0.2222222222222222,\"#7201a8\"],[0.3333333333333333,\"#9c179e\"],[0.4444444444444444,\"#bd3786\"],[0.5555555555555556,\"#d8576b\"],[0.6666666666666666,\"#ed7953\"],[0.7777777777777778,\"#fb9f3a\"],[0.8888888888888888,\"#fdca26\"],[1.0,\"#f0f921\"]],\"type\":\"heatmapgl\"}],\"histogram\":[{\"marker\":{\"pattern\":{\"fillmode\":\"overlay\",\"size\":10,\"solidity\":0.2}},\"type\":\"histogram\"}],\"histogram2d\":[{\"colorbar\":{\"outlinewidth\":0,\"ticks\":\"\"},\"colorscale\":[[0.0,\"#0d0887\"],[0.1111111111111111,\"#46039f\"],[0.2222222222222222,\"#7201a8\"],[0.3333333333333333,\"#9c179e\"],[0.4444444444444444,\"#bd3786\"],[0.5555555555555556,\"#d8576b\"],[0.6666666666666666,\"#ed7953\"],[0.7777777777777778,\"#fb9f3a\"],[0.8888888888888888,\"#fdca26\"],[1.0,\"#f0f921\"]],\"type\":\"histogram2d\"}],\"histogram2dcontour\":[{\"colorbar\":{\"outlinewidth\":0,\"ticks\":\"\"},\"colorscale\":[[0.0,\"#0d0887\"],[0.1111111111111111,\"#46039f\"],[0.2222222222222222,\"#7201a8\"],[0.3333333333333333,\"#9c179e\"],[0.4444444444444444,\"#bd3786\"],[0.5555555555555556,\"#d8576b\"],[0.6666666666666666,\"#ed7953\"],[0.7777777777777778,\"#fb9f3a\"],[0.8888888888888888,\"#fdca26\"],[1.0,\"#f0f921\"]],\"type\":\"histogram2dcontour\"}],\"mesh3d\":[{\"colorbar\":{\"outlinewidth\":0,\"ticks\":\"\"},\"type\":\"mesh3d\"}],\"parcoords\":[{\"line\":{\"colorbar\":{\"outlinewidth\":0,\"ticks\":\"\"}},\"type\":\"parcoords\"}],\"pie\":[{\"automargin\":true,\"type\":\"pie\"}],\"scatter\":[{\"marker\":{\"colorbar\":{\"outlinewidth\":0,\"ticks\":\"\"}},\"type\":\"scatter\"}],\"scatter3d\":[{\"line\":{\"colorbar\":{\"outlinewidth\":0,\"ticks\":\"\"}},\"marker\":{\"colorbar\":{\"outlinewidth\":0,\"ticks\":\"\"}},\"type\":\"scatter3d\"}],\"scattercarpet\":[{\"marker\":{\"colorbar\":{\"outlinewidth\":0,\"ticks\":\"\"}},\"type\":\"scattercarpet\"}],\"scattergeo\":[{\"marker\":{\"colorbar\":{\"outlinewidth\":0,\"ticks\":\"\"}},\"type\":\"scattergeo\"}],\"scattergl\":[{\"marker\":{\"colorbar\":{\"outlinewidth\":0,\"ticks\":\"\"}},\"type\":\"scattergl\"}],\"scattermapbox\":[{\"marker\":{\"colorbar\":{\"outlinewidth\":0,\"ticks\":\"\"}},\"type\":\"scattermapbox\"}],\"scatterpolar\":[{\"marker\":{\"colorbar\":{\"outlinewidth\":0,\"ticks\":\"\"}},\"type\":\"scatterpolar\"}],\"scatterpolargl\":[{\"marker\":{\"colorbar\":{\"outlinewidth\":0,\"ticks\":\"\"}},\"type\":\"scatterpolargl\"}],\"scatterternary\":[{\"marker\":{\"colorbar\":{\"outlinewidth\":0,\"ticks\":\"\"}},\"type\":\"scatterternary\"}],\"surface\":[{\"colorbar\":{\"outlinewidth\":0,\"ticks\":\"\"},\"colorscale\":[[0.0,\"#0d0887\"],[0.1111111111111111,\"#46039f\"],[0.2222222222222222,\"#7201a8\"],[0.3333333333333333,\"#9c179e\"],[0.4444444444444444,\"#bd3786\"],[0.5555555555555556,\"#d8576b\"],[0.6666666666666666,\"#ed7953\"],[0.7777777777777778,\"#fb9f3a\"],[0.8888888888888888,\"#fdca26\"],[1.0,\"#f0f921\"]],\"type\":\"surface\"}],\"table\":[{\"cells\":{\"fill\":{\"color\":\"#EBF0F8\"},\"line\":{\"color\":\"white\"}},\"header\":{\"fill\":{\"color\":\"#C8D4E3\"},\"line\":{\"color\":\"white\"}},\"type\":\"table\"}]},\"layout\":{\"annotationdefaults\":{\"arrowcolor\":\"#2a3f5f\",\"arrowhead\":0,\"arrowwidth\":1},\"autotypenumbers\":\"strict\",\"coloraxis\":{\"colorbar\":{\"outlinewidth\":0,\"ticks\":\"\"}},\"colorscale\":{\"diverging\":[[0,\"#8e0152\"],[0.1,\"#c51b7d\"],[0.2,\"#de77ae\"],[0.3,\"#f1b6da\"],[0.4,\"#fde0ef\"],[0.5,\"#f7f7f7\"],[0.6,\"#e6f5d0\"],[0.7,\"#b8e186\"],[0.8,\"#7fbc41\"],[0.9,\"#4d9221\"],[1,\"#276419\"]],\"sequential\":[[0.0,\"#0d0887\"],[0.1111111111111111,\"#46039f\"],[0.2222222222222222,\"#7201a8\"],[0.3333333333333333,\"#9c179e\"],[0.4444444444444444,\"#bd3786\"],[0.5555555555555556,\"#d8576b\"],[0.6666666666666666,\"#ed7953\"],[0.7777777777777778,\"#fb9f3a\"],[0.8888888888888888,\"#fdca26\"],[1.0,\"#f0f921\"]],\"sequentialminus\":[[0.0,\"#0d0887\"],[0.1111111111111111,\"#46039f\"],[0.2222222222222222,\"#7201a8\"],[0.3333333333333333,\"#9c179e\"],[0.4444444444444444,\"#bd3786\"],[0.5555555555555556,\"#d8576b\"],[0.6666666666666666,\"#ed7953\"],[0.7777777777777778,\"#fb9f3a\"],[0.8888888888888888,\"#fdca26\"],[1.0,\"#f0f921\"]]},\"colorway\":[\"#636efa\",\"#EF553B\",\"#00cc96\",\"#ab63fa\",\"#FFA15A\",\"#19d3f3\",\"#FF6692\",\"#B6E880\",\"#FF97FF\",\"#FECB52\"],\"font\":{\"color\":\"#2a3f5f\"},\"geo\":{\"bgcolor\":\"white\",\"lakecolor\":\"white\",\"landcolor\":\"#E5ECF6\",\"showlakes\":true,\"showland\":true,\"subunitcolor\":\"white\"},\"hoverlabel\":{\"align\":\"left\"},\"hovermode\":\"closest\",\"mapbox\":{\"style\":\"light\"},\"paper_bgcolor\":\"white\",\"plot_bgcolor\":\"#E5ECF6\",\"polar\":{\"angularaxis\":{\"gridcolor\":\"white\",\"linecolor\":\"white\",\"ticks\":\"\"},\"bgcolor\":\"#E5ECF6\",\"radialaxis\":{\"gridcolor\":\"white\",\"linecolor\":\"white\",\"ticks\":\"\"}},\"scene\":{\"xaxis\":{\"backgroundcolor\":\"#E5ECF6\",\"gridcolor\":\"white\",\"gridwidth\":2,\"linecolor\":\"white\",\"showbackground\":true,\"ticks\":\"\",\"zerolinecolor\":\"white\"},\"yaxis\":{\"backgroundcolor\":\"#E5ECF6\",\"gridcolor\":\"white\",\"gridwidth\":2,\"linecolor\":\"white\",\"showbackground\":true,\"ticks\":\"\",\"zerolinecolor\":\"white\"},\"zaxis\":{\"backgroundcolor\":\"#E5ECF6\",\"gridcolor\":\"white\",\"gridwidth\":2,\"linecolor\":\"white\",\"showbackground\":true,\"ticks\":\"\",\"zerolinecolor\":\"white\"}},\"shapedefaults\":{\"line\":{\"color\":\"#2a3f5f\"}},\"ternary\":{\"aaxis\":{\"gridcolor\":\"white\",\"linecolor\":\"white\",\"ticks\":\"\"},\"baxis\":{\"gridcolor\":\"white\",\"linecolor\":\"white\",\"ticks\":\"\"},\"bgcolor\":\"#E5ECF6\",\"caxis\":{\"gridcolor\":\"white\",\"linecolor\":\"white\",\"ticks\":\"\"}},\"title\":{\"x\":0.05},\"xaxis\":{\"automargin\":true,\"gridcolor\":\"white\",\"linecolor\":\"white\",\"ticks\":\"\",\"title\":{\"standoff\":15},\"zerolinecolor\":\"white\",\"zerolinewidth\":2},\"yaxis\":{\"automargin\":true,\"gridcolor\":\"white\",\"linecolor\":\"white\",\"ticks\":\"\",\"title\":{\"standoff\":15},\"zerolinecolor\":\"white\",\"zerolinewidth\":2}}},\"title\":{\"font\":{\"color\":\"#4D5663\"},\"text\":\"Top 100 words after removing stop words\"},\"xaxis\":{\"gridcolor\":\"#E1E5ED\",\"linecolor\":\"black\",\"showgrid\":true,\"tickfont\":{\"color\":\"#4D5663\"},\"title\":{\"font\":{\"color\":\"#4D5663\"},\"text\":\"\"},\"zerolinecolor\":\"#E1E5ED\"},\"yaxis\":{\"gridcolor\":\"#E1E5ED\",\"linecolor\":\"black\",\"showgrid\":true,\"tickfont\":{\"color\":\"#4D5663\"},\"title\":{\"font\":{\"color\":\"#4D5663\"},\"text\":\"Count\"},\"zerolinecolor\":\"#E1E5ED\"}},                        {\"showLink\": true, \"linkText\": \"Export to plot.ly\", \"plotlyServerURL\": \"https://plot.ly\", \"responsive\": true}                    ).then(function(){\n",
       "                            \n",
       "var gd = document.getElementById('245618d8-d11c-4ad1-836c-7e951f9f1670');\n",
       "var x = new MutationObserver(function (mutations, observer) {{\n",
       "        var display = window.getComputedStyle(gd).display;\n",
       "        if (!display || display === 'none') {{\n",
       "            console.log([gd, 'removed!']);\n",
       "            Plotly.purge(gd);\n",
       "            observer.disconnect();\n",
       "        }}\n",
       "}});\n",
       "\n",
       "// Listen for the removal of the full notebook cells\n",
       "var notebookContainer = gd.closest('#notebook-container');\n",
       "if (notebookContainer) {{\n",
       "    x.observe(notebookContainer, {childList: true});\n",
       "}}\n",
       "\n",
       "// Listen for the clearing of the current output cell\n",
       "var outputEl = gd.closest('.output');\n",
       "if (outputEl) {{\n",
       "    x.observe(outputEl, {childList: true});\n",
       "}}\n",
       "\n",
       "                        })                };                });            </script>        </div>"
      ]
     },
     "metadata": {},
     "output_type": "display_data"
    }
   ],
   "source": [
    "plot_model()"
   ]
  },
  {
   "cell_type": "markdown",
   "metadata": {},
   "source": [
    "###  Top 100 Bigrams on Entire Corpus"
   ]
  },
  {
   "cell_type": "code",
   "execution_count": 12,
   "metadata": {},
   "outputs": [
    {
     "data": {
      "text/html": [
       "        <script type=\"text/javascript\">\n",
       "        window.PlotlyConfig = {MathJaxConfig: 'local'};\n",
       "        if (window.MathJax) {MathJax.Hub.Config({SVG: {font: \"STIX-Web\"}});}\n",
       "        if (typeof require !== 'undefined') {\n",
       "        require.undef(\"plotly\");\n",
       "        requirejs.config({\n",
       "            paths: {\n",
       "                'plotly': ['https://cdn.plot.ly/plotly-2.2.0.min']\n",
       "            }\n",
       "        });\n",
       "        require(['plotly'], function(Plotly) {\n",
       "            window._Plotly = Plotly;\n",
       "        });\n",
       "        }\n",
       "        </script>\n",
       "        "
      ]
     },
     "metadata": {},
     "output_type": "display_data"
    },
    {
     "data": {
      "application/vnd.plotly.v1+json": {
       "config": {
        "linkText": "Export to plot.ly",
        "plotlyServerURL": "https://plot.ly",
        "showLink": true
       },
       "data": [
        {
         "marker": {
          "color": "rgba(255, 153, 51, 0.6)",
          "line": {
           "color": "rgba(255, 153, 51, 1.0)",
           "width": 1
          }
         },
         "name": "count",
         "orientation": "v",
         "text": "",
         "type": "bar",
         "x": [
          "year old",
          "request loan",
          "start business",
          "year ago",
          "loan buy",
          "marry child",
          "expand business",
          "use loan",
          "repay loan",
          "business year",
          "school fee",
          "child school",
          "loan use",
          "business sell",
          "old married",
          "old child",
          "second loan",
          "work hard",
          "married child",
          "loan purchase",
          "first loan",
          "primary school",
          "mother child",
          "small business",
          "hard work",
          "educate child",
          "business able",
          "pay school",
          "use buy",
          "old marry",
          "increase stock",
          "secondary school",
          "increase income",
          "loan able",
          "child live",
          "loan order",
          "last year",
          "business grow",
          "need loan",
          "start small",
          "training_educational_programs_information microfinance_ecuador_services_please",
          "husband work",
          "business training_educational_programs_information",
          "woman group",
          "support family",
          "help business",
          "mifex_org_www_mifex org",
          "microfinance_ecuador_services_please mifex_org_www_mifex",
          "year experience",
          "group member",
          "start sell",
          "able buy",
          "husband child",
          "run business",
          "farmer also",
          "operate business",
          "also sell",
          "sell product",
          "child age",
          "able repay",
          "business help",
          "sell clothing",
          "child child",
          "begin business",
          "provide family",
          "loan usd",
          "live husband",
          "high school",
          "give loan",
          "loan help",
          "apply loan",
          "receive loan",
          "go school",
          "loan intend",
          "member group",
          "rice farmer",
          "loan risk_willing_accept_additional",
          "communities_remains_unsettled_affecte many",
          "kenya_security_situation_many communities_remains_unsettled_affecte",
          "risk_making loan",
          "attend school",
          "person group",
          "many local_businesses_lender",
          "local_businesses_lender loan",
          "risk_willing_accept_additional risk_making",
          "fee child",
          "child primary",
          "able provide",
          "business well",
          "loan invest",
          "loan month",
          "run small",
          "old mother",
          "grow business",
          "child also",
          "well life",
          "high demand",
          "business loan",
          "plan use",
          "loan together"
         ],
         "y": [
          491,
          182,
          171,
          160,
          150,
          148,
          148,
          140,
          123,
          112,
          105,
          99,
          95,
          93,
          93,
          92,
          74,
          70,
          70,
          69,
          68,
          66,
          65,
          63,
          60,
          60,
          59,
          58,
          56,
          54,
          53,
          52,
          52,
          51,
          51,
          50,
          47,
          47,
          47,
          46,
          46,
          46,
          46,
          46,
          45,
          44,
          44,
          44,
          44,
          44,
          44,
          43,
          43,
          42,
          42,
          42,
          41,
          41,
          40,
          40,
          40,
          40,
          39,
          38,
          37,
          37,
          37,
          36,
          36,
          36,
          35,
          35,
          35,
          34,
          34,
          33,
          32,
          32,
          32,
          32,
          32,
          32,
          32,
          32,
          32,
          31,
          31,
          31,
          30,
          30,
          30,
          29,
          29,
          29,
          28,
          28,
          28,
          27,
          27,
          27
         ]
        }
       ],
       "layout": {
        "legend": {
         "bgcolor": "#F5F6F9",
         "font": {
          "color": "#4D5663"
         }
        },
        "paper_bgcolor": "#F5F6F9",
        "plot_bgcolor": "#F5F6F9",
        "template": {
         "data": {
          "bar": [
           {
            "error_x": {
             "color": "#2a3f5f"
            },
            "error_y": {
             "color": "#2a3f5f"
            },
            "marker": {
             "line": {
              "color": "#E5ECF6",
              "width": 0.5
             },
             "pattern": {
              "fillmode": "overlay",
              "size": 10,
              "solidity": 0.2
             }
            },
            "type": "bar"
           }
          ],
          "barpolar": [
           {
            "marker": {
             "line": {
              "color": "#E5ECF6",
              "width": 0.5
             },
             "pattern": {
              "fillmode": "overlay",
              "size": 10,
              "solidity": 0.2
             }
            },
            "type": "barpolar"
           }
          ],
          "carpet": [
           {
            "aaxis": {
             "endlinecolor": "#2a3f5f",
             "gridcolor": "white",
             "linecolor": "white",
             "minorgridcolor": "white",
             "startlinecolor": "#2a3f5f"
            },
            "baxis": {
             "endlinecolor": "#2a3f5f",
             "gridcolor": "white",
             "linecolor": "white",
             "minorgridcolor": "white",
             "startlinecolor": "#2a3f5f"
            },
            "type": "carpet"
           }
          ],
          "choropleth": [
           {
            "colorbar": {
             "outlinewidth": 0,
             "ticks": ""
            },
            "type": "choropleth"
           }
          ],
          "contour": [
           {
            "colorbar": {
             "outlinewidth": 0,
             "ticks": ""
            },
            "colorscale": [
             [
              0,
              "#0d0887"
             ],
             [
              0.1111111111111111,
              "#46039f"
             ],
             [
              0.2222222222222222,
              "#7201a8"
             ],
             [
              0.3333333333333333,
              "#9c179e"
             ],
             [
              0.4444444444444444,
              "#bd3786"
             ],
             [
              0.5555555555555556,
              "#d8576b"
             ],
             [
              0.6666666666666666,
              "#ed7953"
             ],
             [
              0.7777777777777778,
              "#fb9f3a"
             ],
             [
              0.8888888888888888,
              "#fdca26"
             ],
             [
              1,
              "#f0f921"
             ]
            ],
            "type": "contour"
           }
          ],
          "contourcarpet": [
           {
            "colorbar": {
             "outlinewidth": 0,
             "ticks": ""
            },
            "type": "contourcarpet"
           }
          ],
          "heatmap": [
           {
            "colorbar": {
             "outlinewidth": 0,
             "ticks": ""
            },
            "colorscale": [
             [
              0,
              "#0d0887"
             ],
             [
              0.1111111111111111,
              "#46039f"
             ],
             [
              0.2222222222222222,
              "#7201a8"
             ],
             [
              0.3333333333333333,
              "#9c179e"
             ],
             [
              0.4444444444444444,
              "#bd3786"
             ],
             [
              0.5555555555555556,
              "#d8576b"
             ],
             [
              0.6666666666666666,
              "#ed7953"
             ],
             [
              0.7777777777777778,
              "#fb9f3a"
             ],
             [
              0.8888888888888888,
              "#fdca26"
             ],
             [
              1,
              "#f0f921"
             ]
            ],
            "type": "heatmap"
           }
          ],
          "heatmapgl": [
           {
            "colorbar": {
             "outlinewidth": 0,
             "ticks": ""
            },
            "colorscale": [
             [
              0,
              "#0d0887"
             ],
             [
              0.1111111111111111,
              "#46039f"
             ],
             [
              0.2222222222222222,
              "#7201a8"
             ],
             [
              0.3333333333333333,
              "#9c179e"
             ],
             [
              0.4444444444444444,
              "#bd3786"
             ],
             [
              0.5555555555555556,
              "#d8576b"
             ],
             [
              0.6666666666666666,
              "#ed7953"
             ],
             [
              0.7777777777777778,
              "#fb9f3a"
             ],
             [
              0.8888888888888888,
              "#fdca26"
             ],
             [
              1,
              "#f0f921"
             ]
            ],
            "type": "heatmapgl"
           }
          ],
          "histogram": [
           {
            "marker": {
             "pattern": {
              "fillmode": "overlay",
              "size": 10,
              "solidity": 0.2
             }
            },
            "type": "histogram"
           }
          ],
          "histogram2d": [
           {
            "colorbar": {
             "outlinewidth": 0,
             "ticks": ""
            },
            "colorscale": [
             [
              0,
              "#0d0887"
             ],
             [
              0.1111111111111111,
              "#46039f"
             ],
             [
              0.2222222222222222,
              "#7201a8"
             ],
             [
              0.3333333333333333,
              "#9c179e"
             ],
             [
              0.4444444444444444,
              "#bd3786"
             ],
             [
              0.5555555555555556,
              "#d8576b"
             ],
             [
              0.6666666666666666,
              "#ed7953"
             ],
             [
              0.7777777777777778,
              "#fb9f3a"
             ],
             [
              0.8888888888888888,
              "#fdca26"
             ],
             [
              1,
              "#f0f921"
             ]
            ],
            "type": "histogram2d"
           }
          ],
          "histogram2dcontour": [
           {
            "colorbar": {
             "outlinewidth": 0,
             "ticks": ""
            },
            "colorscale": [
             [
              0,
              "#0d0887"
             ],
             [
              0.1111111111111111,
              "#46039f"
             ],
             [
              0.2222222222222222,
              "#7201a8"
             ],
             [
              0.3333333333333333,
              "#9c179e"
             ],
             [
              0.4444444444444444,
              "#bd3786"
             ],
             [
              0.5555555555555556,
              "#d8576b"
             ],
             [
              0.6666666666666666,
              "#ed7953"
             ],
             [
              0.7777777777777778,
              "#fb9f3a"
             ],
             [
              0.8888888888888888,
              "#fdca26"
             ],
             [
              1,
              "#f0f921"
             ]
            ],
            "type": "histogram2dcontour"
           }
          ],
          "mesh3d": [
           {
            "colorbar": {
             "outlinewidth": 0,
             "ticks": ""
            },
            "type": "mesh3d"
           }
          ],
          "parcoords": [
           {
            "line": {
             "colorbar": {
              "outlinewidth": 0,
              "ticks": ""
             }
            },
            "type": "parcoords"
           }
          ],
          "pie": [
           {
            "automargin": true,
            "type": "pie"
           }
          ],
          "scatter": [
           {
            "marker": {
             "colorbar": {
              "outlinewidth": 0,
              "ticks": ""
             }
            },
            "type": "scatter"
           }
          ],
          "scatter3d": [
           {
            "line": {
             "colorbar": {
              "outlinewidth": 0,
              "ticks": ""
             }
            },
            "marker": {
             "colorbar": {
              "outlinewidth": 0,
              "ticks": ""
             }
            },
            "type": "scatter3d"
           }
          ],
          "scattercarpet": [
           {
            "marker": {
             "colorbar": {
              "outlinewidth": 0,
              "ticks": ""
             }
            },
            "type": "scattercarpet"
           }
          ],
          "scattergeo": [
           {
            "marker": {
             "colorbar": {
              "outlinewidth": 0,
              "ticks": ""
             }
            },
            "type": "scattergeo"
           }
          ],
          "scattergl": [
           {
            "marker": {
             "colorbar": {
              "outlinewidth": 0,
              "ticks": ""
             }
            },
            "type": "scattergl"
           }
          ],
          "scattermapbox": [
           {
            "marker": {
             "colorbar": {
              "outlinewidth": 0,
              "ticks": ""
             }
            },
            "type": "scattermapbox"
           }
          ],
          "scatterpolar": [
           {
            "marker": {
             "colorbar": {
              "outlinewidth": 0,
              "ticks": ""
             }
            },
            "type": "scatterpolar"
           }
          ],
          "scatterpolargl": [
           {
            "marker": {
             "colorbar": {
              "outlinewidth": 0,
              "ticks": ""
             }
            },
            "type": "scatterpolargl"
           }
          ],
          "scatterternary": [
           {
            "marker": {
             "colorbar": {
              "outlinewidth": 0,
              "ticks": ""
             }
            },
            "type": "scatterternary"
           }
          ],
          "surface": [
           {
            "colorbar": {
             "outlinewidth": 0,
             "ticks": ""
            },
            "colorscale": [
             [
              0,
              "#0d0887"
             ],
             [
              0.1111111111111111,
              "#46039f"
             ],
             [
              0.2222222222222222,
              "#7201a8"
             ],
             [
              0.3333333333333333,
              "#9c179e"
             ],
             [
              0.4444444444444444,
              "#bd3786"
             ],
             [
              0.5555555555555556,
              "#d8576b"
             ],
             [
              0.6666666666666666,
              "#ed7953"
             ],
             [
              0.7777777777777778,
              "#fb9f3a"
             ],
             [
              0.8888888888888888,
              "#fdca26"
             ],
             [
              1,
              "#f0f921"
             ]
            ],
            "type": "surface"
           }
          ],
          "table": [
           {
            "cells": {
             "fill": {
              "color": "#EBF0F8"
             },
             "line": {
              "color": "white"
             }
            },
            "header": {
             "fill": {
              "color": "#C8D4E3"
             },
             "line": {
              "color": "white"
             }
            },
            "type": "table"
           }
          ]
         },
         "layout": {
          "annotationdefaults": {
           "arrowcolor": "#2a3f5f",
           "arrowhead": 0,
           "arrowwidth": 1
          },
          "autotypenumbers": "strict",
          "coloraxis": {
           "colorbar": {
            "outlinewidth": 0,
            "ticks": ""
           }
          },
          "colorscale": {
           "diverging": [
            [
             0,
             "#8e0152"
            ],
            [
             0.1,
             "#c51b7d"
            ],
            [
             0.2,
             "#de77ae"
            ],
            [
             0.3,
             "#f1b6da"
            ],
            [
             0.4,
             "#fde0ef"
            ],
            [
             0.5,
             "#f7f7f7"
            ],
            [
             0.6,
             "#e6f5d0"
            ],
            [
             0.7,
             "#b8e186"
            ],
            [
             0.8,
             "#7fbc41"
            ],
            [
             0.9,
             "#4d9221"
            ],
            [
             1,
             "#276419"
            ]
           ],
           "sequential": [
            [
             0,
             "#0d0887"
            ],
            [
             0.1111111111111111,
             "#46039f"
            ],
            [
             0.2222222222222222,
             "#7201a8"
            ],
            [
             0.3333333333333333,
             "#9c179e"
            ],
            [
             0.4444444444444444,
             "#bd3786"
            ],
            [
             0.5555555555555556,
             "#d8576b"
            ],
            [
             0.6666666666666666,
             "#ed7953"
            ],
            [
             0.7777777777777778,
             "#fb9f3a"
            ],
            [
             0.8888888888888888,
             "#fdca26"
            ],
            [
             1,
             "#f0f921"
            ]
           ],
           "sequentialminus": [
            [
             0,
             "#0d0887"
            ],
            [
             0.1111111111111111,
             "#46039f"
            ],
            [
             0.2222222222222222,
             "#7201a8"
            ],
            [
             0.3333333333333333,
             "#9c179e"
            ],
            [
             0.4444444444444444,
             "#bd3786"
            ],
            [
             0.5555555555555556,
             "#d8576b"
            ],
            [
             0.6666666666666666,
             "#ed7953"
            ],
            [
             0.7777777777777778,
             "#fb9f3a"
            ],
            [
             0.8888888888888888,
             "#fdca26"
            ],
            [
             1,
             "#f0f921"
            ]
           ]
          },
          "colorway": [
           "#636efa",
           "#EF553B",
           "#00cc96",
           "#ab63fa",
           "#FFA15A",
           "#19d3f3",
           "#FF6692",
           "#B6E880",
           "#FF97FF",
           "#FECB52"
          ],
          "font": {
           "color": "#2a3f5f"
          },
          "geo": {
           "bgcolor": "white",
           "lakecolor": "white",
           "landcolor": "#E5ECF6",
           "showlakes": true,
           "showland": true,
           "subunitcolor": "white"
          },
          "hoverlabel": {
           "align": "left"
          },
          "hovermode": "closest",
          "mapbox": {
           "style": "light"
          },
          "paper_bgcolor": "white",
          "plot_bgcolor": "#E5ECF6",
          "polar": {
           "angularaxis": {
            "gridcolor": "white",
            "linecolor": "white",
            "ticks": ""
           },
           "bgcolor": "#E5ECF6",
           "radialaxis": {
            "gridcolor": "white",
            "linecolor": "white",
            "ticks": ""
           }
          },
          "scene": {
           "xaxis": {
            "backgroundcolor": "#E5ECF6",
            "gridcolor": "white",
            "gridwidth": 2,
            "linecolor": "white",
            "showbackground": true,
            "ticks": "",
            "zerolinecolor": "white"
           },
           "yaxis": {
            "backgroundcolor": "#E5ECF6",
            "gridcolor": "white",
            "gridwidth": 2,
            "linecolor": "white",
            "showbackground": true,
            "ticks": "",
            "zerolinecolor": "white"
           },
           "zaxis": {
            "backgroundcolor": "#E5ECF6",
            "gridcolor": "white",
            "gridwidth": 2,
            "linecolor": "white",
            "showbackground": true,
            "ticks": "",
            "zerolinecolor": "white"
           }
          },
          "shapedefaults": {
           "line": {
            "color": "#2a3f5f"
           }
          },
          "ternary": {
           "aaxis": {
            "gridcolor": "white",
            "linecolor": "white",
            "ticks": ""
           },
           "baxis": {
            "gridcolor": "white",
            "linecolor": "white",
            "ticks": ""
           },
           "bgcolor": "#E5ECF6",
           "caxis": {
            "gridcolor": "white",
            "linecolor": "white",
            "ticks": ""
           }
          },
          "title": {
           "x": 0.05
          },
          "xaxis": {
           "automargin": true,
           "gridcolor": "white",
           "linecolor": "white",
           "ticks": "",
           "title": {
            "standoff": 15
           },
           "zerolinecolor": "white",
           "zerolinewidth": 2
          },
          "yaxis": {
           "automargin": true,
           "gridcolor": "white",
           "linecolor": "white",
           "ticks": "",
           "title": {
            "standoff": 15
           },
           "zerolinecolor": "white",
           "zerolinewidth": 2
          }
         }
        },
        "title": {
         "font": {
          "color": "#4D5663"
         },
         "text": "Top 100 bigrams after removing stop words"
        },
        "xaxis": {
         "gridcolor": "#E1E5ED",
         "linecolor": "black",
         "showgrid": true,
         "tickfont": {
          "color": "#4D5663"
         },
         "title": {
          "font": {
           "color": "#4D5663"
          },
          "text": ""
         },
         "zerolinecolor": "#E1E5ED"
        },
        "yaxis": {
         "gridcolor": "#E1E5ED",
         "linecolor": "black",
         "showgrid": true,
         "tickfont": {
          "color": "#4D5663"
         },
         "title": {
          "font": {
           "color": "#4D5663"
          },
          "text": "Count"
         },
         "zerolinecolor": "#E1E5ED"
        }
       }
      },
      "text/html": [
       "<div>                            <div id=\"816a6400-0dc4-4e42-a591-d35bbbed6ba5\" class=\"plotly-graph-div\" style=\"height:525px; width:100%;\"></div>            <script type=\"text/javascript\">                require([\"plotly\"], function(Plotly) {                    window.PLOTLYENV=window.PLOTLYENV || {};\n",
       "                    window.PLOTLYENV.BASE_URL='https://plot.ly';                                    if (document.getElementById(\"816a6400-0dc4-4e42-a591-d35bbbed6ba5\")) {                    Plotly.newPlot(                        \"816a6400-0dc4-4e42-a591-d35bbbed6ba5\",                        [{\"marker\":{\"color\":\"rgba(255, 153, 51, 0.6)\",\"line\":{\"color\":\"rgba(255, 153, 51, 1.0)\",\"width\":1}},\"name\":\"count\",\"orientation\":\"v\",\"text\":\"\",\"type\":\"bar\",\"x\":[\"year old\",\"request loan\",\"start business\",\"year ago\",\"loan buy\",\"marry child\",\"expand business\",\"use loan\",\"repay loan\",\"business year\",\"school fee\",\"child school\",\"loan use\",\"business sell\",\"old married\",\"old child\",\"second loan\",\"work hard\",\"married child\",\"loan purchase\",\"first loan\",\"primary school\",\"mother child\",\"small business\",\"hard work\",\"educate child\",\"business able\",\"pay school\",\"use buy\",\"old marry\",\"increase stock\",\"secondary school\",\"increase income\",\"loan able\",\"child live\",\"loan order\",\"last year\",\"business grow\",\"need loan\",\"start small\",\"training_educational_programs_information microfinance_ecuador_services_please\",\"husband work\",\"business training_educational_programs_information\",\"woman group\",\"support family\",\"help business\",\"mifex_org_www_mifex org\",\"microfinance_ecuador_services_please mifex_org_www_mifex\",\"year experience\",\"group member\",\"start sell\",\"able buy\",\"husband child\",\"run business\",\"farmer also\",\"operate business\",\"also sell\",\"sell product\",\"child age\",\"able repay\",\"business help\",\"sell clothing\",\"child child\",\"begin business\",\"provide family\",\"loan usd\",\"live husband\",\"high school\",\"give loan\",\"loan help\",\"apply loan\",\"receive loan\",\"go school\",\"loan intend\",\"member group\",\"rice farmer\",\"loan risk_willing_accept_additional\",\"communities_remains_unsettled_affecte many\",\"kenya_security_situation_many communities_remains_unsettled_affecte\",\"risk_making loan\",\"attend school\",\"person group\",\"many local_businesses_lender\",\"local_businesses_lender loan\",\"risk_willing_accept_additional risk_making\",\"fee child\",\"child primary\",\"able provide\",\"business well\",\"loan invest\",\"loan month\",\"run small\",\"old mother\",\"grow business\",\"child also\",\"well life\",\"high demand\",\"business loan\",\"plan use\",\"loan together\"],\"y\":[491,182,171,160,150,148,148,140,123,112,105,99,95,93,93,92,74,70,70,69,68,66,65,63,60,60,59,58,56,54,53,52,52,51,51,50,47,47,47,46,46,46,46,46,45,44,44,44,44,44,44,43,43,42,42,42,41,41,40,40,40,40,39,38,37,37,37,36,36,36,35,35,35,34,34,33,32,32,32,32,32,32,32,32,32,31,31,31,30,30,30,29,29,29,28,28,28,27,27,27]}],                        {\"legend\":{\"bgcolor\":\"#F5F6F9\",\"font\":{\"color\":\"#4D5663\"}},\"paper_bgcolor\":\"#F5F6F9\",\"plot_bgcolor\":\"#F5F6F9\",\"template\":{\"data\":{\"bar\":[{\"error_x\":{\"color\":\"#2a3f5f\"},\"error_y\":{\"color\":\"#2a3f5f\"},\"marker\":{\"line\":{\"color\":\"#E5ECF6\",\"width\":0.5},\"pattern\":{\"fillmode\":\"overlay\",\"size\":10,\"solidity\":0.2}},\"type\":\"bar\"}],\"barpolar\":[{\"marker\":{\"line\":{\"color\":\"#E5ECF6\",\"width\":0.5},\"pattern\":{\"fillmode\":\"overlay\",\"size\":10,\"solidity\":0.2}},\"type\":\"barpolar\"}],\"carpet\":[{\"aaxis\":{\"endlinecolor\":\"#2a3f5f\",\"gridcolor\":\"white\",\"linecolor\":\"white\",\"minorgridcolor\":\"white\",\"startlinecolor\":\"#2a3f5f\"},\"baxis\":{\"endlinecolor\":\"#2a3f5f\",\"gridcolor\":\"white\",\"linecolor\":\"white\",\"minorgridcolor\":\"white\",\"startlinecolor\":\"#2a3f5f\"},\"type\":\"carpet\"}],\"choropleth\":[{\"colorbar\":{\"outlinewidth\":0,\"ticks\":\"\"},\"type\":\"choropleth\"}],\"contour\":[{\"colorbar\":{\"outlinewidth\":0,\"ticks\":\"\"},\"colorscale\":[[0.0,\"#0d0887\"],[0.1111111111111111,\"#46039f\"],[0.2222222222222222,\"#7201a8\"],[0.3333333333333333,\"#9c179e\"],[0.4444444444444444,\"#bd3786\"],[0.5555555555555556,\"#d8576b\"],[0.6666666666666666,\"#ed7953\"],[0.7777777777777778,\"#fb9f3a\"],[0.8888888888888888,\"#fdca26\"],[1.0,\"#f0f921\"]],\"type\":\"contour\"}],\"contourcarpet\":[{\"colorbar\":{\"outlinewidth\":0,\"ticks\":\"\"},\"type\":\"contourcarpet\"}],\"heatmap\":[{\"colorbar\":{\"outlinewidth\":0,\"ticks\":\"\"},\"colorscale\":[[0.0,\"#0d0887\"],[0.1111111111111111,\"#46039f\"],[0.2222222222222222,\"#7201a8\"],[0.3333333333333333,\"#9c179e\"],[0.4444444444444444,\"#bd3786\"],[0.5555555555555556,\"#d8576b\"],[0.6666666666666666,\"#ed7953\"],[0.7777777777777778,\"#fb9f3a\"],[0.8888888888888888,\"#fdca26\"],[1.0,\"#f0f921\"]],\"type\":\"heatmap\"}],\"heatmapgl\":[{\"colorbar\":{\"outlinewidth\":0,\"ticks\":\"\"},\"colorscale\":[[0.0,\"#0d0887\"],[0.1111111111111111,\"#46039f\"],[0.2222222222222222,\"#7201a8\"],[0.3333333333333333,\"#9c179e\"],[0.4444444444444444,\"#bd3786\"],[0.5555555555555556,\"#d8576b\"],[0.6666666666666666,\"#ed7953\"],[0.7777777777777778,\"#fb9f3a\"],[0.8888888888888888,\"#fdca26\"],[1.0,\"#f0f921\"]],\"type\":\"heatmapgl\"}],\"histogram\":[{\"marker\":{\"pattern\":{\"fillmode\":\"overlay\",\"size\":10,\"solidity\":0.2}},\"type\":\"histogram\"}],\"histogram2d\":[{\"colorbar\":{\"outlinewidth\":0,\"ticks\":\"\"},\"colorscale\":[[0.0,\"#0d0887\"],[0.1111111111111111,\"#46039f\"],[0.2222222222222222,\"#7201a8\"],[0.3333333333333333,\"#9c179e\"],[0.4444444444444444,\"#bd3786\"],[0.5555555555555556,\"#d8576b\"],[0.6666666666666666,\"#ed7953\"],[0.7777777777777778,\"#fb9f3a\"],[0.8888888888888888,\"#fdca26\"],[1.0,\"#f0f921\"]],\"type\":\"histogram2d\"}],\"histogram2dcontour\":[{\"colorbar\":{\"outlinewidth\":0,\"ticks\":\"\"},\"colorscale\":[[0.0,\"#0d0887\"],[0.1111111111111111,\"#46039f\"],[0.2222222222222222,\"#7201a8\"],[0.3333333333333333,\"#9c179e\"],[0.4444444444444444,\"#bd3786\"],[0.5555555555555556,\"#d8576b\"],[0.6666666666666666,\"#ed7953\"],[0.7777777777777778,\"#fb9f3a\"],[0.8888888888888888,\"#fdca26\"],[1.0,\"#f0f921\"]],\"type\":\"histogram2dcontour\"}],\"mesh3d\":[{\"colorbar\":{\"outlinewidth\":0,\"ticks\":\"\"},\"type\":\"mesh3d\"}],\"parcoords\":[{\"line\":{\"colorbar\":{\"outlinewidth\":0,\"ticks\":\"\"}},\"type\":\"parcoords\"}],\"pie\":[{\"automargin\":true,\"type\":\"pie\"}],\"scatter\":[{\"marker\":{\"colorbar\":{\"outlinewidth\":0,\"ticks\":\"\"}},\"type\":\"scatter\"}],\"scatter3d\":[{\"line\":{\"colorbar\":{\"outlinewidth\":0,\"ticks\":\"\"}},\"marker\":{\"colorbar\":{\"outlinewidth\":0,\"ticks\":\"\"}},\"type\":\"scatter3d\"}],\"scattercarpet\":[{\"marker\":{\"colorbar\":{\"outlinewidth\":0,\"ticks\":\"\"}},\"type\":\"scattercarpet\"}],\"scattergeo\":[{\"marker\":{\"colorbar\":{\"outlinewidth\":0,\"ticks\":\"\"}},\"type\":\"scattergeo\"}],\"scattergl\":[{\"marker\":{\"colorbar\":{\"outlinewidth\":0,\"ticks\":\"\"}},\"type\":\"scattergl\"}],\"scattermapbox\":[{\"marker\":{\"colorbar\":{\"outlinewidth\":0,\"ticks\":\"\"}},\"type\":\"scattermapbox\"}],\"scatterpolar\":[{\"marker\":{\"colorbar\":{\"outlinewidth\":0,\"ticks\":\"\"}},\"type\":\"scatterpolar\"}],\"scatterpolargl\":[{\"marker\":{\"colorbar\":{\"outlinewidth\":0,\"ticks\":\"\"}},\"type\":\"scatterpolargl\"}],\"scatterternary\":[{\"marker\":{\"colorbar\":{\"outlinewidth\":0,\"ticks\":\"\"}},\"type\":\"scatterternary\"}],\"surface\":[{\"colorbar\":{\"outlinewidth\":0,\"ticks\":\"\"},\"colorscale\":[[0.0,\"#0d0887\"],[0.1111111111111111,\"#46039f\"],[0.2222222222222222,\"#7201a8\"],[0.3333333333333333,\"#9c179e\"],[0.4444444444444444,\"#bd3786\"],[0.5555555555555556,\"#d8576b\"],[0.6666666666666666,\"#ed7953\"],[0.7777777777777778,\"#fb9f3a\"],[0.8888888888888888,\"#fdca26\"],[1.0,\"#f0f921\"]],\"type\":\"surface\"}],\"table\":[{\"cells\":{\"fill\":{\"color\":\"#EBF0F8\"},\"line\":{\"color\":\"white\"}},\"header\":{\"fill\":{\"color\":\"#C8D4E3\"},\"line\":{\"color\":\"white\"}},\"type\":\"table\"}]},\"layout\":{\"annotationdefaults\":{\"arrowcolor\":\"#2a3f5f\",\"arrowhead\":0,\"arrowwidth\":1},\"autotypenumbers\":\"strict\",\"coloraxis\":{\"colorbar\":{\"outlinewidth\":0,\"ticks\":\"\"}},\"colorscale\":{\"diverging\":[[0,\"#8e0152\"],[0.1,\"#c51b7d\"],[0.2,\"#de77ae\"],[0.3,\"#f1b6da\"],[0.4,\"#fde0ef\"],[0.5,\"#f7f7f7\"],[0.6,\"#e6f5d0\"],[0.7,\"#b8e186\"],[0.8,\"#7fbc41\"],[0.9,\"#4d9221\"],[1,\"#276419\"]],\"sequential\":[[0.0,\"#0d0887\"],[0.1111111111111111,\"#46039f\"],[0.2222222222222222,\"#7201a8\"],[0.3333333333333333,\"#9c179e\"],[0.4444444444444444,\"#bd3786\"],[0.5555555555555556,\"#d8576b\"],[0.6666666666666666,\"#ed7953\"],[0.7777777777777778,\"#fb9f3a\"],[0.8888888888888888,\"#fdca26\"],[1.0,\"#f0f921\"]],\"sequentialminus\":[[0.0,\"#0d0887\"],[0.1111111111111111,\"#46039f\"],[0.2222222222222222,\"#7201a8\"],[0.3333333333333333,\"#9c179e\"],[0.4444444444444444,\"#bd3786\"],[0.5555555555555556,\"#d8576b\"],[0.6666666666666666,\"#ed7953\"],[0.7777777777777778,\"#fb9f3a\"],[0.8888888888888888,\"#fdca26\"],[1.0,\"#f0f921\"]]},\"colorway\":[\"#636efa\",\"#EF553B\",\"#00cc96\",\"#ab63fa\",\"#FFA15A\",\"#19d3f3\",\"#FF6692\",\"#B6E880\",\"#FF97FF\",\"#FECB52\"],\"font\":{\"color\":\"#2a3f5f\"},\"geo\":{\"bgcolor\":\"white\",\"lakecolor\":\"white\",\"landcolor\":\"#E5ECF6\",\"showlakes\":true,\"showland\":true,\"subunitcolor\":\"white\"},\"hoverlabel\":{\"align\":\"left\"},\"hovermode\":\"closest\",\"mapbox\":{\"style\":\"light\"},\"paper_bgcolor\":\"white\",\"plot_bgcolor\":\"#E5ECF6\",\"polar\":{\"angularaxis\":{\"gridcolor\":\"white\",\"linecolor\":\"white\",\"ticks\":\"\"},\"bgcolor\":\"#E5ECF6\",\"radialaxis\":{\"gridcolor\":\"white\",\"linecolor\":\"white\",\"ticks\":\"\"}},\"scene\":{\"xaxis\":{\"backgroundcolor\":\"#E5ECF6\",\"gridcolor\":\"white\",\"gridwidth\":2,\"linecolor\":\"white\",\"showbackground\":true,\"ticks\":\"\",\"zerolinecolor\":\"white\"},\"yaxis\":{\"backgroundcolor\":\"#E5ECF6\",\"gridcolor\":\"white\",\"gridwidth\":2,\"linecolor\":\"white\",\"showbackground\":true,\"ticks\":\"\",\"zerolinecolor\":\"white\"},\"zaxis\":{\"backgroundcolor\":\"#E5ECF6\",\"gridcolor\":\"white\",\"gridwidth\":2,\"linecolor\":\"white\",\"showbackground\":true,\"ticks\":\"\",\"zerolinecolor\":\"white\"}},\"shapedefaults\":{\"line\":{\"color\":\"#2a3f5f\"}},\"ternary\":{\"aaxis\":{\"gridcolor\":\"white\",\"linecolor\":\"white\",\"ticks\":\"\"},\"baxis\":{\"gridcolor\":\"white\",\"linecolor\":\"white\",\"ticks\":\"\"},\"bgcolor\":\"#E5ECF6\",\"caxis\":{\"gridcolor\":\"white\",\"linecolor\":\"white\",\"ticks\":\"\"}},\"title\":{\"x\":0.05},\"xaxis\":{\"automargin\":true,\"gridcolor\":\"white\",\"linecolor\":\"white\",\"ticks\":\"\",\"title\":{\"standoff\":15},\"zerolinecolor\":\"white\",\"zerolinewidth\":2},\"yaxis\":{\"automargin\":true,\"gridcolor\":\"white\",\"linecolor\":\"white\",\"ticks\":\"\",\"title\":{\"standoff\":15},\"zerolinecolor\":\"white\",\"zerolinewidth\":2}}},\"title\":{\"font\":{\"color\":\"#4D5663\"},\"text\":\"Top 100 bigrams after removing stop words\"},\"xaxis\":{\"gridcolor\":\"#E1E5ED\",\"linecolor\":\"black\",\"showgrid\":true,\"tickfont\":{\"color\":\"#4D5663\"},\"title\":{\"font\":{\"color\":\"#4D5663\"},\"text\":\"\"},\"zerolinecolor\":\"#E1E5ED\"},\"yaxis\":{\"gridcolor\":\"#E1E5ED\",\"linecolor\":\"black\",\"showgrid\":true,\"tickfont\":{\"color\":\"#4D5663\"},\"title\":{\"font\":{\"color\":\"#4D5663\"},\"text\":\"Count\"},\"zerolinecolor\":\"#E1E5ED\"}},                        {\"showLink\": true, \"linkText\": \"Export to plot.ly\", \"plotlyServerURL\": \"https://plot.ly\", \"responsive\": true}                    ).then(function(){\n",
       "                            \n",
       "var gd = document.getElementById('816a6400-0dc4-4e42-a591-d35bbbed6ba5');\n",
       "var x = new MutationObserver(function (mutations, observer) {{\n",
       "        var display = window.getComputedStyle(gd).display;\n",
       "        if (!display || display === 'none') {{\n",
       "            console.log([gd, 'removed!']);\n",
       "            Plotly.purge(gd);\n",
       "            observer.disconnect();\n",
       "        }}\n",
       "}});\n",
       "\n",
       "// Listen for the removal of the full notebook cells\n",
       "var notebookContainer = gd.closest('#notebook-container');\n",
       "if (notebookContainer) {{\n",
       "    x.observe(notebookContainer, {childList: true});\n",
       "}}\n",
       "\n",
       "// Listen for the clearing of the current output cell\n",
       "var outputEl = gd.closest('.output');\n",
       "if (outputEl) {{\n",
       "    x.observe(outputEl, {childList: true});\n",
       "}}\n",
       "\n",
       "                        })                };                });            </script>        </div>"
      ]
     },
     "metadata": {},
     "output_type": "display_data"
    }
   ],
   "source": [
    "plot_model(plot = 'bigram')"
   ]
  },
  {
   "cell_type": "markdown",
   "metadata": {},
   "source": [
    "###  Frequency Distribution of Topic 1"
   ]
  },
  {
   "cell_type": "markdown",
   "metadata": {},
   "source": [
    "`plot_model ()` can also be used to parse the same plots for specific topics. To generate topic-level plots, the function requires the trained model object to be passed inside `plot_model ()`. In the following example, we will generate a frequency distribution on `Topic 1` only as defined in the` topic_num` parameter."
   ]
  },
  {
   "cell_type": "code",
   "execution_count": 17,
   "metadata": {},
   "outputs": [
    {
     "data": {
      "text/html": [
       "        <script type=\"text/javascript\">\n",
       "        window.PlotlyConfig = {MathJaxConfig: 'local'};\n",
       "        if (window.MathJax) {MathJax.Hub.Config({SVG: {font: \"STIX-Web\"}});}\n",
       "        if (typeof require !== 'undefined') {\n",
       "        require.undef(\"plotly\");\n",
       "        requirejs.config({\n",
       "            paths: {\n",
       "                'plotly': ['https://cdn.plot.ly/plotly-2.2.0.min']\n",
       "            }\n",
       "        });\n",
       "        require(['plotly'], function(Plotly) {\n",
       "            window._Plotly = Plotly;\n",
       "        });\n",
       "        }\n",
       "        </script>\n",
       "        "
      ]
     },
     "metadata": {},
     "output_type": "display_data"
    },
    {
     "data": {
      "application/vnd.plotly.v1+json": {
       "config": {
        "linkText": "Export to plot.ly",
        "plotlyServerURL": "https://plot.ly",
        "showLink": true
       },
       "data": [
        {
         "marker": {
          "color": "rgba(255, 153, 51, 0.6)",
          "line": {
           "color": "rgba(255, 153, 51, 1.0)",
           "width": 1
          }
         },
         "name": "count",
         "orientation": "v",
         "text": "",
         "type": "bar",
         "x": [
          "rice",
          "loan",
          "farmer",
          "also",
          "use",
          "small",
          "sector",
          "area",
          "land",
          "many",
          "baba",
          "crop",
          "buy",
          "order",
          "member",
          "work",
          "farm",
          "people",
          "month",
          "income",
          "grow",
          "capital",
          "client",
          "centro_agricola_de",
          "communal_bank",
          "service",
          "due_absence",
          "salitre",
          "invest",
          "year",
          "repay",
          "first",
          "activity",
          "child",
          "see_profits_investments_month",
          "group",
          "promoting_saving",
          "participate_program",
          "group_cannot_fully",
          "rest_debt_must_paid",
          "live",
          "person",
          "capital_reserved_future_investment",
          "designed_teach_encourage_saving",
          "often_forgotten",
          "part",
          "often",
          "part_association",
          "farming",
          "others_guarantor",
          "loan_sharks_finance",
          "pay",
          "prepare_land",
          "lack_skills_knowledge_commercialize",
          "process_known_boleo_spanish",
          "lack_credit",
          "hope",
          "hand_sowe",
          "per_hectare_land",
          "farmers_fill",
          "exploit_farmer",
          "dispersed_freely",
          "cultivate_rice_farms_form",
          "soil_seeds_fertilizer_insecticide",
          "water",
          "year_expensive_intermediarie",
          "farmers_rent_machinery",
          "unexpected_difficultie",
          "association",
          "rural",
          "access_credit",
          "believes_imperative_communitie",
          "first_must_prepare",
          "lands_removing_weeds_plowe",
          "help",
          "affected_expensive_lines_credit",
          "team_evaluating_potential_sector",
          "works_cooperatively",
          "different_typical_micro",
          "difficult",
          "micro",
          "entrepreneur",
          "helps_gather_production",
          "programs_mifex",
          "products_pay_fair",
          "livestock",
          "compiled_luis_crespo_robert",
          "bank",
          "food",
          "product",
          "rural_finance_program_em",
          "allow",
          "always_popular_extremely_productive",
          "people_baba_organize",
          "economy_baba",
          "coastal_region",
          "county_province_los_rio",
          "cultivate_rice_commercialize_product",
          "rural_ecuador",
          "yet_country_area"
         ],
         "y": [
          206,
          176,
          161,
          142,
          107,
          84,
          82,
          79,
          63,
          61,
          59,
          54,
          51,
          50,
          46,
          44,
          44,
          43,
          34,
          34,
          34,
          33,
          33,
          32,
          32,
          31,
          30,
          30,
          30,
          28,
          28,
          28,
          27,
          26,
          25,
          25,
          25,
          25,
          25,
          25,
          25,
          25,
          25,
          25,
          25,
          24,
          24,
          23,
          23,
          22,
          22,
          22,
          22,
          22,
          22,
          22,
          22,
          22,
          22,
          22,
          22,
          22,
          22,
          22,
          22,
          22,
          22,
          21,
          21,
          20,
          20,
          20,
          20,
          20,
          20,
          20,
          19,
          19,
          19,
          19,
          19,
          19,
          19,
          19,
          19,
          19,
          18,
          17,
          17,
          17,
          16,
          16,
          15,
          15,
          15,
          15,
          15,
          15,
          15,
          15
         ]
        }
       ],
       "layout": {
        "legend": {
         "bgcolor": "#F5F6F9",
         "font": {
          "color": "#4D5663"
         }
        },
        "paper_bgcolor": "#F5F6F9",
        "plot_bgcolor": "#F5F6F9",
        "template": {
         "data": {
          "bar": [
           {
            "error_x": {
             "color": "#2a3f5f"
            },
            "error_y": {
             "color": "#2a3f5f"
            },
            "marker": {
             "line": {
              "color": "#E5ECF6",
              "width": 0.5
             },
             "pattern": {
              "fillmode": "overlay",
              "size": 10,
              "solidity": 0.2
             }
            },
            "type": "bar"
           }
          ],
          "barpolar": [
           {
            "marker": {
             "line": {
              "color": "#E5ECF6",
              "width": 0.5
             },
             "pattern": {
              "fillmode": "overlay",
              "size": 10,
              "solidity": 0.2
             }
            },
            "type": "barpolar"
           }
          ],
          "carpet": [
           {
            "aaxis": {
             "endlinecolor": "#2a3f5f",
             "gridcolor": "white",
             "linecolor": "white",
             "minorgridcolor": "white",
             "startlinecolor": "#2a3f5f"
            },
            "baxis": {
             "endlinecolor": "#2a3f5f",
             "gridcolor": "white",
             "linecolor": "white",
             "minorgridcolor": "white",
             "startlinecolor": "#2a3f5f"
            },
            "type": "carpet"
           }
          ],
          "choropleth": [
           {
            "colorbar": {
             "outlinewidth": 0,
             "ticks": ""
            },
            "type": "choropleth"
           }
          ],
          "contour": [
           {
            "colorbar": {
             "outlinewidth": 0,
             "ticks": ""
            },
            "colorscale": [
             [
              0,
              "#0d0887"
             ],
             [
              0.1111111111111111,
              "#46039f"
             ],
             [
              0.2222222222222222,
              "#7201a8"
             ],
             [
              0.3333333333333333,
              "#9c179e"
             ],
             [
              0.4444444444444444,
              "#bd3786"
             ],
             [
              0.5555555555555556,
              "#d8576b"
             ],
             [
              0.6666666666666666,
              "#ed7953"
             ],
             [
              0.7777777777777778,
              "#fb9f3a"
             ],
             [
              0.8888888888888888,
              "#fdca26"
             ],
             [
              1,
              "#f0f921"
             ]
            ],
            "type": "contour"
           }
          ],
          "contourcarpet": [
           {
            "colorbar": {
             "outlinewidth": 0,
             "ticks": ""
            },
            "type": "contourcarpet"
           }
          ],
          "heatmap": [
           {
            "colorbar": {
             "outlinewidth": 0,
             "ticks": ""
            },
            "colorscale": [
             [
              0,
              "#0d0887"
             ],
             [
              0.1111111111111111,
              "#46039f"
             ],
             [
              0.2222222222222222,
              "#7201a8"
             ],
             [
              0.3333333333333333,
              "#9c179e"
             ],
             [
              0.4444444444444444,
              "#bd3786"
             ],
             [
              0.5555555555555556,
              "#d8576b"
             ],
             [
              0.6666666666666666,
              "#ed7953"
             ],
             [
              0.7777777777777778,
              "#fb9f3a"
             ],
             [
              0.8888888888888888,
              "#fdca26"
             ],
             [
              1,
              "#f0f921"
             ]
            ],
            "type": "heatmap"
           }
          ],
          "heatmapgl": [
           {
            "colorbar": {
             "outlinewidth": 0,
             "ticks": ""
            },
            "colorscale": [
             [
              0,
              "#0d0887"
             ],
             [
              0.1111111111111111,
              "#46039f"
             ],
             [
              0.2222222222222222,
              "#7201a8"
             ],
             [
              0.3333333333333333,
              "#9c179e"
             ],
             [
              0.4444444444444444,
              "#bd3786"
             ],
             [
              0.5555555555555556,
              "#d8576b"
             ],
             [
              0.6666666666666666,
              "#ed7953"
             ],
             [
              0.7777777777777778,
              "#fb9f3a"
             ],
             [
              0.8888888888888888,
              "#fdca26"
             ],
             [
              1,
              "#f0f921"
             ]
            ],
            "type": "heatmapgl"
           }
          ],
          "histogram": [
           {
            "marker": {
             "pattern": {
              "fillmode": "overlay",
              "size": 10,
              "solidity": 0.2
             }
            },
            "type": "histogram"
           }
          ],
          "histogram2d": [
           {
            "colorbar": {
             "outlinewidth": 0,
             "ticks": ""
            },
            "colorscale": [
             [
              0,
              "#0d0887"
             ],
             [
              0.1111111111111111,
              "#46039f"
             ],
             [
              0.2222222222222222,
              "#7201a8"
             ],
             [
              0.3333333333333333,
              "#9c179e"
             ],
             [
              0.4444444444444444,
              "#bd3786"
             ],
             [
              0.5555555555555556,
              "#d8576b"
             ],
             [
              0.6666666666666666,
              "#ed7953"
             ],
             [
              0.7777777777777778,
              "#fb9f3a"
             ],
             [
              0.8888888888888888,
              "#fdca26"
             ],
             [
              1,
              "#f0f921"
             ]
            ],
            "type": "histogram2d"
           }
          ],
          "histogram2dcontour": [
           {
            "colorbar": {
             "outlinewidth": 0,
             "ticks": ""
            },
            "colorscale": [
             [
              0,
              "#0d0887"
             ],
             [
              0.1111111111111111,
              "#46039f"
             ],
             [
              0.2222222222222222,
              "#7201a8"
             ],
             [
              0.3333333333333333,
              "#9c179e"
             ],
             [
              0.4444444444444444,
              "#bd3786"
             ],
             [
              0.5555555555555556,
              "#d8576b"
             ],
             [
              0.6666666666666666,
              "#ed7953"
             ],
             [
              0.7777777777777778,
              "#fb9f3a"
             ],
             [
              0.8888888888888888,
              "#fdca26"
             ],
             [
              1,
              "#f0f921"
             ]
            ],
            "type": "histogram2dcontour"
           }
          ],
          "mesh3d": [
           {
            "colorbar": {
             "outlinewidth": 0,
             "ticks": ""
            },
            "type": "mesh3d"
           }
          ],
          "parcoords": [
           {
            "line": {
             "colorbar": {
              "outlinewidth": 0,
              "ticks": ""
             }
            },
            "type": "parcoords"
           }
          ],
          "pie": [
           {
            "automargin": true,
            "type": "pie"
           }
          ],
          "scatter": [
           {
            "marker": {
             "colorbar": {
              "outlinewidth": 0,
              "ticks": ""
             }
            },
            "type": "scatter"
           }
          ],
          "scatter3d": [
           {
            "line": {
             "colorbar": {
              "outlinewidth": 0,
              "ticks": ""
             }
            },
            "marker": {
             "colorbar": {
              "outlinewidth": 0,
              "ticks": ""
             }
            },
            "type": "scatter3d"
           }
          ],
          "scattercarpet": [
           {
            "marker": {
             "colorbar": {
              "outlinewidth": 0,
              "ticks": ""
             }
            },
            "type": "scattercarpet"
           }
          ],
          "scattergeo": [
           {
            "marker": {
             "colorbar": {
              "outlinewidth": 0,
              "ticks": ""
             }
            },
            "type": "scattergeo"
           }
          ],
          "scattergl": [
           {
            "marker": {
             "colorbar": {
              "outlinewidth": 0,
              "ticks": ""
             }
            },
            "type": "scattergl"
           }
          ],
          "scattermapbox": [
           {
            "marker": {
             "colorbar": {
              "outlinewidth": 0,
              "ticks": ""
             }
            },
            "type": "scattermapbox"
           }
          ],
          "scatterpolar": [
           {
            "marker": {
             "colorbar": {
              "outlinewidth": 0,
              "ticks": ""
             }
            },
            "type": "scatterpolar"
           }
          ],
          "scatterpolargl": [
           {
            "marker": {
             "colorbar": {
              "outlinewidth": 0,
              "ticks": ""
             }
            },
            "type": "scatterpolargl"
           }
          ],
          "scatterternary": [
           {
            "marker": {
             "colorbar": {
              "outlinewidth": 0,
              "ticks": ""
             }
            },
            "type": "scatterternary"
           }
          ],
          "surface": [
           {
            "colorbar": {
             "outlinewidth": 0,
             "ticks": ""
            },
            "colorscale": [
             [
              0,
              "#0d0887"
             ],
             [
              0.1111111111111111,
              "#46039f"
             ],
             [
              0.2222222222222222,
              "#7201a8"
             ],
             [
              0.3333333333333333,
              "#9c179e"
             ],
             [
              0.4444444444444444,
              "#bd3786"
             ],
             [
              0.5555555555555556,
              "#d8576b"
             ],
             [
              0.6666666666666666,
              "#ed7953"
             ],
             [
              0.7777777777777778,
              "#fb9f3a"
             ],
             [
              0.8888888888888888,
              "#fdca26"
             ],
             [
              1,
              "#f0f921"
             ]
            ],
            "type": "surface"
           }
          ],
          "table": [
           {
            "cells": {
             "fill": {
              "color": "#EBF0F8"
             },
             "line": {
              "color": "white"
             }
            },
            "header": {
             "fill": {
              "color": "#C8D4E3"
             },
             "line": {
              "color": "white"
             }
            },
            "type": "table"
           }
          ]
         },
         "layout": {
          "annotationdefaults": {
           "arrowcolor": "#2a3f5f",
           "arrowhead": 0,
           "arrowwidth": 1
          },
          "autotypenumbers": "strict",
          "coloraxis": {
           "colorbar": {
            "outlinewidth": 0,
            "ticks": ""
           }
          },
          "colorscale": {
           "diverging": [
            [
             0,
             "#8e0152"
            ],
            [
             0.1,
             "#c51b7d"
            ],
            [
             0.2,
             "#de77ae"
            ],
            [
             0.3,
             "#f1b6da"
            ],
            [
             0.4,
             "#fde0ef"
            ],
            [
             0.5,
             "#f7f7f7"
            ],
            [
             0.6,
             "#e6f5d0"
            ],
            [
             0.7,
             "#b8e186"
            ],
            [
             0.8,
             "#7fbc41"
            ],
            [
             0.9,
             "#4d9221"
            ],
            [
             1,
             "#276419"
            ]
           ],
           "sequential": [
            [
             0,
             "#0d0887"
            ],
            [
             0.1111111111111111,
             "#46039f"
            ],
            [
             0.2222222222222222,
             "#7201a8"
            ],
            [
             0.3333333333333333,
             "#9c179e"
            ],
            [
             0.4444444444444444,
             "#bd3786"
            ],
            [
             0.5555555555555556,
             "#d8576b"
            ],
            [
             0.6666666666666666,
             "#ed7953"
            ],
            [
             0.7777777777777778,
             "#fb9f3a"
            ],
            [
             0.8888888888888888,
             "#fdca26"
            ],
            [
             1,
             "#f0f921"
            ]
           ],
           "sequentialminus": [
            [
             0,
             "#0d0887"
            ],
            [
             0.1111111111111111,
             "#46039f"
            ],
            [
             0.2222222222222222,
             "#7201a8"
            ],
            [
             0.3333333333333333,
             "#9c179e"
            ],
            [
             0.4444444444444444,
             "#bd3786"
            ],
            [
             0.5555555555555556,
             "#d8576b"
            ],
            [
             0.6666666666666666,
             "#ed7953"
            ],
            [
             0.7777777777777778,
             "#fb9f3a"
            ],
            [
             0.8888888888888888,
             "#fdca26"
            ],
            [
             1,
             "#f0f921"
            ]
           ]
          },
          "colorway": [
           "#636efa",
           "#EF553B",
           "#00cc96",
           "#ab63fa",
           "#FFA15A",
           "#19d3f3",
           "#FF6692",
           "#B6E880",
           "#FF97FF",
           "#FECB52"
          ],
          "font": {
           "color": "#2a3f5f"
          },
          "geo": {
           "bgcolor": "white",
           "lakecolor": "white",
           "landcolor": "#E5ECF6",
           "showlakes": true,
           "showland": true,
           "subunitcolor": "white"
          },
          "hoverlabel": {
           "align": "left"
          },
          "hovermode": "closest",
          "mapbox": {
           "style": "light"
          },
          "paper_bgcolor": "white",
          "plot_bgcolor": "#E5ECF6",
          "polar": {
           "angularaxis": {
            "gridcolor": "white",
            "linecolor": "white",
            "ticks": ""
           },
           "bgcolor": "#E5ECF6",
           "radialaxis": {
            "gridcolor": "white",
            "linecolor": "white",
            "ticks": ""
           }
          },
          "scene": {
           "xaxis": {
            "backgroundcolor": "#E5ECF6",
            "gridcolor": "white",
            "gridwidth": 2,
            "linecolor": "white",
            "showbackground": true,
            "ticks": "",
            "zerolinecolor": "white"
           },
           "yaxis": {
            "backgroundcolor": "#E5ECF6",
            "gridcolor": "white",
            "gridwidth": 2,
            "linecolor": "white",
            "showbackground": true,
            "ticks": "",
            "zerolinecolor": "white"
           },
           "zaxis": {
            "backgroundcolor": "#E5ECF6",
            "gridcolor": "white",
            "gridwidth": 2,
            "linecolor": "white",
            "showbackground": true,
            "ticks": "",
            "zerolinecolor": "white"
           }
          },
          "shapedefaults": {
           "line": {
            "color": "#2a3f5f"
           }
          },
          "ternary": {
           "aaxis": {
            "gridcolor": "white",
            "linecolor": "white",
            "ticks": ""
           },
           "baxis": {
            "gridcolor": "white",
            "linecolor": "white",
            "ticks": ""
           },
           "bgcolor": "#E5ECF6",
           "caxis": {
            "gridcolor": "white",
            "linecolor": "white",
            "ticks": ""
           }
          },
          "title": {
           "x": 0.05
          },
          "xaxis": {
           "automargin": true,
           "gridcolor": "white",
           "linecolor": "white",
           "ticks": "",
           "title": {
            "standoff": 15
           },
           "zerolinecolor": "white",
           "zerolinewidth": 2
          },
          "yaxis": {
           "automargin": true,
           "gridcolor": "white",
           "linecolor": "white",
           "ticks": "",
           "title": {
            "standoff": 15
           },
           "zerolinecolor": "white",
           "zerolinewidth": 2
          }
         }
        },
        "title": {
         "font": {
          "color": "#4D5663"
         },
         "text": "Topic 1: Top 100 words after removing stop words"
        },
        "xaxis": {
         "gridcolor": "#E1E5ED",
         "linecolor": "black",
         "showgrid": true,
         "tickfont": {
          "color": "#4D5663"
         },
         "title": {
          "font": {
           "color": "#4D5663"
          },
          "text": ""
         },
         "zerolinecolor": "#E1E5ED"
        },
        "yaxis": {
         "gridcolor": "#E1E5ED",
         "linecolor": "black",
         "showgrid": true,
         "tickfont": {
          "color": "#4D5663"
         },
         "title": {
          "font": {
           "color": "#4D5663"
          },
          "text": "Count"
         },
         "zerolinecolor": "#E1E5ED"
        }
       }
      },
      "text/html": [
       "<div>                            <div id=\"e253c698-c85d-434c-80c8-2d4e66c797b8\" class=\"plotly-graph-div\" style=\"height:525px; width:100%;\"></div>            <script type=\"text/javascript\">                require([\"plotly\"], function(Plotly) {                    window.PLOTLYENV=window.PLOTLYENV || {};\n",
       "                    window.PLOTLYENV.BASE_URL='https://plot.ly';                                    if (document.getElementById(\"e253c698-c85d-434c-80c8-2d4e66c797b8\")) {                    Plotly.newPlot(                        \"e253c698-c85d-434c-80c8-2d4e66c797b8\",                        [{\"marker\":{\"color\":\"rgba(255, 153, 51, 0.6)\",\"line\":{\"color\":\"rgba(255, 153, 51, 1.0)\",\"width\":1}},\"name\":\"count\",\"orientation\":\"v\",\"text\":\"\",\"type\":\"bar\",\"x\":[\"rice\",\"loan\",\"farmer\",\"also\",\"use\",\"small\",\"sector\",\"area\",\"land\",\"many\",\"baba\",\"crop\",\"buy\",\"order\",\"member\",\"work\",\"farm\",\"people\",\"month\",\"income\",\"grow\",\"capital\",\"client\",\"centro_agricola_de\",\"communal_bank\",\"service\",\"due_absence\",\"salitre\",\"invest\",\"year\",\"repay\",\"first\",\"activity\",\"child\",\"see_profits_investments_month\",\"group\",\"promoting_saving\",\"participate_program\",\"group_cannot_fully\",\"rest_debt_must_paid\",\"live\",\"person\",\"capital_reserved_future_investment\",\"designed_teach_encourage_saving\",\"often_forgotten\",\"part\",\"often\",\"part_association\",\"farming\",\"others_guarantor\",\"loan_sharks_finance\",\"pay\",\"prepare_land\",\"lack_skills_knowledge_commercialize\",\"process_known_boleo_spanish\",\"lack_credit\",\"hope\",\"hand_sowe\",\"per_hectare_land\",\"farmers_fill\",\"exploit_farmer\",\"dispersed_freely\",\"cultivate_rice_farms_form\",\"soil_seeds_fertilizer_insecticide\",\"water\",\"year_expensive_intermediarie\",\"farmers_rent_machinery\",\"unexpected_difficultie\",\"association\",\"rural\",\"access_credit\",\"believes_imperative_communitie\",\"first_must_prepare\",\"lands_removing_weeds_plowe\",\"help\",\"affected_expensive_lines_credit\",\"team_evaluating_potential_sector\",\"works_cooperatively\",\"different_typical_micro\",\"difficult\",\"micro\",\"entrepreneur\",\"helps_gather_production\",\"programs_mifex\",\"products_pay_fair\",\"livestock\",\"compiled_luis_crespo_robert\",\"bank\",\"food\",\"product\",\"rural_finance_program_em\",\"allow\",\"always_popular_extremely_productive\",\"people_baba_organize\",\"economy_baba\",\"coastal_region\",\"county_province_los_rio\",\"cultivate_rice_commercialize_product\",\"rural_ecuador\",\"yet_country_area\"],\"y\":[206,176,161,142,107,84,82,79,63,61,59,54,51,50,46,44,44,43,34,34,34,33,33,32,32,31,30,30,30,28,28,28,27,26,25,25,25,25,25,25,25,25,25,25,25,24,24,23,23,22,22,22,22,22,22,22,22,22,22,22,22,22,22,22,22,22,22,21,21,20,20,20,20,20,20,20,19,19,19,19,19,19,19,19,19,19,18,17,17,17,16,16,15,15,15,15,15,15,15,15]}],                        {\"legend\":{\"bgcolor\":\"#F5F6F9\",\"font\":{\"color\":\"#4D5663\"}},\"paper_bgcolor\":\"#F5F6F9\",\"plot_bgcolor\":\"#F5F6F9\",\"template\":{\"data\":{\"bar\":[{\"error_x\":{\"color\":\"#2a3f5f\"},\"error_y\":{\"color\":\"#2a3f5f\"},\"marker\":{\"line\":{\"color\":\"#E5ECF6\",\"width\":0.5},\"pattern\":{\"fillmode\":\"overlay\",\"size\":10,\"solidity\":0.2}},\"type\":\"bar\"}],\"barpolar\":[{\"marker\":{\"line\":{\"color\":\"#E5ECF6\",\"width\":0.5},\"pattern\":{\"fillmode\":\"overlay\",\"size\":10,\"solidity\":0.2}},\"type\":\"barpolar\"}],\"carpet\":[{\"aaxis\":{\"endlinecolor\":\"#2a3f5f\",\"gridcolor\":\"white\",\"linecolor\":\"white\",\"minorgridcolor\":\"white\",\"startlinecolor\":\"#2a3f5f\"},\"baxis\":{\"endlinecolor\":\"#2a3f5f\",\"gridcolor\":\"white\",\"linecolor\":\"white\",\"minorgridcolor\":\"white\",\"startlinecolor\":\"#2a3f5f\"},\"type\":\"carpet\"}],\"choropleth\":[{\"colorbar\":{\"outlinewidth\":0,\"ticks\":\"\"},\"type\":\"choropleth\"}],\"contour\":[{\"colorbar\":{\"outlinewidth\":0,\"ticks\":\"\"},\"colorscale\":[[0.0,\"#0d0887\"],[0.1111111111111111,\"#46039f\"],[0.2222222222222222,\"#7201a8\"],[0.3333333333333333,\"#9c179e\"],[0.4444444444444444,\"#bd3786\"],[0.5555555555555556,\"#d8576b\"],[0.6666666666666666,\"#ed7953\"],[0.7777777777777778,\"#fb9f3a\"],[0.8888888888888888,\"#fdca26\"],[1.0,\"#f0f921\"]],\"type\":\"contour\"}],\"contourcarpet\":[{\"colorbar\":{\"outlinewidth\":0,\"ticks\":\"\"},\"type\":\"contourcarpet\"}],\"heatmap\":[{\"colorbar\":{\"outlinewidth\":0,\"ticks\":\"\"},\"colorscale\":[[0.0,\"#0d0887\"],[0.1111111111111111,\"#46039f\"],[0.2222222222222222,\"#7201a8\"],[0.3333333333333333,\"#9c179e\"],[0.4444444444444444,\"#bd3786\"],[0.5555555555555556,\"#d8576b\"],[0.6666666666666666,\"#ed7953\"],[0.7777777777777778,\"#fb9f3a\"],[0.8888888888888888,\"#fdca26\"],[1.0,\"#f0f921\"]],\"type\":\"heatmap\"}],\"heatmapgl\":[{\"colorbar\":{\"outlinewidth\":0,\"ticks\":\"\"},\"colorscale\":[[0.0,\"#0d0887\"],[0.1111111111111111,\"#46039f\"],[0.2222222222222222,\"#7201a8\"],[0.3333333333333333,\"#9c179e\"],[0.4444444444444444,\"#bd3786\"],[0.5555555555555556,\"#d8576b\"],[0.6666666666666666,\"#ed7953\"],[0.7777777777777778,\"#fb9f3a\"],[0.8888888888888888,\"#fdca26\"],[1.0,\"#f0f921\"]],\"type\":\"heatmapgl\"}],\"histogram\":[{\"marker\":{\"pattern\":{\"fillmode\":\"overlay\",\"size\":10,\"solidity\":0.2}},\"type\":\"histogram\"}],\"histogram2d\":[{\"colorbar\":{\"outlinewidth\":0,\"ticks\":\"\"},\"colorscale\":[[0.0,\"#0d0887\"],[0.1111111111111111,\"#46039f\"],[0.2222222222222222,\"#7201a8\"],[0.3333333333333333,\"#9c179e\"],[0.4444444444444444,\"#bd3786\"],[0.5555555555555556,\"#d8576b\"],[0.6666666666666666,\"#ed7953\"],[0.7777777777777778,\"#fb9f3a\"],[0.8888888888888888,\"#fdca26\"],[1.0,\"#f0f921\"]],\"type\":\"histogram2d\"}],\"histogram2dcontour\":[{\"colorbar\":{\"outlinewidth\":0,\"ticks\":\"\"},\"colorscale\":[[0.0,\"#0d0887\"],[0.1111111111111111,\"#46039f\"],[0.2222222222222222,\"#7201a8\"],[0.3333333333333333,\"#9c179e\"],[0.4444444444444444,\"#bd3786\"],[0.5555555555555556,\"#d8576b\"],[0.6666666666666666,\"#ed7953\"],[0.7777777777777778,\"#fb9f3a\"],[0.8888888888888888,\"#fdca26\"],[1.0,\"#f0f921\"]],\"type\":\"histogram2dcontour\"}],\"mesh3d\":[{\"colorbar\":{\"outlinewidth\":0,\"ticks\":\"\"},\"type\":\"mesh3d\"}],\"parcoords\":[{\"line\":{\"colorbar\":{\"outlinewidth\":0,\"ticks\":\"\"}},\"type\":\"parcoords\"}],\"pie\":[{\"automargin\":true,\"type\":\"pie\"}],\"scatter\":[{\"marker\":{\"colorbar\":{\"outlinewidth\":0,\"ticks\":\"\"}},\"type\":\"scatter\"}],\"scatter3d\":[{\"line\":{\"colorbar\":{\"outlinewidth\":0,\"ticks\":\"\"}},\"marker\":{\"colorbar\":{\"outlinewidth\":0,\"ticks\":\"\"}},\"type\":\"scatter3d\"}],\"scattercarpet\":[{\"marker\":{\"colorbar\":{\"outlinewidth\":0,\"ticks\":\"\"}},\"type\":\"scattercarpet\"}],\"scattergeo\":[{\"marker\":{\"colorbar\":{\"outlinewidth\":0,\"ticks\":\"\"}},\"type\":\"scattergeo\"}],\"scattergl\":[{\"marker\":{\"colorbar\":{\"outlinewidth\":0,\"ticks\":\"\"}},\"type\":\"scattergl\"}],\"scattermapbox\":[{\"marker\":{\"colorbar\":{\"outlinewidth\":0,\"ticks\":\"\"}},\"type\":\"scattermapbox\"}],\"scatterpolar\":[{\"marker\":{\"colorbar\":{\"outlinewidth\":0,\"ticks\":\"\"}},\"type\":\"scatterpolar\"}],\"scatterpolargl\":[{\"marker\":{\"colorbar\":{\"outlinewidth\":0,\"ticks\":\"\"}},\"type\":\"scatterpolargl\"}],\"scatterternary\":[{\"marker\":{\"colorbar\":{\"outlinewidth\":0,\"ticks\":\"\"}},\"type\":\"scatterternary\"}],\"surface\":[{\"colorbar\":{\"outlinewidth\":0,\"ticks\":\"\"},\"colorscale\":[[0.0,\"#0d0887\"],[0.1111111111111111,\"#46039f\"],[0.2222222222222222,\"#7201a8\"],[0.3333333333333333,\"#9c179e\"],[0.4444444444444444,\"#bd3786\"],[0.5555555555555556,\"#d8576b\"],[0.6666666666666666,\"#ed7953\"],[0.7777777777777778,\"#fb9f3a\"],[0.8888888888888888,\"#fdca26\"],[1.0,\"#f0f921\"]],\"type\":\"surface\"}],\"table\":[{\"cells\":{\"fill\":{\"color\":\"#EBF0F8\"},\"line\":{\"color\":\"white\"}},\"header\":{\"fill\":{\"color\":\"#C8D4E3\"},\"line\":{\"color\":\"white\"}},\"type\":\"table\"}]},\"layout\":{\"annotationdefaults\":{\"arrowcolor\":\"#2a3f5f\",\"arrowhead\":0,\"arrowwidth\":1},\"autotypenumbers\":\"strict\",\"coloraxis\":{\"colorbar\":{\"outlinewidth\":0,\"ticks\":\"\"}},\"colorscale\":{\"diverging\":[[0,\"#8e0152\"],[0.1,\"#c51b7d\"],[0.2,\"#de77ae\"],[0.3,\"#f1b6da\"],[0.4,\"#fde0ef\"],[0.5,\"#f7f7f7\"],[0.6,\"#e6f5d0\"],[0.7,\"#b8e186\"],[0.8,\"#7fbc41\"],[0.9,\"#4d9221\"],[1,\"#276419\"]],\"sequential\":[[0.0,\"#0d0887\"],[0.1111111111111111,\"#46039f\"],[0.2222222222222222,\"#7201a8\"],[0.3333333333333333,\"#9c179e\"],[0.4444444444444444,\"#bd3786\"],[0.5555555555555556,\"#d8576b\"],[0.6666666666666666,\"#ed7953\"],[0.7777777777777778,\"#fb9f3a\"],[0.8888888888888888,\"#fdca26\"],[1.0,\"#f0f921\"]],\"sequentialminus\":[[0.0,\"#0d0887\"],[0.1111111111111111,\"#46039f\"],[0.2222222222222222,\"#7201a8\"],[0.3333333333333333,\"#9c179e\"],[0.4444444444444444,\"#bd3786\"],[0.5555555555555556,\"#d8576b\"],[0.6666666666666666,\"#ed7953\"],[0.7777777777777778,\"#fb9f3a\"],[0.8888888888888888,\"#fdca26\"],[1.0,\"#f0f921\"]]},\"colorway\":[\"#636efa\",\"#EF553B\",\"#00cc96\",\"#ab63fa\",\"#FFA15A\",\"#19d3f3\",\"#FF6692\",\"#B6E880\",\"#FF97FF\",\"#FECB52\"],\"font\":{\"color\":\"#2a3f5f\"},\"geo\":{\"bgcolor\":\"white\",\"lakecolor\":\"white\",\"landcolor\":\"#E5ECF6\",\"showlakes\":true,\"showland\":true,\"subunitcolor\":\"white\"},\"hoverlabel\":{\"align\":\"left\"},\"hovermode\":\"closest\",\"mapbox\":{\"style\":\"light\"},\"paper_bgcolor\":\"white\",\"plot_bgcolor\":\"#E5ECF6\",\"polar\":{\"angularaxis\":{\"gridcolor\":\"white\",\"linecolor\":\"white\",\"ticks\":\"\"},\"bgcolor\":\"#E5ECF6\",\"radialaxis\":{\"gridcolor\":\"white\",\"linecolor\":\"white\",\"ticks\":\"\"}},\"scene\":{\"xaxis\":{\"backgroundcolor\":\"#E5ECF6\",\"gridcolor\":\"white\",\"gridwidth\":2,\"linecolor\":\"white\",\"showbackground\":true,\"ticks\":\"\",\"zerolinecolor\":\"white\"},\"yaxis\":{\"backgroundcolor\":\"#E5ECF6\",\"gridcolor\":\"white\",\"gridwidth\":2,\"linecolor\":\"white\",\"showbackground\":true,\"ticks\":\"\",\"zerolinecolor\":\"white\"},\"zaxis\":{\"backgroundcolor\":\"#E5ECF6\",\"gridcolor\":\"white\",\"gridwidth\":2,\"linecolor\":\"white\",\"showbackground\":true,\"ticks\":\"\",\"zerolinecolor\":\"white\"}},\"shapedefaults\":{\"line\":{\"color\":\"#2a3f5f\"}},\"ternary\":{\"aaxis\":{\"gridcolor\":\"white\",\"linecolor\":\"white\",\"ticks\":\"\"},\"baxis\":{\"gridcolor\":\"white\",\"linecolor\":\"white\",\"ticks\":\"\"},\"bgcolor\":\"#E5ECF6\",\"caxis\":{\"gridcolor\":\"white\",\"linecolor\":\"white\",\"ticks\":\"\"}},\"title\":{\"x\":0.05},\"xaxis\":{\"automargin\":true,\"gridcolor\":\"white\",\"linecolor\":\"white\",\"ticks\":\"\",\"title\":{\"standoff\":15},\"zerolinecolor\":\"white\",\"zerolinewidth\":2},\"yaxis\":{\"automargin\":true,\"gridcolor\":\"white\",\"linecolor\":\"white\",\"ticks\":\"\",\"title\":{\"standoff\":15},\"zerolinecolor\":\"white\",\"zerolinewidth\":2}}},\"title\":{\"font\":{\"color\":\"#4D5663\"},\"text\":\"Topic 1: Top 100 words after removing stop words\"},\"xaxis\":{\"gridcolor\":\"#E1E5ED\",\"linecolor\":\"black\",\"showgrid\":true,\"tickfont\":{\"color\":\"#4D5663\"},\"title\":{\"font\":{\"color\":\"#4D5663\"},\"text\":\"\"},\"zerolinecolor\":\"#E1E5ED\"},\"yaxis\":{\"gridcolor\":\"#E1E5ED\",\"linecolor\":\"black\",\"showgrid\":true,\"tickfont\":{\"color\":\"#4D5663\"},\"title\":{\"font\":{\"color\":\"#4D5663\"},\"text\":\"Count\"},\"zerolinecolor\":\"#E1E5ED\"}},                        {\"showLink\": true, \"linkText\": \"Export to plot.ly\", \"plotlyServerURL\": \"https://plot.ly\", \"responsive\": true}                    ).then(function(){\n",
       "                            \n",
       "var gd = document.getElementById('e253c698-c85d-434c-80c8-2d4e66c797b8');\n",
       "var x = new MutationObserver(function (mutations, observer) {{\n",
       "        var display = window.getComputedStyle(gd).display;\n",
       "        if (!display || display === 'none') {{\n",
       "            console.log([gd, 'removed!']);\n",
       "            Plotly.purge(gd);\n",
       "            observer.disconnect();\n",
       "        }}\n",
       "}});\n",
       "\n",
       "// Listen for the removal of the full notebook cells\n",
       "var notebookContainer = gd.closest('#notebook-container');\n",
       "if (notebookContainer) {{\n",
       "    x.observe(notebookContainer, {childList: true});\n",
       "}}\n",
       "\n",
       "// Listen for the clearing of the current output cell\n",
       "var outputEl = gd.closest('.output');\n",
       "if (outputEl) {{\n",
       "    x.observe(outputEl, {childList: true});\n",
       "}}\n",
       "\n",
       "                        })                };                });            </script>        </div>"
      ]
     },
     "metadata": {},
     "output_type": "display_data"
    }
   ],
   "source": [
    "plot_model(lda, plot = 'frequency', topic_num = 'Topic 1')"
   ]
  },
  {
   "cell_type": "markdown",
   "metadata": {},
   "source": [
    "###  Topic Distribution"
   ]
  },
  {
   "cell_type": "code",
   "execution_count": 18,
   "metadata": {},
   "outputs": [
    {
     "data": {
      "text/html": [
       "        <script type=\"text/javascript\">\n",
       "        window.PlotlyConfig = {MathJaxConfig: 'local'};\n",
       "        if (window.MathJax) {MathJax.Hub.Config({SVG: {font: \"STIX-Web\"}});}\n",
       "        if (typeof require !== 'undefined') {\n",
       "        require.undef(\"plotly\");\n",
       "        requirejs.config({\n",
       "            paths: {\n",
       "                'plotly': ['https://cdn.plot.ly/plotly-2.2.0.min']\n",
       "            }\n",
       "        });\n",
       "        require(['plotly'], function(Plotly) {\n",
       "            window._Plotly = Plotly;\n",
       "        });\n",
       "        }\n",
       "        </script>\n",
       "        "
      ]
     },
     "metadata": {},
     "output_type": "display_data"
    },
    {
     "data": {
      "application/vnd.plotly.v1+json": {
       "config": {
        "plotlyServerURL": "https://plot.ly"
       },
       "data": [
        {
         "alignmentgroup": "True",
         "customdata": [
          [
           "business, loan, child, school, year, able, buy, stock, family, old"
          ],
          [
           "rice, farmer, loan, also, use, area, sector, small, many, crop"
          ],
          [
           "group, loan, usd, member, child, school, marry, year, woman, sell"
          ],
          [
           "business, loan, sell, year, child, work, buy, make, product, help"
          ]
         ],
         "hovertemplate": "Topic=%{x}<br>Documents=%{y}<br>Keyword=%{customdata[0]}<extra></extra>",
         "legendgroup": "",
         "marker": {
          "color": "#636efa",
          "pattern": {
           "shape": ""
          }
         },
         "name": "",
         "offsetgroup": "",
         "orientation": "v",
         "showlegend": false,
         "textposition": "auto",
         "type": "bar",
         "x": [
          "Topic 0",
          "Topic 1",
          "Topic 2",
          "Topic 3"
         ],
         "xaxis": "x",
         "y": [
          313,
          32,
          105,
          550
         ],
         "yaxis": "y"
        }
       ],
       "layout": {
        "barmode": "relative",
        "legend": {
         "tracegroupgap": 0
        },
        "template": {
         "data": {
          "bar": [
           {
            "error_x": {
             "color": "#2a3f5f"
            },
            "error_y": {
             "color": "#2a3f5f"
            },
            "marker": {
             "line": {
              "color": "#E5ECF6",
              "width": 0.5
             },
             "pattern": {
              "fillmode": "overlay",
              "size": 10,
              "solidity": 0.2
             }
            },
            "type": "bar"
           }
          ],
          "barpolar": [
           {
            "marker": {
             "line": {
              "color": "#E5ECF6",
              "width": 0.5
             },
             "pattern": {
              "fillmode": "overlay",
              "size": 10,
              "solidity": 0.2
             }
            },
            "type": "barpolar"
           }
          ],
          "carpet": [
           {
            "aaxis": {
             "endlinecolor": "#2a3f5f",
             "gridcolor": "white",
             "linecolor": "white",
             "minorgridcolor": "white",
             "startlinecolor": "#2a3f5f"
            },
            "baxis": {
             "endlinecolor": "#2a3f5f",
             "gridcolor": "white",
             "linecolor": "white",
             "minorgridcolor": "white",
             "startlinecolor": "#2a3f5f"
            },
            "type": "carpet"
           }
          ],
          "choropleth": [
           {
            "colorbar": {
             "outlinewidth": 0,
             "ticks": ""
            },
            "type": "choropleth"
           }
          ],
          "contour": [
           {
            "colorbar": {
             "outlinewidth": 0,
             "ticks": ""
            },
            "colorscale": [
             [
              0,
              "#0d0887"
             ],
             [
              0.1111111111111111,
              "#46039f"
             ],
             [
              0.2222222222222222,
              "#7201a8"
             ],
             [
              0.3333333333333333,
              "#9c179e"
             ],
             [
              0.4444444444444444,
              "#bd3786"
             ],
             [
              0.5555555555555556,
              "#d8576b"
             ],
             [
              0.6666666666666666,
              "#ed7953"
             ],
             [
              0.7777777777777778,
              "#fb9f3a"
             ],
             [
              0.8888888888888888,
              "#fdca26"
             ],
             [
              1,
              "#f0f921"
             ]
            ],
            "type": "contour"
           }
          ],
          "contourcarpet": [
           {
            "colorbar": {
             "outlinewidth": 0,
             "ticks": ""
            },
            "type": "contourcarpet"
           }
          ],
          "heatmap": [
           {
            "colorbar": {
             "outlinewidth": 0,
             "ticks": ""
            },
            "colorscale": [
             [
              0,
              "#0d0887"
             ],
             [
              0.1111111111111111,
              "#46039f"
             ],
             [
              0.2222222222222222,
              "#7201a8"
             ],
             [
              0.3333333333333333,
              "#9c179e"
             ],
             [
              0.4444444444444444,
              "#bd3786"
             ],
             [
              0.5555555555555556,
              "#d8576b"
             ],
             [
              0.6666666666666666,
              "#ed7953"
             ],
             [
              0.7777777777777778,
              "#fb9f3a"
             ],
             [
              0.8888888888888888,
              "#fdca26"
             ],
             [
              1,
              "#f0f921"
             ]
            ],
            "type": "heatmap"
           }
          ],
          "heatmapgl": [
           {
            "colorbar": {
             "outlinewidth": 0,
             "ticks": ""
            },
            "colorscale": [
             [
              0,
              "#0d0887"
             ],
             [
              0.1111111111111111,
              "#46039f"
             ],
             [
              0.2222222222222222,
              "#7201a8"
             ],
             [
              0.3333333333333333,
              "#9c179e"
             ],
             [
              0.4444444444444444,
              "#bd3786"
             ],
             [
              0.5555555555555556,
              "#d8576b"
             ],
             [
              0.6666666666666666,
              "#ed7953"
             ],
             [
              0.7777777777777778,
              "#fb9f3a"
             ],
             [
              0.8888888888888888,
              "#fdca26"
             ],
             [
              1,
              "#f0f921"
             ]
            ],
            "type": "heatmapgl"
           }
          ],
          "histogram": [
           {
            "marker": {
             "pattern": {
              "fillmode": "overlay",
              "size": 10,
              "solidity": 0.2
             }
            },
            "type": "histogram"
           }
          ],
          "histogram2d": [
           {
            "colorbar": {
             "outlinewidth": 0,
             "ticks": ""
            },
            "colorscale": [
             [
              0,
              "#0d0887"
             ],
             [
              0.1111111111111111,
              "#46039f"
             ],
             [
              0.2222222222222222,
              "#7201a8"
             ],
             [
              0.3333333333333333,
              "#9c179e"
             ],
             [
              0.4444444444444444,
              "#bd3786"
             ],
             [
              0.5555555555555556,
              "#d8576b"
             ],
             [
              0.6666666666666666,
              "#ed7953"
             ],
             [
              0.7777777777777778,
              "#fb9f3a"
             ],
             [
              0.8888888888888888,
              "#fdca26"
             ],
             [
              1,
              "#f0f921"
             ]
            ],
            "type": "histogram2d"
           }
          ],
          "histogram2dcontour": [
           {
            "colorbar": {
             "outlinewidth": 0,
             "ticks": ""
            },
            "colorscale": [
             [
              0,
              "#0d0887"
             ],
             [
              0.1111111111111111,
              "#46039f"
             ],
             [
              0.2222222222222222,
              "#7201a8"
             ],
             [
              0.3333333333333333,
              "#9c179e"
             ],
             [
              0.4444444444444444,
              "#bd3786"
             ],
             [
              0.5555555555555556,
              "#d8576b"
             ],
             [
              0.6666666666666666,
              "#ed7953"
             ],
             [
              0.7777777777777778,
              "#fb9f3a"
             ],
             [
              0.8888888888888888,
              "#fdca26"
             ],
             [
              1,
              "#f0f921"
             ]
            ],
            "type": "histogram2dcontour"
           }
          ],
          "mesh3d": [
           {
            "colorbar": {
             "outlinewidth": 0,
             "ticks": ""
            },
            "type": "mesh3d"
           }
          ],
          "parcoords": [
           {
            "line": {
             "colorbar": {
              "outlinewidth": 0,
              "ticks": ""
             }
            },
            "type": "parcoords"
           }
          ],
          "pie": [
           {
            "automargin": true,
            "type": "pie"
           }
          ],
          "scatter": [
           {
            "marker": {
             "colorbar": {
              "outlinewidth": 0,
              "ticks": ""
             }
            },
            "type": "scatter"
           }
          ],
          "scatter3d": [
           {
            "line": {
             "colorbar": {
              "outlinewidth": 0,
              "ticks": ""
             }
            },
            "marker": {
             "colorbar": {
              "outlinewidth": 0,
              "ticks": ""
             }
            },
            "type": "scatter3d"
           }
          ],
          "scattercarpet": [
           {
            "marker": {
             "colorbar": {
              "outlinewidth": 0,
              "ticks": ""
             }
            },
            "type": "scattercarpet"
           }
          ],
          "scattergeo": [
           {
            "marker": {
             "colorbar": {
              "outlinewidth": 0,
              "ticks": ""
             }
            },
            "type": "scattergeo"
           }
          ],
          "scattergl": [
           {
            "marker": {
             "colorbar": {
              "outlinewidth": 0,
              "ticks": ""
             }
            },
            "type": "scattergl"
           }
          ],
          "scattermapbox": [
           {
            "marker": {
             "colorbar": {
              "outlinewidth": 0,
              "ticks": ""
             }
            },
            "type": "scattermapbox"
           }
          ],
          "scatterpolar": [
           {
            "marker": {
             "colorbar": {
              "outlinewidth": 0,
              "ticks": ""
             }
            },
            "type": "scatterpolar"
           }
          ],
          "scatterpolargl": [
           {
            "marker": {
             "colorbar": {
              "outlinewidth": 0,
              "ticks": ""
             }
            },
            "type": "scatterpolargl"
           }
          ],
          "scatterternary": [
           {
            "marker": {
             "colorbar": {
              "outlinewidth": 0,
              "ticks": ""
             }
            },
            "type": "scatterternary"
           }
          ],
          "surface": [
           {
            "colorbar": {
             "outlinewidth": 0,
             "ticks": ""
            },
            "colorscale": [
             [
              0,
              "#0d0887"
             ],
             [
              0.1111111111111111,
              "#46039f"
             ],
             [
              0.2222222222222222,
              "#7201a8"
             ],
             [
              0.3333333333333333,
              "#9c179e"
             ],
             [
              0.4444444444444444,
              "#bd3786"
             ],
             [
              0.5555555555555556,
              "#d8576b"
             ],
             [
              0.6666666666666666,
              "#ed7953"
             ],
             [
              0.7777777777777778,
              "#fb9f3a"
             ],
             [
              0.8888888888888888,
              "#fdca26"
             ],
             [
              1,
              "#f0f921"
             ]
            ],
            "type": "surface"
           }
          ],
          "table": [
           {
            "cells": {
             "fill": {
              "color": "#EBF0F8"
             },
             "line": {
              "color": "white"
             }
            },
            "header": {
             "fill": {
              "color": "#C8D4E3"
             },
             "line": {
              "color": "white"
             }
            },
            "type": "table"
           }
          ]
         },
         "layout": {
          "annotationdefaults": {
           "arrowcolor": "#2a3f5f",
           "arrowhead": 0,
           "arrowwidth": 1
          },
          "autotypenumbers": "strict",
          "coloraxis": {
           "colorbar": {
            "outlinewidth": 0,
            "ticks": ""
           }
          },
          "colorscale": {
           "diverging": [
            [
             0,
             "#8e0152"
            ],
            [
             0.1,
             "#c51b7d"
            ],
            [
             0.2,
             "#de77ae"
            ],
            [
             0.3,
             "#f1b6da"
            ],
            [
             0.4,
             "#fde0ef"
            ],
            [
             0.5,
             "#f7f7f7"
            ],
            [
             0.6,
             "#e6f5d0"
            ],
            [
             0.7,
             "#b8e186"
            ],
            [
             0.8,
             "#7fbc41"
            ],
            [
             0.9,
             "#4d9221"
            ],
            [
             1,
             "#276419"
            ]
           ],
           "sequential": [
            [
             0,
             "#0d0887"
            ],
            [
             0.1111111111111111,
             "#46039f"
            ],
            [
             0.2222222222222222,
             "#7201a8"
            ],
            [
             0.3333333333333333,
             "#9c179e"
            ],
            [
             0.4444444444444444,
             "#bd3786"
            ],
            [
             0.5555555555555556,
             "#d8576b"
            ],
            [
             0.6666666666666666,
             "#ed7953"
            ],
            [
             0.7777777777777778,
             "#fb9f3a"
            ],
            [
             0.8888888888888888,
             "#fdca26"
            ],
            [
             1,
             "#f0f921"
            ]
           ],
           "sequentialminus": [
            [
             0,
             "#0d0887"
            ],
            [
             0.1111111111111111,
             "#46039f"
            ],
            [
             0.2222222222222222,
             "#7201a8"
            ],
            [
             0.3333333333333333,
             "#9c179e"
            ],
            [
             0.4444444444444444,
             "#bd3786"
            ],
            [
             0.5555555555555556,
             "#d8576b"
            ],
            [
             0.6666666666666666,
             "#ed7953"
            ],
            [
             0.7777777777777778,
             "#fb9f3a"
            ],
            [
             0.8888888888888888,
             "#fdca26"
            ],
            [
             1,
             "#f0f921"
            ]
           ]
          },
          "colorway": [
           "#636efa",
           "#EF553B",
           "#00cc96",
           "#ab63fa",
           "#FFA15A",
           "#19d3f3",
           "#FF6692",
           "#B6E880",
           "#FF97FF",
           "#FECB52"
          ],
          "font": {
           "color": "#2a3f5f"
          },
          "geo": {
           "bgcolor": "white",
           "lakecolor": "white",
           "landcolor": "#E5ECF6",
           "showlakes": true,
           "showland": true,
           "subunitcolor": "white"
          },
          "hoverlabel": {
           "align": "left"
          },
          "hovermode": "closest",
          "mapbox": {
           "style": "light"
          },
          "paper_bgcolor": "white",
          "plot_bgcolor": "#E5ECF6",
          "polar": {
           "angularaxis": {
            "gridcolor": "white",
            "linecolor": "white",
            "ticks": ""
           },
           "bgcolor": "#E5ECF6",
           "radialaxis": {
            "gridcolor": "white",
            "linecolor": "white",
            "ticks": ""
           }
          },
          "scene": {
           "xaxis": {
            "backgroundcolor": "#E5ECF6",
            "gridcolor": "white",
            "gridwidth": 2,
            "linecolor": "white",
            "showbackground": true,
            "ticks": "",
            "zerolinecolor": "white"
           },
           "yaxis": {
            "backgroundcolor": "#E5ECF6",
            "gridcolor": "white",
            "gridwidth": 2,
            "linecolor": "white",
            "showbackground": true,
            "ticks": "",
            "zerolinecolor": "white"
           },
           "zaxis": {
            "backgroundcolor": "#E5ECF6",
            "gridcolor": "white",
            "gridwidth": 2,
            "linecolor": "white",
            "showbackground": true,
            "ticks": "",
            "zerolinecolor": "white"
           }
          },
          "shapedefaults": {
           "line": {
            "color": "#2a3f5f"
           }
          },
          "ternary": {
           "aaxis": {
            "gridcolor": "white",
            "linecolor": "white",
            "ticks": ""
           },
           "baxis": {
            "gridcolor": "white",
            "linecolor": "white",
            "ticks": ""
           },
           "bgcolor": "#E5ECF6",
           "caxis": {
            "gridcolor": "white",
            "linecolor": "white",
            "ticks": ""
           }
          },
          "title": {
           "x": 0.05
          },
          "xaxis": {
           "automargin": true,
           "gridcolor": "white",
           "linecolor": "white",
           "ticks": "",
           "title": {
            "standoff": 15
           },
           "zerolinecolor": "white",
           "zerolinewidth": 2
          },
          "yaxis": {
           "automargin": true,
           "gridcolor": "white",
           "linecolor": "white",
           "ticks": "",
           "title": {
            "standoff": 15
           },
           "zerolinecolor": "white",
           "zerolinewidth": 2
          }
         }
        },
        "title": {
         "text": "Document Distribution by Topics"
        },
        "xaxis": {
         "anchor": "y",
         "domain": [
          0,
          1
         ],
         "title": {
          "text": "Topic"
         }
        },
        "yaxis": {
         "anchor": "x",
         "domain": [
          0,
          1
         ],
         "title": {
          "text": "Documents"
         }
        }
       }
      },
      "text/html": [
       "<div>                            <div id=\"daf1de8d-edb8-480b-83a9-0204954b7433\" class=\"plotly-graph-div\" style=\"height:525px; width:100%;\"></div>            <script type=\"text/javascript\">                require([\"plotly\"], function(Plotly) {                    window.PLOTLYENV=window.PLOTLYENV || {};                                    if (document.getElementById(\"daf1de8d-edb8-480b-83a9-0204954b7433\")) {                    Plotly.newPlot(                        \"daf1de8d-edb8-480b-83a9-0204954b7433\",                        [{\"alignmentgroup\":\"True\",\"customdata\":[[\"business, loan, child, school, year, able, buy, stock, family, old\"],[\"rice, farmer, loan, also, use, area, sector, small, many, crop\"],[\"group, loan, usd, member, child, school, marry, year, woman, sell\"],[\"business, loan, sell, year, child, work, buy, make, product, help\"]],\"hovertemplate\":\"Topic=%{x}<br>Documents=%{y}<br>Keyword=%{customdata[0]}<extra></extra>\",\"legendgroup\":\"\",\"marker\":{\"color\":\"#636efa\",\"pattern\":{\"shape\":\"\"}},\"name\":\"\",\"offsetgroup\":\"\",\"orientation\":\"v\",\"showlegend\":false,\"textposition\":\"auto\",\"type\":\"bar\",\"x\":[\"Topic 0\",\"Topic 1\",\"Topic 2\",\"Topic 3\"],\"xaxis\":\"x\",\"y\":[313,32,105,550],\"yaxis\":\"y\"}],                        {\"barmode\":\"relative\",\"legend\":{\"tracegroupgap\":0},\"template\":{\"data\":{\"bar\":[{\"error_x\":{\"color\":\"#2a3f5f\"},\"error_y\":{\"color\":\"#2a3f5f\"},\"marker\":{\"line\":{\"color\":\"#E5ECF6\",\"width\":0.5},\"pattern\":{\"fillmode\":\"overlay\",\"size\":10,\"solidity\":0.2}},\"type\":\"bar\"}],\"barpolar\":[{\"marker\":{\"line\":{\"color\":\"#E5ECF6\",\"width\":0.5},\"pattern\":{\"fillmode\":\"overlay\",\"size\":10,\"solidity\":0.2}},\"type\":\"barpolar\"}],\"carpet\":[{\"aaxis\":{\"endlinecolor\":\"#2a3f5f\",\"gridcolor\":\"white\",\"linecolor\":\"white\",\"minorgridcolor\":\"white\",\"startlinecolor\":\"#2a3f5f\"},\"baxis\":{\"endlinecolor\":\"#2a3f5f\",\"gridcolor\":\"white\",\"linecolor\":\"white\",\"minorgridcolor\":\"white\",\"startlinecolor\":\"#2a3f5f\"},\"type\":\"carpet\"}],\"choropleth\":[{\"colorbar\":{\"outlinewidth\":0,\"ticks\":\"\"},\"type\":\"choropleth\"}],\"contour\":[{\"colorbar\":{\"outlinewidth\":0,\"ticks\":\"\"},\"colorscale\":[[0.0,\"#0d0887\"],[0.1111111111111111,\"#46039f\"],[0.2222222222222222,\"#7201a8\"],[0.3333333333333333,\"#9c179e\"],[0.4444444444444444,\"#bd3786\"],[0.5555555555555556,\"#d8576b\"],[0.6666666666666666,\"#ed7953\"],[0.7777777777777778,\"#fb9f3a\"],[0.8888888888888888,\"#fdca26\"],[1.0,\"#f0f921\"]],\"type\":\"contour\"}],\"contourcarpet\":[{\"colorbar\":{\"outlinewidth\":0,\"ticks\":\"\"},\"type\":\"contourcarpet\"}],\"heatmap\":[{\"colorbar\":{\"outlinewidth\":0,\"ticks\":\"\"},\"colorscale\":[[0.0,\"#0d0887\"],[0.1111111111111111,\"#46039f\"],[0.2222222222222222,\"#7201a8\"],[0.3333333333333333,\"#9c179e\"],[0.4444444444444444,\"#bd3786\"],[0.5555555555555556,\"#d8576b\"],[0.6666666666666666,\"#ed7953\"],[0.7777777777777778,\"#fb9f3a\"],[0.8888888888888888,\"#fdca26\"],[1.0,\"#f0f921\"]],\"type\":\"heatmap\"}],\"heatmapgl\":[{\"colorbar\":{\"outlinewidth\":0,\"ticks\":\"\"},\"colorscale\":[[0.0,\"#0d0887\"],[0.1111111111111111,\"#46039f\"],[0.2222222222222222,\"#7201a8\"],[0.3333333333333333,\"#9c179e\"],[0.4444444444444444,\"#bd3786\"],[0.5555555555555556,\"#d8576b\"],[0.6666666666666666,\"#ed7953\"],[0.7777777777777778,\"#fb9f3a\"],[0.8888888888888888,\"#fdca26\"],[1.0,\"#f0f921\"]],\"type\":\"heatmapgl\"}],\"histogram\":[{\"marker\":{\"pattern\":{\"fillmode\":\"overlay\",\"size\":10,\"solidity\":0.2}},\"type\":\"histogram\"}],\"histogram2d\":[{\"colorbar\":{\"outlinewidth\":0,\"ticks\":\"\"},\"colorscale\":[[0.0,\"#0d0887\"],[0.1111111111111111,\"#46039f\"],[0.2222222222222222,\"#7201a8\"],[0.3333333333333333,\"#9c179e\"],[0.4444444444444444,\"#bd3786\"],[0.5555555555555556,\"#d8576b\"],[0.6666666666666666,\"#ed7953\"],[0.7777777777777778,\"#fb9f3a\"],[0.8888888888888888,\"#fdca26\"],[1.0,\"#f0f921\"]],\"type\":\"histogram2d\"}],\"histogram2dcontour\":[{\"colorbar\":{\"outlinewidth\":0,\"ticks\":\"\"},\"colorscale\":[[0.0,\"#0d0887\"],[0.1111111111111111,\"#46039f\"],[0.2222222222222222,\"#7201a8\"],[0.3333333333333333,\"#9c179e\"],[0.4444444444444444,\"#bd3786\"],[0.5555555555555556,\"#d8576b\"],[0.6666666666666666,\"#ed7953\"],[0.7777777777777778,\"#fb9f3a\"],[0.8888888888888888,\"#fdca26\"],[1.0,\"#f0f921\"]],\"type\":\"histogram2dcontour\"}],\"mesh3d\":[{\"colorbar\":{\"outlinewidth\":0,\"ticks\":\"\"},\"type\":\"mesh3d\"}],\"parcoords\":[{\"line\":{\"colorbar\":{\"outlinewidth\":0,\"ticks\":\"\"}},\"type\":\"parcoords\"}],\"pie\":[{\"automargin\":true,\"type\":\"pie\"}],\"scatter\":[{\"marker\":{\"colorbar\":{\"outlinewidth\":0,\"ticks\":\"\"}},\"type\":\"scatter\"}],\"scatter3d\":[{\"line\":{\"colorbar\":{\"outlinewidth\":0,\"ticks\":\"\"}},\"marker\":{\"colorbar\":{\"outlinewidth\":0,\"ticks\":\"\"}},\"type\":\"scatter3d\"}],\"scattercarpet\":[{\"marker\":{\"colorbar\":{\"outlinewidth\":0,\"ticks\":\"\"}},\"type\":\"scattercarpet\"}],\"scattergeo\":[{\"marker\":{\"colorbar\":{\"outlinewidth\":0,\"ticks\":\"\"}},\"type\":\"scattergeo\"}],\"scattergl\":[{\"marker\":{\"colorbar\":{\"outlinewidth\":0,\"ticks\":\"\"}},\"type\":\"scattergl\"}],\"scattermapbox\":[{\"marker\":{\"colorbar\":{\"outlinewidth\":0,\"ticks\":\"\"}},\"type\":\"scattermapbox\"}],\"scatterpolar\":[{\"marker\":{\"colorbar\":{\"outlinewidth\":0,\"ticks\":\"\"}},\"type\":\"scatterpolar\"}],\"scatterpolargl\":[{\"marker\":{\"colorbar\":{\"outlinewidth\":0,\"ticks\":\"\"}},\"type\":\"scatterpolargl\"}],\"scatterternary\":[{\"marker\":{\"colorbar\":{\"outlinewidth\":0,\"ticks\":\"\"}},\"type\":\"scatterternary\"}],\"surface\":[{\"colorbar\":{\"outlinewidth\":0,\"ticks\":\"\"},\"colorscale\":[[0.0,\"#0d0887\"],[0.1111111111111111,\"#46039f\"],[0.2222222222222222,\"#7201a8\"],[0.3333333333333333,\"#9c179e\"],[0.4444444444444444,\"#bd3786\"],[0.5555555555555556,\"#d8576b\"],[0.6666666666666666,\"#ed7953\"],[0.7777777777777778,\"#fb9f3a\"],[0.8888888888888888,\"#fdca26\"],[1.0,\"#f0f921\"]],\"type\":\"surface\"}],\"table\":[{\"cells\":{\"fill\":{\"color\":\"#EBF0F8\"},\"line\":{\"color\":\"white\"}},\"header\":{\"fill\":{\"color\":\"#C8D4E3\"},\"line\":{\"color\":\"white\"}},\"type\":\"table\"}]},\"layout\":{\"annotationdefaults\":{\"arrowcolor\":\"#2a3f5f\",\"arrowhead\":0,\"arrowwidth\":1},\"autotypenumbers\":\"strict\",\"coloraxis\":{\"colorbar\":{\"outlinewidth\":0,\"ticks\":\"\"}},\"colorscale\":{\"diverging\":[[0,\"#8e0152\"],[0.1,\"#c51b7d\"],[0.2,\"#de77ae\"],[0.3,\"#f1b6da\"],[0.4,\"#fde0ef\"],[0.5,\"#f7f7f7\"],[0.6,\"#e6f5d0\"],[0.7,\"#b8e186\"],[0.8,\"#7fbc41\"],[0.9,\"#4d9221\"],[1,\"#276419\"]],\"sequential\":[[0.0,\"#0d0887\"],[0.1111111111111111,\"#46039f\"],[0.2222222222222222,\"#7201a8\"],[0.3333333333333333,\"#9c179e\"],[0.4444444444444444,\"#bd3786\"],[0.5555555555555556,\"#d8576b\"],[0.6666666666666666,\"#ed7953\"],[0.7777777777777778,\"#fb9f3a\"],[0.8888888888888888,\"#fdca26\"],[1.0,\"#f0f921\"]],\"sequentialminus\":[[0.0,\"#0d0887\"],[0.1111111111111111,\"#46039f\"],[0.2222222222222222,\"#7201a8\"],[0.3333333333333333,\"#9c179e\"],[0.4444444444444444,\"#bd3786\"],[0.5555555555555556,\"#d8576b\"],[0.6666666666666666,\"#ed7953\"],[0.7777777777777778,\"#fb9f3a\"],[0.8888888888888888,\"#fdca26\"],[1.0,\"#f0f921\"]]},\"colorway\":[\"#636efa\",\"#EF553B\",\"#00cc96\",\"#ab63fa\",\"#FFA15A\",\"#19d3f3\",\"#FF6692\",\"#B6E880\",\"#FF97FF\",\"#FECB52\"],\"font\":{\"color\":\"#2a3f5f\"},\"geo\":{\"bgcolor\":\"white\",\"lakecolor\":\"white\",\"landcolor\":\"#E5ECF6\",\"showlakes\":true,\"showland\":true,\"subunitcolor\":\"white\"},\"hoverlabel\":{\"align\":\"left\"},\"hovermode\":\"closest\",\"mapbox\":{\"style\":\"light\"},\"paper_bgcolor\":\"white\",\"plot_bgcolor\":\"#E5ECF6\",\"polar\":{\"angularaxis\":{\"gridcolor\":\"white\",\"linecolor\":\"white\",\"ticks\":\"\"},\"bgcolor\":\"#E5ECF6\",\"radialaxis\":{\"gridcolor\":\"white\",\"linecolor\":\"white\",\"ticks\":\"\"}},\"scene\":{\"xaxis\":{\"backgroundcolor\":\"#E5ECF6\",\"gridcolor\":\"white\",\"gridwidth\":2,\"linecolor\":\"white\",\"showbackground\":true,\"ticks\":\"\",\"zerolinecolor\":\"white\"},\"yaxis\":{\"backgroundcolor\":\"#E5ECF6\",\"gridcolor\":\"white\",\"gridwidth\":2,\"linecolor\":\"white\",\"showbackground\":true,\"ticks\":\"\",\"zerolinecolor\":\"white\"},\"zaxis\":{\"backgroundcolor\":\"#E5ECF6\",\"gridcolor\":\"white\",\"gridwidth\":2,\"linecolor\":\"white\",\"showbackground\":true,\"ticks\":\"\",\"zerolinecolor\":\"white\"}},\"shapedefaults\":{\"line\":{\"color\":\"#2a3f5f\"}},\"ternary\":{\"aaxis\":{\"gridcolor\":\"white\",\"linecolor\":\"white\",\"ticks\":\"\"},\"baxis\":{\"gridcolor\":\"white\",\"linecolor\":\"white\",\"ticks\":\"\"},\"bgcolor\":\"#E5ECF6\",\"caxis\":{\"gridcolor\":\"white\",\"linecolor\":\"white\",\"ticks\":\"\"}},\"title\":{\"x\":0.05},\"xaxis\":{\"automargin\":true,\"gridcolor\":\"white\",\"linecolor\":\"white\",\"ticks\":\"\",\"title\":{\"standoff\":15},\"zerolinecolor\":\"white\",\"zerolinewidth\":2},\"yaxis\":{\"automargin\":true,\"gridcolor\":\"white\",\"linecolor\":\"white\",\"ticks\":\"\",\"title\":{\"standoff\":15},\"zerolinecolor\":\"white\",\"zerolinewidth\":2}}},\"title\":{\"text\":\"Document Distribution by Topics\"},\"xaxis\":{\"anchor\":\"y\",\"domain\":[0.0,1.0],\"title\":{\"text\":\"Topic\"}},\"yaxis\":{\"anchor\":\"x\",\"domain\":[0.0,1.0],\"title\":{\"text\":\"Documents\"}}},                        {\"responsive\": true}                    ).then(function(){\n",
       "                            \n",
       "var gd = document.getElementById('daf1de8d-edb8-480b-83a9-0204954b7433');\n",
       "var x = new MutationObserver(function (mutations, observer) {{\n",
       "        var display = window.getComputedStyle(gd).display;\n",
       "        if (!display || display === 'none') {{\n",
       "            console.log([gd, 'removed!']);\n",
       "            Plotly.purge(gd);\n",
       "            observer.disconnect();\n",
       "        }}\n",
       "}});\n",
       "\n",
       "// Listen for the removal of the full notebook cells\n",
       "var notebookContainer = gd.closest('#notebook-container');\n",
       "if (notebookContainer) {{\n",
       "    x.observe(notebookContainer, {childList: true});\n",
       "}}\n",
       "\n",
       "// Listen for the clearing of the current output cell\n",
       "var outputEl = gd.closest('.output');\n",
       "if (outputEl) {{\n",
       "    x.observe(outputEl, {childList: true});\n",
       "}}\n",
       "\n",
       "                        })                };                });            </script>        </div>"
      ]
     },
     "metadata": {},
     "output_type": "display_data"
    }
   ],
   "source": [
    "plot_model(lda, plot = 'topic_distribution')"
   ]
  },
  {
   "cell_type": "markdown",
   "metadata": {},
   "source": [
    "Each document is a distribution of topics and not a single topic. Although, if the task is to categorize the document into specific topics, it would not be wrong to use the ratio of topics with the highest value to categorize the document into ** one topic **. In the chart above, each document is ranked on a topic using the highest proportion of topic weights. We can see that most of the documents are in \"Topic 3\" and only a few are in \"Topic 1\". If you hover your mouse over these bars, you will get a basic idea of ​​the topics in this topic by looking at the keywords.\n",
    "\n",
    "For example, if you evaluate \"Topic 2\", you will see keywords like \"farmer\", \"rice\", \"land\", which probably means that loan applicants in this category belong to agricultural loans. However, if you hover over `Topic 0` and` Topic 3`, you will notice that many repetitions and keywords overlap in all topics, such as the word \"loan\" and \"business\" that appear in both the ` Topic 0` as in `Topic 3`"
   ]
  },
  {
   "cell_type": "markdown",
   "metadata": {},
   "source": [
    "###  T-distributed Stochastic Neighbor Embedding (t-SNE)"
   ]
  },
  {
   "cell_type": "code",
   "execution_count": 19,
   "metadata": {},
   "outputs": [
    {
     "data": {
      "text/html": [
       "        <script type=\"text/javascript\">\n",
       "        window.PlotlyConfig = {MathJaxConfig: 'local'};\n",
       "        if (window.MathJax) {MathJax.Hub.Config({SVG: {font: \"STIX-Web\"}});}\n",
       "        if (typeof require !== 'undefined') {\n",
       "        require.undef(\"plotly\");\n",
       "        requirejs.config({\n",
       "            paths: {\n",
       "                'plotly': ['https://cdn.plot.ly/plotly-2.2.0.min']\n",
       "            }\n",
       "        });\n",
       "        require(['plotly'], function(Plotly) {\n",
       "            window._Plotly = Plotly;\n",
       "        });\n",
       "        }\n",
       "        </script>\n",
       "        "
      ]
     },
     "metadata": {},
     "output_type": "display_data"
    },
    {
     "data": {
      "application/vnd.plotly.v1+json": {
       "config": {
        "plotlyServerURL": "https://plot.ly"
       },
       "data": [
        {
         "hovertemplate": "Dominant_Topic=Topic 0<br>0=%{x}<br>1=%{y}<br>2=%{z}<extra></extra>",
         "legendgroup": "Topic 0",
         "marker": {
          "color": "#636efa",
          "opacity": 0.7,
          "symbol": "circle"
         },
         "mode": "markers",
         "name": "Topic 0",
         "scene": "scene",
         "showlegend": true,
         "type": "scatter3d",
         "x": [
          3.3807921409606934,
          10.180153846740723,
          2.276564598083496,
          0.2426191121339798,
          -0.5660145282745361,
          2.920194625854492,
          -1.3641570806503296,
          -5.742105960845947,
          -2.6135685443878174,
          5.785348892211914,
          9.598730087280273,
          5.003267765045166,
          -5.198675632476807,
          -5.802816867828369,
          -7.560858726501465,
          1.0396132469177246,
          -3.3224172592163086,
          -0.17448681592941284,
          -6.992501735687256,
          -0.479356974363327,
          -3.6164660453796387,
          -6.712849140167236,
          -4.386087417602539,
          -0.2546716034412384,
          -0.11835458874702454,
          4.7205491065979,
          -1.6852247714996338,
          1.789027214050293,
          -6.555052757263184,
          -2.412792205810547,
          -2.9035277366638184,
          5.6694841384887695,
          -7.245043754577637,
          -0.31001201272010803,
          -2.78912091255188,
          -7.388998985290527,
          2.4959561824798584,
          0.796363890171051,
          -0.565669596195221,
          2.309122085571289,
          -4.498485565185547,
          -0.7462494373321533,
          -4.595702648162842,
          1.4502311944961548,
          -1.0019398927688599,
          10.013665199279785,
          8.169709205627441,
          9.462634086608887,
          0.09832743555307388,
          -6.647796630859375,
          -0.9220792055130005,
          -0.69969642162323,
          -2.5807785987854004,
          0.4630591869354248,
          -0.17145949602127075,
          9.017659187316895,
          5.451066017150879,
          -6.751634120941162,
          1.286551833152771,
          -3.624877691268921,
          -5.213027477264404,
          0.8706048727035522,
          9.572925567626953,
          0.8702269196510315,
          -7.0814642906188965,
          6.348753452301025,
          -3.0116004943847656,
          10.119772911071777,
          -1.0971482992172241,
          -4.772051811218262,
          -6.7824249267578125,
          0.6485387086868286,
          -6.689976692199707,
          2.572747230529785,
          1.7425227165222168,
          -3.9825313091278076,
          1.2418487071990967,
          8.528047561645508,
          0.6889232397079468,
          4.691877365112305,
          0.6714064478874207,
          -1.7953578233718872,
          -6.550022125244141,
          5.471192359924316,
          -0.6118744015693665,
          -6.45221471786499,
          -5.476777076721191,
          -3.958665132522583,
          -2.1051666736602783,
          2.7025275230407715,
          -7.537328720092773,
          2.3823752403259277,
          -0.7414780855178833,
          -6.916296005249023,
          10.149320602416992,
          -6.271272659301758,
          2.899681329727173,
          -7.464677333831787,
          1.6471620798110962,
          -5.419983386993408,
          -4.748389720916748,
          -7.264328956604004,
          -0.7822424173355103,
          0.991956889629364,
          -0.9865357875823975,
          -4.157534122467041,
          8.011737823486328,
          -0.15864594280719757,
          -5.465943813323975,
          10.242316246032715,
          1.1316663026809692,
          8.500625610351562,
          2.363123893737793,
          7.130387306213379,
          -6.502115249633789,
          -7.180873394012451,
          -3.078897476196289,
          -1.2692148685455322,
          -4.837122440338135,
          -5.825339317321777,
          7.372302532196045,
          -6.362527370452881,
          -5.858138084411621,
          -7.379975318908691,
          -0.7417823076248169,
          -3.573287010192871,
          -5.1212029457092285,
          0.253589391708374,
          -3.0280134677886963,
          1.3062279224395752,
          -7.393631935119629,
          6.4633893966674805,
          -7.197667598724365,
          -6.6061882972717285,
          -6.774702072143555,
          8.602397918701172,
          -1.4828863143920898,
          7.009585857391357,
          3.297333002090454,
          1.0623703002929688,
          9.059240341186523,
          4.80522346496582,
          -7.347876071929932,
          -5.7042436599731445,
          -2.2304558753967285,
          7.702576637268066,
          0.7474953532218933,
          -0.8895992636680603,
          -6.647995948791504,
          -7.238975524902344,
          7.082470417022705,
          -3.7300074100494385,
          -7.067473411560059,
          -7.51138973236084,
          1.6966946125030518,
          1.9009839296340942,
          -1.8006746768951416,
          -3.644315481185913,
          1.152147889137268,
          0.8477509021759033,
          -4.592724800109863,
          -7.520832061767578,
          -6.113742828369141,
          1.4502395391464233,
          -6.3263325691223145,
          1.6954799890518188,
          -6.075043678283691,
          2.645392894744873,
          -1.2158085107803345,
          -6.754086971282959,
          -0.8479493856430054,
          -3.9505057334899902,
          -5.016188144683838,
          0.06480339169502258,
          1.9560519456863403,
          -7.035877704620361,
          5.941169261932373,
          1.9398646354675293,
          1.585628628730774,
          6.606457233428955,
          -7.23452091217041,
          3.8704941272735596,
          5.136317253112793,
          1.5357515811920166,
          -4.453239917755127,
          10.01386547088623,
          -0.26921939849853516,
          8.520520210266113,
          -5.995024681091309,
          -0.4089399576187134,
          -5.704648971557617,
          2.499824285507202,
          -0.30827245116233826,
          -4.777196407318115,
          1.8464025259017944,
          8.589868545532227,
          -0.7842035889625549,
          1.5246257781982422,
          4.210593223571777,
          -1.923712968826294,
          4.0752787590026855,
          9.997992515563965,
          -4.11068058013916,
          -3.7848095893859863,
          1.3357000350952148,
          -7.5018463134765625,
          -7.515870571136475,
          -0.5932944416999817,
          -0.7871065735816956,
          4.484066963195801,
          -1.584723949432373,
          -7.47831916809082,
          3.3524820804595947,
          -1.5362670421600342,
          -6.5924506187438965,
          -7.043471336364746,
          2.6650500297546387,
          9.45858383178711,
          -4.557243824005127,
          -2.269164800643921,
          -7.459522247314453,
          -5.01699686050415,
          7.2439703941345215,
          -0.1337210237979889,
          3.8626415729522705,
          -6.036202430725098,
          -5.9892144203186035,
          3.1162760257720947,
          -7.14733362197876,
          8.888795852661133,
          8.104239463806152,
          1.8955395221710205,
          7.229479789733887,
          -0.6723433136940002,
          -4.644958019256592,
          8.930501937866211,
          -0.007073709741234779,
          -4.354238033294678,
          -2.6896822452545166,
          -6.0129523277282715,
          -1.323134422302246,
          -3.901451349258423,
          -5.9113993644714355,
          6.774775981903076,
          -7.061344146728516,
          -0.6054866909980774,
          6.91273307800293,
          9.778846740722656,
          -5.991131782531738,
          -3.7210211753845215,
          9.106557846069336,
          1.9715852737426758,
          -0.4731214642524719,
          8.206924438476562,
          -7.482748031616211,
          -7.500949382781982,
          -6.657663345336914,
          -7.261694431304932,
          10.343768119812012,
          7.039710521697998,
          1.2167614698410034,
          6.313607692718506,
          -6.731525897979736,
          6.9025797843933105,
          -6.402719020843506,
          -0.04873528704047203,
          -1.7646158933639526,
          6.838822364807129,
          -7.182633399963379,
          0.6510058641433716,
          -4.293862819671631,
          -6.793040752410889,
          8.289090156555176,
          -5.01613187789917,
          -0.8578224182128906,
          -0.09203001856803894,
          -7.3666157722473145,
          3.738676071166992,
          -6.085785865783691,
          -0.6505141258239746,
          3.1322360038757324,
          -1.7736903429031372,
          3.3443708419799805,
          6.203723430633545,
          -6.32509708404541,
          1.6666632890701294,
          -5.425264358520508,
          -7.517195701599121,
          10.095916748046875,
          10.211490631103516,
          -4.740466117858887,
          -7.391546726226807,
          -3.1862025260925293,
          -6.1158599853515625,
          -4.764338493347168,
          -6.055214881896973,
          -4.661203861236572,
          -4.086355686187744,
          5.108407497406006,
          1.402118444442749,
          -6.598565578460693,
          7.678137302398682,
          -5.1613945960998535,
          -5.617011547088623,
          -6.173748016357422,
          0.6676353812217712,
          -5.5477495193481445,
          -5.5198845863342285,
          3.0118308067321777,
          10.177489280700684,
          4.364120006561279,
          1.4063429832458496,
          -3.2026541233062744
         ],
         "y": [
          -10.256917953491211,
          -12.43692398071289,
          -9.747703552246094,
          -3.6717352867126465,
          -8.154470443725586,
          -10.230104446411133,
          -4.82405948638916,
          -6.54733419418335,
          -8.630929946899414,
          -11.126697540283203,
          -12.27451229095459,
          -9.534750938415527,
          -2.9877843856811523,
          -6.509734153747559,
          -5.046835899353027,
          -5.344447612762451,
          -3.32015061378479,
          -5.055339336395264,
          -6.116061687469482,
          -8.418298721313477,
          -6.990737438201904,
          -3.28147029876709,
          -6.802704334259033,
          -8.595674514770508,
          -8.162627220153809,
          -10.746757507324219,
          -7.828185081481934,
          -9.363818168640137,
          -6.307112216949463,
          -4.918941020965576,
          -3.3666465282440186,
          -10.468947410583496,
          -5.844018936157227,
          -5.572813987731934,
          -7.319631576538086,
          -4.493571758270264,
          -10.065821647644043,
          -3.672934055328369,
          -5.1102495193481445,
          -9.88951587677002,
          -3.3557074069976807,
          -3.4926044940948486,
          -3.1989498138427734,
          -9.435510635375977,
          -5.277971267700195,
          -12.005837440490723,
          -11.979866981506348,
          -12.19989013671875,
          -3.681795597076416,
          -6.707277297973633,
          -3.394230365753174,
          -5.968873500823975,
          -7.421421051025391,
          -8.899621963500977,
          -3.5790271759033203,
          -12.162951469421387,
          -11.013718605041504,
          -6.195361137390137,
          -4.170341968536377,
          -5.999568462371826,
          -2.983938217163086,
          -9.15459156036377,
          -11.421443939208984,
          -3.0005743503570557,
          -3.8632547855377197,
          -11.333937644958496,
          -7.245572090148926,
          -12.214376449584961,
          -8.504674911499023,
          -6.677455902099609,
          -3.4209842681884766,
          -5.1584906578063965,
          -3.259331226348877,
          -9.857735633850098,
          -4.233987808227539,
          -6.74798583984375,
          -3.478588819503784,
          -12.081159591674805,
          -4.807344913482666,
          -10.732499122619629,
          -9.036674499511719,
          -7.765081882476807,
          -6.312315464019775,
          -11.001439094543457,
          -8.404172897338867,
          -3.091531276702881,
          -6.557528018951416,
          -6.781996250152588,
          -7.637950420379639,
          -3.519563913345337,
          -5.01602840423584,
          -3.317110776901245,
          -5.14054536819458,
          -3.613384246826172,
          -12.059264183044434,
          -3.0518627166748047,
          -9.932621002197266,
          -5.478382110595703,
          -9.530929565429688,
          -2.9441421031951904,
          -3.179615020751953,
          -5.812252521514893,
          -3.989797592163086,
          -3.389993906021118,
          -3.617915630340576,
          -3.296677350997925,
          -11.815376281738281,
          -3.798184394836426,
          -6.567144870758057,
          -12.054831504821777,
          -9.280168533325195,
          -11.97761058807373,
          -3.558316469192505,
          -11.4546537399292,
          -3.317229747772217,
          -5.9198737144470215,
          -8.515914916992188,
          -8.036934852600098,
          -3.759866952896118,
          -6.506850242614746,
          -11.620014190673828,
          -3.0752625465393066,
          -2.9627199172973633,
          -4.474733829498291,
          -6.036448955535889,
          -3.2936205863952637,
          -3.0140433311462402,
          -8.867122650146484,
          -4.77443790435791,
          -9.347716331481934,
          -4.498599529266357,
          -11.372456550598145,
          -4.0646257400512695,
          -6.279667377471924,
          -6.250831127166748,
          -10.360199928283691,
          -3.489309072494507,
          -10.849705696105957,
          -3.150203227996826,
          -3.6702606678009033,
          -10.765522003173828,
          -10.785951614379883,
          -5.688493251800537,
          -6.520880222320557,
          -3.422456741333008,
          -11.831128120422363,
          -8.632904052734375,
          -8.229242324829102,
          -3.1713430881500244,
          -5.548761367797852,
          -11.489259719848633,
          -6.94415807723999,
          -3.838418483734131,
          -5.052572727203369,
          -4.102478981018066,
          -9.651843070983887,
          -4.9952263832092285,
          -6.956064701080322,
          -2.879974842071533,
          -9.146994590759277,
          -3.279224395751953,
          -5.358171463012695,
          -6.454678058624268,
          -4.6010260581970215,
          -3.22772479057312,
          -3.6792192459106445,
          -6.459906101226807,
          -9.811827659606934,
          -5.866461753845215,
          -6.207968235015869,
          -8.261970520019531,
          -6.905938148498535,
          -3.3078036308288574,
          -5.66087532043457,
          -4.033313274383545,
          -6.044846057891846,
          -11.125128746032715,
          -3.733396530151367,
          -5.938403606414795,
          -10.810151100158691,
          -5.857423305511475,
          -10.454093933105469,
          -10.037060737609863,
          -3.9789650440216064,
          -6.687556266784668,
          -12.266414642333984,
          -8.586837768554688,
          -12.075576782226562,
          -3.001453399658203,
          -8.512005805969238,
          -2.9403088092803955,
          -10.02084732055664,
          -3.317721128463745,
          -3.1656653881073,
          -3.991270065307617,
          -12.096336364746094,
          -3.52014422416687,
          -3.5412392616271973,
          -10.560174942016602,
          -5.301116466522217,
          -10.527364730834961,
          -12.230006217956543,
          -6.6089372634887695,
          -8.294451713562012,
          -4.162668228149414,
          -4.95212459564209,
          -4.869785308837891,
          -3.637639045715332,
          -8.297819137573242,
          -10.64307975769043,
          -5.0041985511779785,
          -5.382389545440674,
          -10.270220756530762,
          -7.902780055999756,
          -4.035653591156006,
          -3.970104694366455,
          -10.032329559326172,
          -12.17720890045166,
          -6.727354526519775,
          -5.128011703491211,
          -5.222739219665527,
          -3.0497469902038574,
          -11.671256065368652,
          -3.296934127807617,
          -10.461372375488281,
          -2.985870599746704,
          -6.4723896980285645,
          -3.161176919937134,
          -3.9705562591552734,
          -10.653132438659668,
          -11.95958423614502,
          -4.059225082397461,
          -10.904193878173828,
          -6.17763090133667,
          -3.140599250793457,
          -12.154314994812012,
          -7.88476037979126,
          -6.780460357666016,
          -7.373409271240234,
          -4.660049915313721,
          -5.259755611419678,
          -6.306618690490723,
          -2.9652206897735596,
          -11.485275268554688,
          -3.96956467628479,
          -7.52339506149292,
          -11.54633617401123,
          -12.265042304992676,
          -5.028011798858643,
          -4.478945255279541,
          -12.109292030334473,
          -9.690523147583008,
          -5.200094223022461,
          -11.914217948913574,
          -5.228107929229736,
          -5.348869800567627,
          -3.251441717147827,
          -4.968198776245117,
          -12.266134262084961,
          -10.852996826171875,
          -5.355134963989258,
          -11.225894927978516,
          -3.338162660598755,
          -10.709078788757324,
          -3.1860709190368652,
          -5.616562843322754,
          -3.4806745052337646,
          -11.518359184265137,
          -5.916977882385254,
          -3.6544923782348633,
          -6.8228960037231445,
          -6.659458637237549,
          -12.032418251037598,
          -3.0516066551208496,
          -3.4959938526153564,
          -7.994869232177734,
          -4.440025806427002,
          -10.422194480895996,
          -6.462748050689697,
          -6.06917142868042,
          -10.235288619995117,
          -7.788989067077637,
          -10.273829460144043,
          -11.274463653564453,
          -3.2265267372131348,
          -3.307420015335083,
          -2.9416120052337646,
          -5.123992919921875,
          -12.236003875732422,
          -12.116415977478027,
          -3.0774378776550293,
          -5.609615802764893,
          -7.13831901550293,
          -6.467331886291504,
          -6.6678242683410645,
          -2.9934825897216797,
          -3.8104159832000732,
          -6.8887457847595215,
          -9.424222946166992,
          -5.761863708496094,
          -3.152736186981201,
          -11.81861400604248,
          -2.998645305633545,
          -2.9348394870758057,
          -6.449750900268555,
          -3.7838423252105713,
          -2.931675672531128,
          -2.9371485710144043,
          -10.073281288146973,
          -12.437150001525879,
          -10.623741149902344,
          -9.417359352111816,
          -8.496822357177734
         ],
         "z": [
          -10.701314926147461,
          -7.708138942718506,
          -10.71120548248291,
          -2.7950189113616943,
          -10.562994003295898,
          -10.816105842590332,
          -5.587181091308594,
          -10.505470275878906,
          -9.441473960876465,
          -9.947957038879395,
          -8.040245056152344,
          -8.830403327941895,
          -0.8391210436820984,
          -10.685440063476562,
          -6.749542713165283,
          -6.454010009765625,
          -0.5796164274215698,
          -6.144251823425293,
          -8.888931274414062,
          -10.856423377990723,
          -11.679929733276367,
          -3.727539300918579,
          -11.557648658752441,
          -10.93712329864502,
          -10.155328750610352,
          -10.333230972290039,
          -11.342061996459961,
          -10.527449607849121,
          -9.812116622924805,
          -5.963594913482666,
          -1.1833641529083252,
          -9.381580352783203,
          -8.23128604888916,
          -6.9240241050720215,
          -11.621772766113281,
          -5.904399871826172,
          -10.831536293029785,
          -3.20334792137146,
          -6.215449810028076,
          -10.883435249328613,
          0.5931990146636963,
          -1.4766476154327393,
          -0.06946633011102676,
          -10.854084014892578,
          -6.508408069610596,
          -7.889151096343994,
          -8.853534698486328,
          -8.08949089050293,
          -2.726346492767334,
          -7.592292785644531,
          -0.8489707708358765,
          -7.569698810577393,
          -11.60741138458252,
          -10.779818534851074,
          -2.1497609615325928,
          -8.390520095825195,
          -10.079092979431152,
          -9.461687088012695,
          -4.799026012420654,
          -10.338367462158203,
          -0.8542985320091248,
          -10.855732917785645,
          -7.640669822692871,
          -0.5380316376686096,
          -4.883507251739502,
          -9.720190048217773,
          -11.683271408081055,
          -7.493325710296631,
          -10.47936725616455,
          -11.323785781860352,
          -4.04101037979126,
          -6.2725605964660645,
          -3.6512393951416016,
          -10.915912628173828,
          -5.171255111694336,
          -11.598138809204102,
          -2.954679250717163,
          -8.658796310424805,
          -5.809464454650879,
          -10.338677406311035,
          -10.831085205078125,
          -11.34586238861084,
          -9.815606117248535,
          -10.051713943481445,
          -11.01052188873291,
          -3.166416883468628,
          -10.899455070495605,
          -11.619629859924316,
          -11.493036270141602,
          -4.359440803527832,
          -6.913114070892334,
          -3.5041637420654297,
          -6.264126777648926,
          -4.417910099029541,
          -7.902003765106201,
          -2.9062774181365967,
          -10.630824089050293,
          -7.403341770172119,
          -10.85754680633545,
          -1.2896848917007446,
          -0.023884829133749008,
          -8.133320808410645,
          -3.203840732574463,
          -2.3631370067596436,
          -1.9322322607040405,
          0.06816048920154572,
          -8.842607498168945,
          -2.945530891418457,
          -10.911604881286621,
          -7.6740922927856445,
          -10.84879207611084,
          -8.603607177734375,
          -4.163311958312988,
          -9.233452796936035,
          -3.7701613903045654,
          -8.413274765014648,
          -9.347208976745605,
          -11.184144973754883,
          -3.9917054176330566,
          -10.676066398620605,
          -9.179471015930176,
          -3.0622613430023193,
          -2.1321959495544434,
          -5.8787760734558105,
          -7.6767578125,
          -0.542180597782135,
          -0.6910814642906189,
          -10.905974388122559,
          -5.753177165985107,
          -10.828130722045898,
          -5.912703990936279,
          -9.670537948608398,
          -5.22868537902832,
          -9.728175163269043,
          -9.370501518249512,
          -7.661194801330566,
          -1.3751121759414673,
          -7.176900386810303,
          -3.950512647628784,
          -3.3958969116210938,
          -7.609256744384766,
          -10.31367301940918,
          -7.85078763961792,
          -10.658218383789062,
          -1.1237508058547974,
          -9.093525886535645,
          -10.171476364135742,
          -11.04944133758545,
          -3.453322649002075,
          -7.293286323547363,
          -9.298288345336914,
          -11.667245864868164,
          -4.830545902252197,
          -7.017951488494873,
          -4.900965213775635,
          -10.858561515808105,
          -6.038634300231934,
          -11.648265838623047,
          -0.26572924852371216,
          -10.863147735595703,
          0.3165092170238495,
          -7.024569988250732,
          -10.398472785949707,
          -5.601473331451416,
          -3.5321688652038574,
          -3.919203996658325,
          -10.438739776611328,
          -10.84859848022461,
          -7.526981353759766,
          -9.442785263061523,
          -11.061205863952637,
          -11.66621208190918,
          -2.718562364578247,
          -7.0052947998046875,
          -4.928725242614746,
          -8.856470108032227,
          -9.830522537231445,
          -4.254765510559082,
          -6.967377662658691,
          -9.109458923339844,
          -8.271830558776855,
          -10.593876838684082,
          -9.297880172729492,
          -4.526575565338135,
          -11.399674415588379,
          -7.495659351348877,
          -10.939274787902832,
          -8.660533905029297,
          -2.4522945880889893,
          -10.960081100463867,
          -1.8236042261123657,
          -10.905454635620117,
          -0.9118812680244446,
          -0.07183042168617249,
          -4.769533634185791,
          -8.623406410217285,
          -1.588409662246704,
          -3.39552903175354,
          -10.489197731018066,
          -6.661314964294434,
          -10.543846130371094,
          -7.49432373046875,
          -11.33010196685791,
          -9.148427963256836,
          -4.810924530029297,
          -6.595947265625,
          -6.47719144821167,
          -2.1346914768218994,
          -11.045926094055176,
          -10.393562316894531,
          -6.032519817352295,
          -7.110411167144775,
          -10.729597091674805,
          -11.291074752807617,
          -5.0963544845581055,
          -5.054621696472168,
          -10.630232810974121,
          -8.079471588134766,
          -11.44873046875,
          -6.37559175491333,
          -7.18071985244751,
          -0.5211085677146912,
          -9.318325996398926,
          -0.9604201316833496,
          -10.601802825927734,
          -2.42584228515625,
          -10.52808666229248,
          -3.7872674465179443,
          -5.069169521331787,
          -7.6513991355896,
          -8.880342483520508,
          -4.941000461578369,
          -8.825390815734863,
          -7.857205390930176,
          -1.6006678342819214,
          -8.441991806030273,
          -9.684776306152344,
          -11.564799308776855,
          -11.627922058105469,
          -5.930222988128662,
          -6.50382137298584,
          -10.885099411010742,
          -2.22564697265625,
          -9.532922744750977,
          -5.056459903717041,
          -9.70067310333252,
          -9.472989082336426,
          -7.630370140075684,
          -6.473437786102295,
          -5.252572536468506,
          -8.305480003356934,
          -10.875448226928711,
          -6.36228084564209,
          -8.76789665222168,
          -6.780001163482666,
          -7.26838493347168,
          -3.6250879764556885,
          -6.541204929351807,
          -7.625208377838135,
          -7.145518779754639,
          -6.44559907913208,
          -9.647909164428711,
          -3.860646963119507,
          -7.141626834869385,
          -3.5311691761016846,
          -6.9593424797058105,
          -1.376272201538086,
          -9.509406089782715,
          -8.437871932983398,
          -3.0421230792999268,
          -11.586371421813965,
          -9.254179000854492,
          -8.792715072631836,
          -0.5045511722564697,
          -1.456276774406433,
          -9.897656440734863,
          -5.82315731048584,
          -10.637134552001953,
          -10.408202171325684,
          -7.70468807220459,
          -10.806207656860352,
          -11.3738374710083,
          -10.739944458007812,
          -9.77526569366455,
          -3.5286977291107178,
          -2.7560057640075684,
          -1.267419457435608,
          -6.737402439117432,
          -7.981509208679199,
          -7.8984527587890625,
          -1.1157898902893066,
          -7.659042835235596,
          -11.66137409210205,
          -10.356911659240723,
          -11.307758331298828,
          -2.4748294353485107,
          -4.021664619445801,
          -11.650079727172852,
          -8.624680519104004,
          -6.83400821685791,
          -3.384161949157715,
          -9.104081153869629,
          -0.7849469780921936,
          -1.6526190042495728,
          -10.313080787658691,
          -3.4317612648010254,
          -1.493927001953125,
          -1.4929895401000977,
          -10.894699096679688,
          -7.698260307312012,
          -10.460371017456055,
          -10.858692169189453,
          -9.298768043518066
         ]
        },
        {
         "hovertemplate": "Dominant_Topic=Topic 1<br>0=%{x}<br>1=%{y}<br>2=%{z}<extra></extra>",
         "legendgroup": "Topic 1",
         "marker": {
          "color": "#EF553B",
          "opacity": 0.7,
          "symbol": "circle"
         },
         "mode": "markers",
         "name": "Topic 1",
         "scene": "scene",
         "showlegend": true,
         "type": "scatter3d",
         "x": [
          0.8826188445091248,
          1.1614373922348022,
          1.9442447423934937,
          0.9805379509925842,
          0.9284040331840515,
          1.686309814453125,
          1.3885630369186401,
          1.218082070350647,
          1.8102375268936157,
          1.4766616821289062,
          1.048769235610962,
          1.5874359607696533,
          1.0128989219665527,
          -1.8565673828125,
          1.5785396099090576,
          0.7704092264175415,
          0.9006037712097168,
          1.3712159395217896,
          1.3386870622634888,
          0.9434468150138855,
          0.8128441572189331,
          1.6739013195037842,
          1.4050648212432861,
          1.2950137853622437,
          1.5639106035232544,
          -1.7661234140396118,
          0.9225109219551086,
          1.7631868124008179,
          1.8733559846878052,
          1.8532390594482422,
          1.2584888935089111,
          1.6264480352401733
         ],
         "y": [
          -11.042069435119629,
          -11.19112777709961,
          -10.812744140625,
          -10.618280410766602,
          -11.036604881286621,
          -11.137924194335938,
          -10.982224464416504,
          -11.059562683105469,
          -10.68265438079834,
          -11.41769790649414,
          -10.791243553161621,
          -10.476594924926758,
          -11.248607635498047,
          -5.822065353393555,
          -10.4680757522583,
          -9.90584945678711,
          -10.116568565368652,
          -10.596789360046387,
          -10.355649948120117,
          -10.139744758605957,
          -10.53903865814209,
          -11.04466724395752,
          -11.417110443115234,
          -11.31904411315918,
          -10.330578804016113,
          -5.9336652755737305,
          -10.124611854553223,
          -11.198280334472656,
          -10.766266822814941,
          -11.215497016906738,
          -10.7581205368042,
          -10.884184837341309
         ],
         "z": [
          8.007412910461426,
          8.285456657409668,
          7.924011707305908,
          8.242029190063477,
          7.688577651977539,
          7.525589942932129,
          8.426053047180176,
          7.435339450836182,
          8.184747695922852,
          7.781344413757324,
          7.46849250793457,
          7.5583415031433105,
          8.01972484588623,
          6.6402435302734375,
          8.219230651855469,
          7.730936050415039,
          7.765114784240723,
          7.3898773193359375,
          8.191397666931152,
          7.753759384155273,
          7.8796281814575195,
          8.362709999084473,
          8.042407989501953,
          7.584982395172119,
          7.787346839904785,
          6.804704666137695,
          7.749106407165527,
          8.180590629577637,
          7.69493293762207,
          7.856595039367676,
          8.411444664001465,
          7.427623271942139
         ]
        },
        {
         "hovertemplate": "Dominant_Topic=Topic 2<br>0=%{x}<br>1=%{y}<br>2=%{z}<extra></extra>",
         "legendgroup": "Topic 2",
         "marker": {
          "color": "#00cc96",
          "opacity": 0.7,
          "symbol": "circle"
         },
         "mode": "markers",
         "name": "Topic 2",
         "scene": "scene",
         "showlegend": true,
         "type": "scatter3d",
         "x": [
          7.928315162658691,
          4.121560573577881,
          8.032479286193848,
          6.59157133102417,
          4.993079662322998,
          4.011826038360596,
          6.529299259185791,
          5.16866397857666,
          8.236337661743164,
          3.5795955657958984,
          3.2608790397644043,
          6.697363376617432,
          5.6470627784729,
          3.8030312061309814,
          5.95000696182251,
          7.325895309448242,
          1.500532627105713,
          7.151534557342529,
          6.929725170135498,
          4.875698566436768,
          5.176009178161621,
          3.5343449115753174,
          6.101412773132324,
          5.988000392913818,
          8.014945983886719,
          4.664477825164795,
          6.013737201690674,
          5.649694442749023,
          5.914422035217285,
          5.866729259490967,
          4.071507930755615,
          2.9156112670898438,
          3.2090587615966797,
          3.698193311691284,
          3.505390167236328,
          7.126837730407715,
          4.598794460296631,
          7.575581073760986,
          5.183042526245117,
          3.3867099285125732,
          7.038719177246094,
          5.930222034454346,
          3.7006142139434814,
          3.7449309825897217,
          7.553010940551758,
          2.5137624740600586,
          1.1102274656295776,
          4.126681804656982,
          3.1443748474121094,
          4.879803657531738,
          5.998281002044678,
          1.6866222620010376,
          7.0077080726623535,
          6.013827800750732,
          3.952136278152466,
          7.293858051300049,
          6.78244161605835,
          7.818953990936279,
          6.042236328125,
          4.167651653289795,
          3.7663345336914062,
          4.0105438232421875,
          4.216397285461426,
          7.754249572753906,
          7.509909629821777,
          2.800601005554199,
          2.815577268600464,
          1.5042023658752441,
          2.153254985809326,
          2.328730821609497,
          4.481672763824463,
          3.9193837642669678,
          6.76126766204834,
          5.491963863372803,
          3.535351276397705,
          2.360884428024292,
          4.871836185455322,
          5.946285247802734,
          7.327822208404541,
          1.7810486555099487,
          5.324761867523193,
          7.177900314331055,
          6.421126842498779,
          1.257352352142334,
          2.8695192337036133,
          2.1405839920043945,
          3.820838212966919,
          5.465636253356934,
          4.449491500854492,
          4.114610195159912,
          6.553338527679443,
          7.819461345672607,
          5.869367599487305,
          5.600414276123047,
          6.749162197113037,
          1.32746422290802,
          3.247623920440674,
          4.888535499572754,
          5.178972244262695,
          5.474660396575928,
          7.452766418457031,
          6.823635101318359,
          7.71733283996582,
          2.702169179916382,
          8.290230751037598
         ],
         "y": [
          -0.23177380859851837,
          -2.6874287128448486,
          -0.20144355297088623,
          -1.0992286205291748,
          -0.9447932839393616,
          -2.1324892044067383,
          -0.557677149772644,
          -1.0481750965118408,
          0.0381765216588974,
          -2.8795230388641357,
          -2.6584270000457764,
          -0.864013671875,
          -1.8486340045928955,
          -2.0810317993164062,
          -1.7433651685714722,
          -0.8235010504722595,
          -2.7840230464935303,
          -0.29546189308166504,
          -0.3085882365703583,
          -1.785147786140442,
          -1.2386549711227417,
          -1.7130478620529175,
          -1.1175049543380737,
          -1.7168958187103271,
          -0.053846463561058044,
          -1.7983324527740479,
          -1.108217716217041,
          -1.9060535430908203,
          -1.7753061056137085,
          -1.121954083442688,
          -1.3841379880905151,
          -2.019366979598999,
          -2.788051128387451,
          -2.338789701461792,
          -1.534074068069458,
          -0.5092636346817017,
          -2.479311466217041,
          -0.6540040373802185,
          -1.1930789947509766,
          -1.9553909301757812,
          -0.2771688997745514,
          -1.776989221572876,
          -1.4759173393249512,
          -2.438791513442993,
          -0.6606252193450928,
          -2.2416858673095703,
          -2.857968807220459,
          -1.2264211177825928,
          -1.853918433189392,
          -1.208304762840271,
          -1.7165884971618652,
          -2.7602641582489014,
          -0.8404839038848877,
          -1.0097025632858276,
          -1.2814462184906006,
          -0.20033422112464905,
          -1.2017568349838257,
          -0.4407346248626709,
          -1.6066431999206543,
          -1.8677879571914673,
          -2.909181833267212,
          -1.29033625125885,
          -2.2637486457824707,
          -0.07455906271934509,
          -0.6940464973449707,
          -2.778865337371826,
          -1.9782688617706299,
          -2.5747344493865967,
          -2.7340028285980225,
          -2.9016640186309814,
          -1.8784427642822266,
          -1.9328365325927734,
          -1.221008062362671,
          -1.9382675886154175,
          -2.0244405269622803,
          -2.0904111862182617,
          -0.9847767949104309,
          -0.6335822343826294,
          -0.19061553478240967,
          -2.773305654525757,
          -2.108285427093506,
          -0.9294983148574829,
          -0.7640953063964844,
          -2.849865674972534,
          -2.9432241916656494,
          -2.3190295696258545,
          -1.3212238550186157,
          -1.6700130701065063,
          -1.1247320175170898,
          -2.417651891708374,
          -1.2016494274139404,
          -0.06089681014418602,
          -0.8003540635108948,
          -1.6693081855773926,
          -0.6477258801460266,
          -2.6972005367279053,
          -2.6405467987060547,
          -1.5950781106948853,
          -2.1721761226654053,
          -2.0044312477111816,
          -0.15480151772499084,
          -0.9351575374603271,
          -0.5241906642913818,
          -2.107942819595337,
          0.0580819770693779
         ],
         "z": [
          0.5555731058120728,
          -3.4474587440490723,
          0.5188327431678772,
          -0.9019249677658081,
          2.440971851348877,
          -1.1146262884140015,
          1.5061389207839966,
          1.6660480499267578,
          1.2204632759094238,
          -3.410102605819702,
          -2.1788322925567627,
          -0.08746613562107086,
          -2.4847092628479004,
          -0.575837254524231,
          -2.52677059173584,
          -0.9423791766166687,
          -0.2595375180244446,
          1.593430519104004,
          1.9016668796539307,
          -1.0130443572998047,
          0.8196890354156494,
          1.4783105850219727,
          -0.18717961013317108,
          -2.4764647483825684,
          1.187275767326355,
          -0.7336897850036621,
          -0.002798214554786682,
          -2.712116003036499,
          -2.598747491836548,
          0.18276174366474152,
          2.0539159774780273,
          1.1226328611373901,
          -2.60968017578125,
          -1.5043275356292725,
          2.3821401596069336,
          0.7027678489685059,
          -3.3488848209381104,
          -0.6429452300071716,
          1.0081853866577148,
          0.6398105025291443,
          1.8579323291778564,
          -2.628408908843994,
          2.293551206588745,
          -1.9823756217956543,
          -0.6350706219673157,
          0.7297350764274597,
          -0.09777882695198059,
          2.7116050720214844,
          1.5040630102157593,
          1.44777512550354,
          -2.491642475128174,
          -0.4050045609474182,
          -0.5006428956985474,
          0.4205780029296875,
          2.7810750007629395,
          1.7681174278259277,
          -1.6297179460525513,
          -0.14389826357364655,
          -2.1190640926361084,
          -0.2330889105796814,
          -3.752748489379883,
          2.6202292442321777,
          -1.971885085105896,
          1.53610360622406,
          -0.700090765953064,
          -2.032053232192993,
          1.4903056621551514,
          0.8043680191040039,
          -0.9459757804870605,
          -1.9139939546585083,
          -0.7810472249984741,
          -0.12071143090724945,
          -1.6750940084457397,
          -2.5986263751983643,
          0.0890025794506073,
          1.7998480796813965,
          2.4742202758789062,
          2.1723761558532715,
          1.7509291172027588,
          -0.5944048762321472,
          -3.010101079940796,
          -1.142952561378479,
          0.7952892184257507,
          -0.25346890091896057,
          -2.7576303482055664,
          0.9944086074829102,
          2.8382394313812256,
          -1.462997317314148,
          2.5916290283203125,
          -2.4359424114227295,
          -1.2618632316589355,
          1.4861396551132202,
          1.556663155555725,
          -1.6895548105239868,
          0.7422176003456116,
          0.44845080375671387,
          -2.09005069732666,
          -0.23593629896640778,
          -3.0422191619873047,
          -2.831906318664551,
          1.6939818859100342,
          -0.5996423363685608,
          -0.32951241731643677,
          1.0619343519210815,
          1.211566686630249
         ]
        },
        {
         "hovertemplate": "Dominant_Topic=Topic 3<br>0=%{x}<br>1=%{y}<br>2=%{z}<extra></extra>",
         "legendgroup": "Topic 3",
         "marker": {
          "color": "#ab63fa",
          "opacity": 0.7,
          "symbol": "circle"
         },
         "mode": "markers",
         "name": "Topic 3",
         "scene": "scene",
         "showlegend": true,
         "type": "scatter3d",
         "x": [
          -0.5195686221122742,
          1.0192837715148926,
          -10.88938045501709,
          -9.883193016052246,
          -7.485641002655029,
          -6.8908891677856445,
          -10.552614212036133,
          -0.8274524807929993,
          3.781895637512207,
          -7.152580738067627,
          4.382603168487549,
          3.44978404045105,
          -0.5750291347503662,
          4.393552303314209,
          0.7051697373390198,
          -10.664426803588867,
          4.735249996185303,
          -8.252350807189941,
          0.007429394405335188,
          2.0548923015594482,
          -5.133925914764404,
          -3.3327250480651855,
          -6.3860931396484375,
          -3.945276975631714,
          -4.0895795822143555,
          -3.0454862117767334,
          -5.203980445861816,
          -5.726846694946289,
          4.7686767578125,
          1.6889368295669556,
          2.77968168258667,
          -10.447179794311523,
          0.7675321698188782,
          -0.06220708042383194,
          2.4547231197357178,
          1.1224510669708252,
          4.678103923797607,
          -6.5125508308410645,
          1.009743332862854,
          -8.651128768920898,
          1.0312411785125732,
          -2.6933677196502686,
          -3.8258535861968994,
          2.5896852016448975,
          -2.646307945251465,
          1.0699505805969238,
          -7.526941776275635,
          1.7323795557022095,
          4.496382713317871,
          3.2125980854034424,
          -10.911035537719727,
          4.451969623565674,
          -8.157421112060547,
          3.411198377609253,
          0.4744396507740021,
          -4.35321569442749,
          4.755599021911621,
          1.005628228187561,
          4.674073696136475,
          -9.093840599060059,
          0.7294430732727051,
          -5.235372543334961,
          3.505357265472412,
          -7.681867599487305,
          -9.101032257080078,
          -4.098758220672607,
          4.810534954071045,
          -5.351803779602051,
          5.091197490692139,
          -5.479289531707764,
          -4.151472091674805,
          -0.9198042154312134,
          -4.283557415008545,
          -2.3063511848449707,
          -0.6503918170928955,
          0.11219702661037445,
          0.9968346953392029,
          0.8737900853157043,
          3.688861131668091,
          -2.1219022274017334,
          1.0493483543395996,
          1.048432469367981,
          -4.951413631439209,
          -0.09810464829206467,
          -0.043879032135009766,
          -7.494494438171387,
          1.050292730331421,
          0.7621231079101562,
          3.0498363971710205,
          -3.1627817153930664,
          1.1891154050827026,
          -5.568140029907227,
          -8.120614051818848,
          -3.1139962673187256,
          -5.673847675323486,
          -3.2822000980377197,
          4.402852535247803,
          -8.337769508361816,
          0.4376475214958191,
          -8.755192756652832,
          4.103344917297363,
          2.1208276748657227,
          -2.1562588214874268,
          -7.289956569671631,
          0.8118675947189331,
          4.76862907409668,
          -0.003534013172611594,
          -7.540318965911865,
          0.9223616719245911,
          1.6387338638305664,
          -4.070340633392334,
          3.7815935611724854,
          -5.651784420013428,
          -10.687599182128906,
          -6.72613000869751,
          0.8999964594841003,
          -10.411118507385254,
          1.0148320198059082,
          -3.800455093383789,
          0.8584361672401428,
          -10.516963005065918,
          -7.97787618637085,
          -7.952686309814453,
          -2.3273236751556396,
          4.210493564605713,
          -3.490053176879883,
          -10.247143745422363,
          -9.601395606994629,
          -8.925790786743164,
          -7.554452896118164,
          -1.3877748250961304,
          -1.8204256296157837,
          1.9233722686767578,
          2.1330418586730957,
          1.0368179082870483,
          2.182950496673584,
          0.5031223893165588,
          1.1053345203399658,
          0.856387197971344,
          4.8174285888671875,
          -4.135219097137451,
          0.9832984209060669,
          -4.098530292510986,
          -8.511703491210938,
          1.0799187421798706,
          3.2065939903259277,
          -10.894739151000977,
          -9.96737003326416,
          -7.446841239929199,
          2.3546786308288574,
          3.3782215118408203,
          -6.730127811431885,
          4.725335121154785,
          -10.043304443359375,
          -2.3214173316955566,
          -7.95242166519165,
          -8.534178733825684,
          -1.5107530355453491,
          -1.1588753461837769,
          -10.548019409179688,
          -0.01125085074454546,
          -7.389955043792725,
          -3.1555733680725098,
          -0.6789835095405579,
          -10.905173301696777,
          4.714334964752197,
          0.7502047419548035,
          -6.193255424499512,
          -7.854896068572998,
          -7.874189376831055,
          0.6634325981140137,
          3.9601736068725586,
          4.114253520965576,
          -7.318085670471191,
          -4.424363136291504,
          4.593009948730469,
          3.8798255920410156,
          -2.7502248287200928,
          -7.784808158874512,
          1.7591638565063477,
          0.16734258830547333,
          1.0369579792022705,
          -3.7461090087890625,
          -6.964779376983643,
          -4.745834827423096,
          4.349613189697266,
          -7.605802536010742,
          -7.639889240264893,
          4.408145904541016,
          -10.909363746643066,
          3.221949577331543,
          0.5532461404800415,
          -5.468664169311523,
          -9.938505172729492,
          1.116973876953125,
          -8.128314971923828,
          -3.9417519569396973,
          -7.602209568023682,
          -10.862351417541504,
          -10.753981590270996,
          -6.927746295928955,
          -7.294928550720215,
          1.0997215509414673,
          -5.373074054718018,
          3.5039069652557373,
          -4.468732833862305,
          0.762626051902771,
          1.5379844903945923,
          3.764625072479248,
          -3.9522225856781006,
          -1.6396286487579346,
          0.1463145911693573,
          -10.835295677185059,
          -10.555811882019043,
          3.6227970123291016,
          -2.057554006576538,
          4.360221862792969,
          -3.5006957054138184,
          -7.378060817718506,
          2.5012269020080566,
          3.675290107727051,
          0.14550454914569855,
          -10.354299545288086,
          0.3564011752605438,
          -6.481522083282471,
          1.4012902975082397,
          4.35302209854126,
          1.4515118598937988,
          -9.092113494873047,
          -10.576457023620605,
          1.9950391054153442,
          2.4797160625457764,
          -1.0590347051620483,
          -8.225873947143555,
          0.8178611993789673,
          -5.83389139175415,
          -4.374881744384766,
          -5.156806468963623,
          -0.17720463871955872,
          -3.7839205265045166,
          -9.187187194824219,
          1.0457731485366821,
          -7.414080619812012,
          3.403625249862671,
          4.5498046875,
          0.8108376264572144,
          -6.953815937042236,
          0.6324167847633362,
          -7.036288738250732,
          0.8883427977561951,
          0.7983068823814392,
          -9.612166404724121,
          -0.010356418788433075,
          -4.1771979331970215,
          -7.114936351776123,
          0.8699856996536255,
          2.7415213584899902,
          -7.941640377044678,
          1.9536434412002563,
          -4.422933578491211,
          1.9999010562896729,
          -3.956221103668213,
          0.005515968892723322,
          -10.821088790893555,
          -3.473187208175659,
          -2.6867775917053223,
          -3.7221479415893555,
          1.3399163484573364,
          -6.825682640075684,
          4.7195000648498535,
          -2.1311752796173096,
          4.144733905792236,
          -7.79341983795166,
          3.190563678741455,
          0.7152868509292603,
          -1.5977494716644287,
          1.1969671249389648,
          -10.739434242248535,
          -10.668941497802734,
          -6.764157295227051,
          -10.885146141052246,
          0.878304123878479,
          -1.3363977670669556,
          -8.587008476257324,
          1.350913643836975,
          -10.645745277404785,
          -4.066231727600098,
          3.3364202976226807,
          -1.3697091341018677,
          1.3724706172943115,
          0.10899815708398819,
          0.8961997628211975,
          -0.033915359526872635,
          3.358632802963257,
          0.9640505909919739,
          0.49276411533355713,
          -6.909809589385986,
          4.126026630401611,
          -3.488030433654785,
          4.803962230682373,
          2.4861979484558105,
          -2.3475329875946045,
          3.9828972816467285,
          0.025538211688399315,
          -10.783211708068848,
          -4.545144081115723,
          -2.6553609371185303,
          3.7918035984039307,
          0.40858688950538635,
          0.2371174842119217,
          4.806593418121338,
          4.80924129486084,
          -8.012994766235352,
          -10.737936973571777,
          -5.19605827331543,
          3.0112388134002686,
          3.4847707748413086,
          0.295005202293396,
          -0.8778411746025085,
          0.3706720173358917,
          -8.138142585754395,
          -9.867472648620605,
          -7.658653259277344,
          -10.55771541595459,
          -7.416233062744141,
          -1.356785535812378,
          -2.671085834503174,
          -9.977572441101074,
          2.0824952125549316,
          4.422541618347168,
          -7.311603546142578,
          -10.282084465026855,
          -0.08956334739923477,
          1.0518254041671753,
          -10.79845142364502,
          0.7294678688049316,
          1.0632392168045044,
          -7.126010417938232,
          -8.771489143371582,
          2.416555643081665,
          -9.833511352539062,
          0.07343178987503052,
          -4.435146808624268,
          2.4154722690582275,
          0.8199830651283264,
          1.029532790184021,
          -9.163827896118164,
          1.179860234260559,
          4.373998641967773,
          -6.1496968269348145,
          2.1519486904144287,
          1.7810935974121094,
          -8.237640380859375,
          3.954476833343506,
          3.932695150375366,
          -4.082504749298096,
          3.1144309043884277,
          0.6915684938430786,
          -5.567686080932617,
          -6.424376010894775,
          3.977673292160034,
          -9.376716613769531,
          -10.595857620239258,
          -6.335313320159912,
          -4.102931022644043,
          -0.637830376625061,
          -2.0740435123443604,
          -8.489775657653809,
          0.6853116154670715,
          0.22737707197666168,
          -2.687847137451172,
          -8.135208129882812,
          -3.9665892124176025,
          1.0860121250152588,
          -8.789058685302734,
          -10.20477294921875,
          4.225808143615723,
          -7.7688822746276855,
          -1.9779719114303589,
          0.6406385898590088,
          -6.922237396240234,
          0.8961747288703918,
          0.3946932554244995,
          -5.427660942077637,
          2.7214322090148926,
          -10.036796569824219,
          1.267384648323059,
          -7.7893829345703125,
          -6.944045066833496,
          -10.939047813415527,
          1.476422667503357,
          2.970637083053589,
          4.806242942810059,
          1.070858120918274,
          0.09201830625534058,
          -2.5535480976104736,
          -8.86041259765625,
          4.379931449890137,
          4.768185138702393,
          4.55710506439209,
          2.4772541522979736,
          3.498180627822876,
          -10.910623550415039,
          0.07045447081327438,
          -4.272561073303223,
          4.7017598152160645,
          1.102962613105774,
          -10.4220609664917,
          -2.1637580394744873,
          1.2103819847106934,
          2.328629493713379,
          2.7998383045196533,
          -7.227432727813721,
          -1.2764604091644287,
          -3.3177528381347656,
          -10.606706619262695,
          -8.231034278869629,
          1.0480420589447021,
          -6.365906238555908,
          0.08405064791440964,
          -7.929416656494141,
          -7.773843288421631,
          -0.5002669095993042,
          -6.462754249572754,
          0.4714983105659485,
          0.288845032453537,
          1.03290593624115,
          0.18243898451328278,
          -0.7889770865440369,
          2.915092945098877,
          0.49053671956062317,
          2.9736359119415283,
          -10.791189193725586,
          -10.07465934753418,
          4.60590934753418,
          0.6655225157737732,
          -10.638484001159668,
          -8.987777709960938,
          2.9249415397644043,
          -2.082294225692749,
          1.0485224723815918,
          0.6655070781707764,
          4.444657325744629,
          3.392310857772827,
          -4.986478805541992,
          1.50829017162323,
          -9.482847213745117,
          4.817171096801758,
          -10.840718269348145,
          1.411946177482605,
          0.9003409147262573,
          4.741835117340088,
          -7.954085350036621,
          1.2863402366638184,
          1.030197262763977,
          4.743886947631836,
          0.9839368462562561,
          -3.9787821769714355,
          1.3872742652893066,
          -3.6855499744415283,
          -0.6475095152854919,
          -7.638896942138672,
          0.45727214217185974,
          -9.32316780090332,
          -6.029895782470703,
          -8.098023414611816,
          1.6418557167053223,
          4.7832722663879395,
          -0.6380373239517212,
          0.9813856482505798,
          2.052561044692993,
          0.8409637808799744,
          -5.208155632019043,
          3.9136860370635986,
          1.015318512916565,
          4.378971099853516,
          -5.798926830291748,
          -3.668595552444458,
          0.2544499933719635,
          -8.723725318908691,
          -6.8708696365356445,
          4.407576560974121,
          -6.478543281555176,
          1.5235259532928467,
          1.4686444997787476,
          1.4317893981933594,
          -10.886775970458984,
          -4.925309181213379,
          -8.972319602966309,
          0.628355085849762,
          0.5012215375900269,
          -9.386985778808594,
          3.990117311477661,
          4.024416446685791,
          0.0806085616350174,
          4.760278224945068,
          -4.4287896156311035,
          3.7974934577941895,
          -2.7062859535217285,
          -0.11095038056373596,
          -4.088921070098877,
          2.032728672027588,
          -8.207616806030273,
          1.4736086130142212,
          -9.417607307434082,
          -10.621258735656738,
          4.817094326019287,
          -0.6369146704673767,
          0.7205528020858765,
          4.067670822143555,
          -4.745565891265869,
          0.33543121814727783,
          -4.030686855316162,
          -9.537314414978027,
          -7.097654342651367,
          3.9267091751098633,
          -1.8878004550933838,
          -4.611456871032715,
          3.214507818222046,
          2.105677843093872,
          3.3794007301330566,
          -2.2891042232513428,
          -3.9371490478515625,
          -7.779684066772461,
          -6.231031894683838,
          0.1464478075504303,
          0.16073790192604065,
          -2.0039281845092773,
          4.462904453277588,
          -1.128408432006836,
          0.6491582989692688,
          -9.897249221801758,
          -4.218299865722656,
          4.430208683013916,
          1.042136549949646,
          -10.589680671691895,
          3.4663028717041016,
          0.15848639607429504,
          -3.5071144104003906,
          -2.6899752616882324,
          -2.6987802982330322,
          -8.01455307006836,
          4.082378387451172,
          -9.363021850585938,
          -4.74511194229126,
          0.8883422017097473,
          -0.8546788096427917,
          1.1079707145690918,
          -6.236572742462158,
          -4.360377788543701
         ],
         "y": [
          10.184577941894531,
          -1.5622292757034302,
          -0.7776771783828735,
          -2.9383726119995117,
          6.556535243988037,
          6.993020057678223,
          2.064971685409546,
          -3.2417609691619873,
          13.391011238098145,
          5.116549015045166,
          14.085686683654785,
          13.142744064331055,
          -3.1886398792266846,
          14.086090087890625,
          8.716275215148926,
          1.616551160812378,
          14.193411827087402,
          -4.651966094970703,
          10.499342918395996,
          11.449956893920898,
          -4.813963890075684,
          3.7676799297332764,
          -5.520511627197266,
          -4.126237392425537,
          -4.322978496551514,
          -3.8034427165985107,
          -4.846324920654297,
          7.496723651885986,
          14.23145580291748,
          10.838950157165527,
          12.502909660339355,
          2.2156317234039307,
          -0.3216395080089569,
          10.65677261352539,
          12.274394035339355,
          11.323114395141602,
          14.309734344482422,
          -5.556939601898193,
          -0.8605639338493347,
          4.206247329711914,
          -1.5390905141830444,
          4.6774396896362305,
          -4.27163553237915,
          12.36829662322998,
          -3.8011085987091064,
          11.286646842956543,
          6.874189853668213,
          10.90684700012207,
          13.81176471710205,
          13.19571304321289,
          -0.01135994866490364,
          13.907498359680176,
          5.5989603996276855,
          12.987419128417969,
          8.166326522827148,
          -4.468240737915039,
          14.321574211120605,
          -2.0202481746673584,
          14.122965812683105,
          -3.769394874572754,
          -2.1747512817382812,
          -4.862879753112793,
          13.382134437561035,
          -5.184131622314453,
          -3.7975637912750244,
          -4.332697868347168,
          14.331324577331543,
          -4.6491312980651855,
          15.001509666442871,
          -3.8775386810302734,
          -3.723785638809204,
          9.934348106384277,
          -3.5806264877319336,
          6.537553787231445,
          6.878978252410889,
          1.3217850923538208,
          9.421209335327148,
          9.134546279907227,
          13.59097957611084,
          -5.329040050506592,
          -1.5037089586257935,
          11.272195816040039,
          5.826211929321289,
          10.432401657104492,
          7.3525872230529785,
          -5.354666233062744,
          -2.0014116764068604,
          -0.30124184489250183,
          12.706389427185059,
          8.694993019104004,
          9.851099967956543,
          7.561717510223389,
          6.199548244476318,
          8.723185539245605,
          -5.135777950286865,
          3.83868145942688,
          14.087129592895508,
          -4.584158897399902,
          0.24328495562076569,
          -4.138481140136719,
          13.869519233703613,
          11.556443214416504,
          -5.265025615692139,
          4.8503642082214355,
          -0.3678482472896576,
          14.324251174926758,
          1.7374577522277832,
          5.119189739227295,
          -2.418297290802002,
          -2.2612600326538086,
          8.115259170532227,
          13.724590301513672,
          7.526645183563232,
          2.9794702529907227,
          -5.626838684082031,
          -1.9586418867111206,
          -2.0750458240509033,
          -1.998400330543518,
          8.469091415405273,
          9.098615646362305,
          1.9492095708847046,
          -4.924983501434326,
          4.799079895019531,
          9.14405345916748,
          13.50178050994873,
          8.52685546875,
          -2.3983514308929443,
          -3.2746615409851074,
          -3.9424946308135986,
          5.21042013168335,
          9.664963722229004,
          6.60749626159668,
          -1.8945811986923218,
          11.575020790100098,
          -2.006337881088257,
          11.65345287322998,
          8.24008560180664,
          -1.1654342412948608,
          -1.879831075668335,
          14.322683334350586,
          8.084647178649902,
          -1.996842861175537,
          -3.7479147911071777,
          4.321020126342773,
          -1.0923056602478027,
          13.135824203491211,
          -0.822503387928009,
          -2.809959650039673,
          5.02996301651001,
          11.90177059173584,
          12.969240188598633,
          7.0991363525390625,
          14.180328369140625,
          -2.706040143966675,
          9.147040367126465,
          -3.1031317710876465,
          -4.38738489151001,
          -3.4237399101257324,
          -3.3072855472564697,
          2.7178103923797607,
          1.7709380388259888,
          -5.429919242858887,
          4.0169358253479,
          6.865524768829346,
          -0.5192453265190125,
          14.305147171020508,
          -0.21607156097888947,
          5.433538436889648,
          6.375287055969238,
          6.5192036628723145,
          11.042200088500977,
          13.580015182495117,
          13.876199722290039,
          6.928579330444336,
          8.009658813476562,
          14.218734741210938,
          13.606122016906738,
          6.457239627838135,
          6.694096088409424,
          10.956425666809082,
          1.2230349779129028,
          -2.0023224353790283,
          8.190512657165527,
          6.96858549118042,
          5.842443943023682,
          14.08272647857666,
          -1.998758316040039,
          5.14479923248291,
          13.928909301757812,
          0.04595973342657089,
          12.972183227539062,
          0.06754530221223831,
          5.604841709136963,
          -2.86606502532959,
          -1.3425171375274658,
          5.533345699310303,
          -4.077276229858398,
          -5.252133369445801,
          0.35162028670310974,
          -1.2376915216445923,
          6.956271648406982,
          -5.475519180297852,
          -1.292580246925354,
          -3.957606554031372,
          13.468954086303711,
          8.133055686950684,
          -2.601619005203247,
          -1.9740145206451416,
          13.686539649963379,
          -3.9354143142700195,
          6.635282039642334,
          1.2552436590194702,
          0.724548876285553,
          1.8793200254440308,
          13.482586860656738,
          -5.593299865722656,
          13.711040496826172,
          3.528877019882202,
          4.881490707397461,
          12.303295135498047,
          13.207165718078613,
          1.1947441101074219,
          2.394838571548462,
          7.913493633270264,
          -5.576752662658691,
          10.29245376586914,
          13.686152458190918,
          10.392862319946289,
          3.855809450149536,
          2.017563819885254,
          11.357033729553223,
          12.058749198913574,
          9.85429859161377,
          5.983630657196045,
          -2.2007741928100586,
          7.449057102203369,
          6.005996227264404,
          7.735718727111816,
          7.22261381149292,
          -3.824368953704834,
          3.7886853218078613,
          -2.0038111209869385,
          5.001300811767578,
          12.982623100280762,
          14.256144523620605,
          -2.5303421020507812,
          5.20619535446167,
          10.977304458618164,
          -5.570923805236816,
          9.17000961303711,
          -2.301689863204956,
          3.354591131210327,
          7.387817859649658,
          -3.6890783309936523,
          -3.3892486095428467,
          -0.4943239390850067,
          12.486526489257812,
          4.715538501739502,
          11.287939071655273,
          8.038472175598145,
          11.94435977935791,
          -4.174010753631592,
          1.7051308155059814,
          -0.7237898111343384,
          3.569241762161255,
          8.95394515991211,
          3.1849868297576904,
          10.174100875854492,
          7.015652179718018,
          14.173559188842773,
          -5.252438068389893,
          13.906641006469727,
          6.689784526824951,
          12.822293281555176,
          11.063496589660645,
          9.54527759552002,
          -2.5594677925109863,
          -1.3913847208023071,
          1.673515796661377,
          -5.615379333496094,
          0.19964556396007538,
          -1.935693621635437,
          9.694782257080078,
          -4.307263374328613,
          10.193537712097168,
          1.7640711069107056,
          -3.815735101699829,
          13.049195289611816,
          6.682939052581787,
          10.237950325012207,
          10.458536148071289,
          9.186145782470703,
          1.8540024757385254,
          12.960082054138184,
          11.210363388061523,
          8.185514450073242,
          5.2180495262146,
          13.733697891235352,
          8.529806137084961,
          14.335864067077637,
          12.068678855895996,
          6.531275749206543,
          13.47661304473877,
          7.426360130310059,
          -1.174581527709961,
          5.909549236297607,
          4.732116222381592,
          13.3514986038208,
          10.66615104675293,
          0.896689236164093,
          14.334837913513184,
          14.292006492614746,
          -3.1795427799224854,
          1.3242436647415161,
          -4.842870712280273,
          12.716348648071289,
          13.431012153625488,
          7.803916931152344,
          6.793924331665039,
          10.854771614074707,
          -2.819709539413452,
          3.063430070877075,
          6.58037805557251,
          -1.778227686882019,
          4.701406002044678,
          6.684957504272461,
          -3.8029656410217285,
          2.9105706214904785,
          11.496162414550781,
          13.913636207580566,
          -5.4711689949035645,
          -2.328296422958374,
          10.607686996459961,
          -2.048166275024414,
          0.3299722671508789,
          -1.948332667350769,
          11.28178596496582,
          -5.5541253089904785,
          4.119192600250244,
          11.978551864624023,
          0.3315739631652832,
          10.676980972290039,
          -3.4138872623443604,
          -1.7816870212554932,
          -0.3714766800403595,
          -1.542231798171997,
          3.812084436416626,
          9.830164909362793,
          14.074527740478516,
          -5.441642761230469,
          12.055824279785156,
          -2.1762044429779053,
          -4.687387943267822,
          13.742472648620605,
          13.455740928649902,
          8.462735176086426,
          12.838752746582031,
          -0.16631032526493073,
          -5.0638837814331055,
          -5.561675071716309,
          13.468316078186035,
          -1.0139968395233154,
          -1.6275752782821655,
          -3.6562674045562744,
          -4.336014747619629,
          6.884790420532227,
          -5.375570297241211,
          4.346409320831299,
          8.66604995727539,
          0.9209408164024353,
          6.471042156219482,
          6.184093952178955,
          -3.9948012828826904,
          -1.4415465593338013,
          -4.126216411590576,
          2.6192831993103027,
          13.870284080505371,
          -1.967570185661316,
          -5.655040740966797,
          -0.23772881925106049,
          5.2231035232543945,
          9.18593978881836,
          -2.141456127166748,
          -4.969231605529785,
          12.46716022491455,
          2.833604097366333,
          -1.5415799617767334,
          4.748875141143799,
          -5.591816425323486,
          -0.6969966888427734,
          11.574103355407715,
          12.64851188659668,
          14.290209770202637,
          -1.4567196369171143,
          1.4009044170379639,
          6.497440338134766,
          4.329721927642822,
          14.085444450378418,
          14.231256484985352,
          13.997875213623047,
          12.055214881896973,
          12.976619720458984,
          -0.1077006459236145,
          1.4870107173919678,
          -3.5949010848999023,
          14.154097557067871,
          -2.0190470218658447,
          2.3139424324035645,
          -5.253136157989502,
          -2.4617724418640137,
          11.862262725830078,
          12.45921802520752,
          6.881416320800781,
          9.728569030761719,
          6.328661918640137,
          1.8987723588943481,
          5.913064479827881,
          -0.9827501177787781,
          -5.535492420196533,
          10.408358573913574,
          4.7815375328063965,
          -5.136475086212158,
          10.201924324035645,
          7.18448543548584,
          8.157621383666992,
          7.791991710662842,
          -2.509998321533203,
          7.627328872680664,
          6.8234076499938965,
          12.602961540222168,
          8.20531940460205,
          12.671279907226562,
          0.742672860622406,
          -2.6760733127593994,
          14.225708961486816,
          8.611754417419434,
          1.7084527015686035,
          3.9614458084106445,
          12.621204376220703,
          9.273527145385742,
          -1.5088064670562744,
          8.611688613891602,
          13.843303680419922,
          13.052178382873535,
          7.80494499206543,
          -1.9816566705703735,
          -3.3943710327148438,
          14.3243408203125,
          -1.062872290611267,
          -1.9953856468200684,
          -1.9582626819610596,
          14.312418937683105,
          6.420053958892822,
          10.064043045043945,
          -2.565969944000244,
          14.204188346862793,
          -0.7956341505050659,
          -3.98136305809021,
          10.266212463378906,
          8.441474914550781,
          6.880797863006592,
          -3.5920369625091553,
          0.4881809651851654,
          -3.5740435123443604,
          7.36780309677124,
          4.611996650695801,
          10.758626937866211,
          14.250385284423828,
          6.884685039520264,
          -1.6313594579696655,
          11.97917652130127,
          9.056679725646973,
          7.706202030181885,
          13.665447235107422,
          -0.8829702734947205,
          14.088850021362305,
          7.464616775512695,
          8.452117919921875,
          0.6457088589668274,
          -4.202526092529297,
          6.991744518280029,
          14.087442398071289,
          7.177860736846924,
          11.603870391845703,
          10.428604125976562,
          10.40783977508545,
          -0.8398175239562988,
          7.831481456756592,
          -3.9266068935394287,
          10.93033504486084,
          8.23576545715332,
          3.5887868404388428,
          13.479668617248535,
          13.507179260253906,
          -0.1905471533536911,
          14.321971893310547,
          8.10318660736084,
          13.747476577758789,
          -3.7246053218841553,
          10.450749397277832,
          -3.7576661109924316,
          11.416488647460938,
          6.02256965637207,
          10.441869735717773,
          -3.4727442264556885,
          -1.590301275253296,
          14.322501182556152,
          6.884927272796631,
          -0.14005470275878906,
          13.609817504882812,
          5.842523574829102,
          -2.9230260848999023,
          -3.8769803047180176,
          3.4334068298339844,
          -5.5528082847595215,
          13.408881187438965,
          -5.7432942390441895,
          5.923923492431641,
          13.094615936279297,
          11.53174114227295,
          12.971720695495605,
          9.164995193481445,
          -4.099161148071289,
          -5.123227596282959,
          5.421638488769531,
          -2.7357680797576904,
          7.59688663482666,
          -3.6221349239349365,
          13.903552055358887,
          9.814962387084961,
          8.580191612243652,
          -2.9041574001312256,
          -4.401253700256348,
          13.72132396697998,
          -0.9623028039932251,
          -1.722129464149475,
          12.973234176635742,
          1.2290148735046387,
          8.510149002075195,
          8.952235221862793,
          -3.369858980178833,
          -4.90277624130249,
          13.856999397277832,
          3.6192944049835205,
          5.842658996582031,
          9.170995712280273,
          6.8018364906311035,
          -1.234702467918396,
          -5.485409259796143,
          8.188835144042969
         ],
         "z": [
          -8.068686485290527,
          9.083749771118164,
          10.907698631286621,
          9.808501243591309,
          -9.078661918640137,
          -9.112478256225586,
          12.199100494384766,
          0.32333025336265564,
          4.857853412628174,
          13.289347648620605,
          2.21848464012146,
          5.656661033630371,
          0.30089905858039856,
          2.1400835514068604,
          11.469724655151367,
          11.896246910095215,
          -2.00470232963562,
          8.60661506652832,
          -7.679198265075684,
          8.409454345703125,
          5.424142360687256,
          11.553563117980957,
          6.688560485839844,
          3.3889434337615967,
          4.043052673339844,
          2.8089537620544434,
          5.506402492523193,
          -9.028453826904297,
          -1.7813606262207031,
          9.163540840148926,
          -5.980269432067871,
          12.191658020019531,
          11.821720123291016,
          -7.7277302742004395,
          -6.269153118133545,
          -7.241105079650879,
          0.9011984467506409,
          6.8140363693237305,
          11.030769348144531,
          13.008030891418457,
          9.197227478027344,
          11.669962882995605,
          4.082843780517578,
          -6.151744842529297,
          3.239485025405884,
          -7.276642322540283,
          -9.25537395477295,
          9.073491096496582,
          -3.3742058277130127,
          5.539026737213135,
          11.23629093170166,
          -3.2447338104248047,
          -10.252593040466309,
          -5.2691755294799805,
          12.092951774597168,
          4.473132133483887,
          0.12352988123893738,
          5.835791110992432,
          -2.3917648792266846,
          9.276008605957031,
          5.527270317077637,
          5.540397644042969,
          4.655519962310791,
          8.032768249511719,
          9.26890754699707,
          4.07767915725708,
          -0.6202860474586487,
          5.9739227294921875,
          1.921470284461975,
          6.895868301391602,
          1.9508962631225586,
          -8.21435832977295,
          1.4247395992279053,
          13.897361755371094,
          13.911367416381836,
          13.06285572052002,
          10.721724510192871,
          11.024388313293457,
          4.1447224617004395,
          7.736600399017334,
          9.370034217834473,
          -7.290774822235107,
          13.521800994873047,
          -7.942052841186523,
          13.209197998046875,
          7.821638107299805,
          5.799092769622803,
          11.842021942138672,
          -5.714024543762207,
          -8.735712051391602,
          10.262935638427734,
          -9.0211763381958,
          -9.478387832641602,
          -8.72509479522705,
          5.9702348709106445,
          11.569079399108887,
          2.0602009296417236,
          8.680342674255371,
          12.478360176086426,
          9.038176536560059,
          3.3240201473236084,
          8.273106575012207,
          7.879086971282959,
          13.437125205993652,
          11.72908878326416,
          -0.018475105985999107,
          13.249601364135742,
          13.478697776794434,
          3.222297191619873,
          2.3773162364959717,
          -9.029215812683105,
          4.173160076141357,
          -9.028249740600586,
          11.06580638885498,
          7.007424354553223,
          6.544861793518066,
          10.279123306274414,
          5.929571628570557,
          -8.977455139160156,
          11.060832977294922,
          11.971796989440918,
          8.337427139282227,
          13.307225227355957,
          -8.566597938537598,
          -4.023720741271973,
          -8.777362823486328,
          10.113544464111328,
          9.6029052734375,
          9.163683891296387,
          13.295524597167969,
          -8.343676567077637,
          13.997385025024414,
          4.0530571937561035,
          8.24844741821289,
          5.808079719543457,
          8.14465045928955,
          12.010331153869629,
          10.551658630371094,
          7.248597621917725,
          -0.8848085403442383,
          -8.732966423034668,
          6.031512260437012,
          2.0513548851013184,
          13.059927940368652,
          10.606767654418945,
          5.561903476715088,
          10.88576889038086,
          9.883858680725098,
          13.039194107055664,
          7.793729305267334,
          -5.308795928955078,
          -9.05778694152832,
          -2.0752739906311035,
          9.943377494812012,
          -8.566181182861328,
          8.85671615600586,
          8.851458549499512,
          3.005821943283081,
          0.07539123296737671,
          11.617654800415039,
          13.26439380645752,
          7.7094221115112305,
          11.599245071411133,
          13.92527961730957,
          11.020360946655273,
          0.4762536287307739,
          11.909676551818848,
          13.419086456298828,
          -9.216743469238281,
          -9.222482681274414,
          -7.480212211608887,
          4.179734706878662,
          3.280552387237549,
          -9.057068824768066,
          -8.920023918151855,
          1.1099810600280762,
          3.993171453475952,
          13.799715995788574,
          -9.332963943481445,
          9.01896858215332,
          12.982945442199707,
          5.839982032775879,
          -8.791597366333008,
          -9.121580123901367,
          13.509737014770508,
          2.5019829273223877,
          10.21290111541748,
          13.15351390838623,
          -3.401224374771118,
          11.259614944458008,
          5.881612777709961,
          12.268220901489258,
          13.451051712036133,
          9.852779388427734,
          10.130216598510742,
          -10.355937957763672,
          3.2136831283569336,
          7.948525428771973,
          11.386747360229492,
          10.700671195983887,
          -9.1212797164917,
          7.6137895584106445,
          10.139457702636719,
          6.713819980621338,
          4.604344844818115,
          -8.940388679504395,
          2.3036069869995117,
          4.585513114929199,
          4.555999755859375,
          2.728807210922241,
          14.019946098327637,
          13.011975288391113,
          11.546304702758789,
          11.966723442077637,
          5.061257839202881,
          6.21833610534668,
          -4.176130771636963,
          11.486597061157227,
          13.065133094787598,
          -6.228117942810059,
          -4.88746452331543,
          13.002774238586426,
          12.260908126831055,
          12.41507625579834,
          6.750778675079346,
          9.78386116027832,
          -3.9509551525115967,
          9.666582107543945,
          12.872174263000488,
          12.149151802062988,
          8.52949047088623,
          7.526454448699951,
          -8.253451347351074,
          -9.703849792480469,
          5.086861610412598,
          -9.037476539611816,
          13.573620796203613,
          -8.987037658691406,
          13.404422760009766,
          2.4624667167663574,
          12.844675064086914,
          5.805454254150391,
          13.534696578979492,
          -5.277609825134277,
          1.8342180252075195,
          2.7396275997161865,
          13.354195594787598,
          -7.468496799468994,
          7.343230724334717,
          10.988222122192383,
          4.417927265167236,
          12.66294002532959,
          13.15639877319336,
          1.8289051055908203,
          8.33706283569336,
          11.573380470275879,
          -6.014686107635498,
          13.173883438110352,
          8.615924835205078,
          -8.953018188476562,
          -6.624967098236084,
          3.5579373836517334,
          13.235191345214844,
          10.924884796142578,
          11.499531745910645,
          -8.640030860900879,
          11.360536575317383,
          9.913580894470215,
          -9.105178833007812,
          -2.112659215927124,
          7.83978796005249,
          3.154235601425171,
          -9.33176326751709,
          -5.543088436126709,
          -7.465554714202881,
          -8.398974418640137,
          1.4989863634109497,
          10.628461837768555,
          11.942458152770996,
          7.055456161499023,
          11.321094512939453,
          6.77595853805542,
          -8.32981014251709,
          8.909259796142578,
          9.890912055969238,
          12.002894401550293,
          2.2885806560516357,
          5.716049671173096,
          14.033629417419434,
          9.842753410339355,
          -7.926460266113281,
          10.970508575439453,
          13.30031967163086,
          -5.335028648376465,
          -7.344010829925537,
          12.06637191772461,
          13.36066722869873,
          -4.028355598449707,
          -8.777756690979004,
          -0.4427556097507477,
          7.512264251708984,
          13.888100624084473,
          -4.358437538146973,
          13.100171089172363,
          10.730559349060059,
          13.528693199157715,
          11.67920970916748,
          4.376004219055176,
          -7.747631072998047,
          12.849312782287598,
          -0.5066373348236084,
          -1.3820269107818604,
          9.836623191833496,
          11.792671203613281,
          5.497101783752441,
          6.37246561050415,
          5.406540393829346,
          12.56770133972168,
          13.998872756958008,
          -7.758885860443115,
          10.030622482299805,
          12.522543907165527,
          -9.104656219482422,
          10.43031120300293,
          13.277183532714844,
          14.03370475769043,
          3.2160873413085938,
          12.480531692504883,
          8.350308418273926,
          -3.255995988845825,
          7.627870082855225,
          10.15011978149414,
          -7.884452819824219,
          5.557920932769775,
          11.369775772094727,
          7.13554573059082,
          -7.281793117523193,
          7.42903995513916,
          12.98063850402832,
          7.654904365539551,
          11.286986351013184,
          -7.947419166564941,
          0.8033117055892944,
          3.4758644104003906,
          11.718057632446289,
          9.181083679199219,
          12.85465145111084,
          10.285053253173828,
          2.2383315563201904,
          6.413116931915283,
          -6.510059833526611,
          2.5677080154418945,
          8.584014892578125,
          3.9149112701416016,
          4.452853202819824,
          -8.810517311096191,
          6.136258602142334,
          11.997184753417969,
          5.876817226409912,
          6.697182655334473,
          -4.3718461990356445,
          10.715632438659668,
          10.508444786071777,
          7.7002458572387695,
          4.088797569274902,
          13.9043607711792,
          7.4967522621154785,
          13.07278823852539,
          11.524901390075684,
          12.865852355957031,
          13.812479972839355,
          -9.483282089233398,
          2.911825180053711,
          9.697561264038086,
          9.054688453674316,
          12.340441703796387,
          -3.508420467376709,
          10.259775161743164,
          6.69059419631958,
          12.055733680725098,
          13.357001304626465,
          10.970568656921387,
          6.6807074546813965,
          5.742702960968018,
          -6.03452730178833,
          12.447583198547363,
          10.499804496765137,
          13.433099746704102,
          7.243243217468262,
          10.948394775390625,
          -6.999685287475586,
          -5.789956092834473,
          -1.4266027212142944,
          9.584089279174805,
          13.095725059509277,
          13.842203140258789,
          13.135841369628906,
          2.263974666595459,
          -1.7839428186416626,
          -2.9478695392608643,
          7.530426502227783,
          5.405001163482666,
          11.191917419433594,
          13.131233215332031,
          1.4782661199569702,
          -2.227315664291382,
          5.525813102722168,
          12.185639381408691,
          7.9069294929504395,
          2.1252214908599854,
          7.843120098114014,
          6.832891941070557,
          -9.012430191040039,
          -8.31350040435791,
          13.720625877380371,
          12.066790580749512,
          -9.801701545715332,
          10.852907180786133,
          6.636047840118408,
          -7.779621124267578,
          13.121932983398438,
          8.114025115966797,
          -8.061012268066406,
          -9.08487319946289,
          12.103229522705078,
          12.583046913146973,
          2.2485969066619873,
          12.810534477233887,
          13.97702693939209,
          6.579197883605957,
          12.052310943603516,
          6.456549644470215,
          11.545244216918945,
          9.961800575256348,
          1.0136715173721313,
          11.585823059082031,
          11.9322509765625,
          12.919709205627441,
          -5.8367109298706055,
          -8.514472961425781,
          9.350751876831055,
          11.585895538330078,
          -3.2610490322113037,
          5.68328857421875,
          -8.970768928527832,
          4.621437072753906,
          9.524724006652832,
          -0.8270747065544128,
          10.774079322814941,
          4.793781757354736,
          6.546375751495361,
          0.2191000133752823,
          -9.294663429260254,
          10.027334213256836,
          1.8339210748672485,
          -1.9438875913619995,
          11.150054931640625,
          2.8621585369110107,
          9.812009811401367,
          -8.968518257141113,
          13.909845352172852,
          8.568949699401855,
          12.479796409606934,
          9.414342880249023,
          -9.047680854797363,
          13.14806079864502,
          9.259196281433105,
          -1.6748547554016113,
          13.904498100280762,
          8.702896118164062,
          -6.586610794067383,
          11.110383033752441,
          -8.990793228149414,
          3.912418842315674,
          11.011590957641602,
          2.2893195152282715,
          -9.034008026123047,
          -8.674875259399414,
          12.794301986694336,
          9.002073287963867,
          -9.099930763244629,
          2.013144016265869,
          -9.083561897277832,
          -6.966668605804443,
          9.629420280456543,
          9.685040473937988,
          10.878397941589355,
          -8.966436386108398,
          9.184839248657227,
          -7.59497594833374,
          12.015830993652344,
          12.766009330749512,
          -4.35748815536499,
          -4.253376007080078,
          12.969339370727539,
          0.05933282524347305,
          -8.986085891723633,
          4.3238444328308105,
          2.654655933380127,
          -7.961298942565918,
          2.0967161655426025,
          8.453723907470703,
          -9.652583122253418,
          9.615266799926758,
          9.477742195129395,
          10.52803897857666,
          -0.8625986576080322,
          13.903748512268066,
          11.968948364257812,
          -4.139131546020508,
          13.509754180908203,
          0.6530559062957764,
          2.5075459480285645,
          12.700323104858398,
          7.408060550689697,
          -4.480201721191406,
          7.004763126373291,
          13.543417930603027,
          5.344222068786621,
          8.304685592651367,
          -5.308250904083252,
          -8.559050559997559,
          3.307004690170288,
          8.120537757873535,
          13.41581916809082,
          3.2551021575927734,
          12.855899810791016,
          3.396679401397705,
          -3.3831920623779297,
          -8.272011756896973,
          11.61296558380127,
          9.829270362854004,
          4.279216766357422,
          -3.37723445892334,
          10.86900520324707,
          10.46231460571289,
          5.329859256744385,
          12.992035865783691,
          -8.77230167388916,
          -8.639077186584473,
          -0.33122023940086365,
          8.369010925292969,
          3.4030866622924805,
          12.776137351989746,
          13.509784698486328,
          10.98730182647705,
          13.991263389587402,
          10.327747344970703,
          6.4981207847595215,
          -8.773123741149902
         ]
        }
       ],
       "layout": {
        "height": 800,
        "legend": {
         "title": {
          "text": "Dominant_Topic"
         },
         "tracegroupgap": 0
        },
        "scene": {
         "domain": {
          "x": [
           0,
           1
          ],
          "y": [
           0,
           1
          ]
         },
         "xaxis": {
          "title": {
           "text": "0"
          }
         },
         "yaxis": {
          "title": {
           "text": "1"
          }
         },
         "zaxis": {
          "title": {
           "text": "2"
          }
         }
        },
        "template": {
         "data": {
          "bar": [
           {
            "error_x": {
             "color": "#2a3f5f"
            },
            "error_y": {
             "color": "#2a3f5f"
            },
            "marker": {
             "line": {
              "color": "#E5ECF6",
              "width": 0.5
             },
             "pattern": {
              "fillmode": "overlay",
              "size": 10,
              "solidity": 0.2
             }
            },
            "type": "bar"
           }
          ],
          "barpolar": [
           {
            "marker": {
             "line": {
              "color": "#E5ECF6",
              "width": 0.5
             },
             "pattern": {
              "fillmode": "overlay",
              "size": 10,
              "solidity": 0.2
             }
            },
            "type": "barpolar"
           }
          ],
          "carpet": [
           {
            "aaxis": {
             "endlinecolor": "#2a3f5f",
             "gridcolor": "white",
             "linecolor": "white",
             "minorgridcolor": "white",
             "startlinecolor": "#2a3f5f"
            },
            "baxis": {
             "endlinecolor": "#2a3f5f",
             "gridcolor": "white",
             "linecolor": "white",
             "minorgridcolor": "white",
             "startlinecolor": "#2a3f5f"
            },
            "type": "carpet"
           }
          ],
          "choropleth": [
           {
            "colorbar": {
             "outlinewidth": 0,
             "ticks": ""
            },
            "type": "choropleth"
           }
          ],
          "contour": [
           {
            "colorbar": {
             "outlinewidth": 0,
             "ticks": ""
            },
            "colorscale": [
             [
              0,
              "#0d0887"
             ],
             [
              0.1111111111111111,
              "#46039f"
             ],
             [
              0.2222222222222222,
              "#7201a8"
             ],
             [
              0.3333333333333333,
              "#9c179e"
             ],
             [
              0.4444444444444444,
              "#bd3786"
             ],
             [
              0.5555555555555556,
              "#d8576b"
             ],
             [
              0.6666666666666666,
              "#ed7953"
             ],
             [
              0.7777777777777778,
              "#fb9f3a"
             ],
             [
              0.8888888888888888,
              "#fdca26"
             ],
             [
              1,
              "#f0f921"
             ]
            ],
            "type": "contour"
           }
          ],
          "contourcarpet": [
           {
            "colorbar": {
             "outlinewidth": 0,
             "ticks": ""
            },
            "type": "contourcarpet"
           }
          ],
          "heatmap": [
           {
            "colorbar": {
             "outlinewidth": 0,
             "ticks": ""
            },
            "colorscale": [
             [
              0,
              "#0d0887"
             ],
             [
              0.1111111111111111,
              "#46039f"
             ],
             [
              0.2222222222222222,
              "#7201a8"
             ],
             [
              0.3333333333333333,
              "#9c179e"
             ],
             [
              0.4444444444444444,
              "#bd3786"
             ],
             [
              0.5555555555555556,
              "#d8576b"
             ],
             [
              0.6666666666666666,
              "#ed7953"
             ],
             [
              0.7777777777777778,
              "#fb9f3a"
             ],
             [
              0.8888888888888888,
              "#fdca26"
             ],
             [
              1,
              "#f0f921"
             ]
            ],
            "type": "heatmap"
           }
          ],
          "heatmapgl": [
           {
            "colorbar": {
             "outlinewidth": 0,
             "ticks": ""
            },
            "colorscale": [
             [
              0,
              "#0d0887"
             ],
             [
              0.1111111111111111,
              "#46039f"
             ],
             [
              0.2222222222222222,
              "#7201a8"
             ],
             [
              0.3333333333333333,
              "#9c179e"
             ],
             [
              0.4444444444444444,
              "#bd3786"
             ],
             [
              0.5555555555555556,
              "#d8576b"
             ],
             [
              0.6666666666666666,
              "#ed7953"
             ],
             [
              0.7777777777777778,
              "#fb9f3a"
             ],
             [
              0.8888888888888888,
              "#fdca26"
             ],
             [
              1,
              "#f0f921"
             ]
            ],
            "type": "heatmapgl"
           }
          ],
          "histogram": [
           {
            "marker": {
             "pattern": {
              "fillmode": "overlay",
              "size": 10,
              "solidity": 0.2
             }
            },
            "type": "histogram"
           }
          ],
          "histogram2d": [
           {
            "colorbar": {
             "outlinewidth": 0,
             "ticks": ""
            },
            "colorscale": [
             [
              0,
              "#0d0887"
             ],
             [
              0.1111111111111111,
              "#46039f"
             ],
             [
              0.2222222222222222,
              "#7201a8"
             ],
             [
              0.3333333333333333,
              "#9c179e"
             ],
             [
              0.4444444444444444,
              "#bd3786"
             ],
             [
              0.5555555555555556,
              "#d8576b"
             ],
             [
              0.6666666666666666,
              "#ed7953"
             ],
             [
              0.7777777777777778,
              "#fb9f3a"
             ],
             [
              0.8888888888888888,
              "#fdca26"
             ],
             [
              1,
              "#f0f921"
             ]
            ],
            "type": "histogram2d"
           }
          ],
          "histogram2dcontour": [
           {
            "colorbar": {
             "outlinewidth": 0,
             "ticks": ""
            },
            "colorscale": [
             [
              0,
              "#0d0887"
             ],
             [
              0.1111111111111111,
              "#46039f"
             ],
             [
              0.2222222222222222,
              "#7201a8"
             ],
             [
              0.3333333333333333,
              "#9c179e"
             ],
             [
              0.4444444444444444,
              "#bd3786"
             ],
             [
              0.5555555555555556,
              "#d8576b"
             ],
             [
              0.6666666666666666,
              "#ed7953"
             ],
             [
              0.7777777777777778,
              "#fb9f3a"
             ],
             [
              0.8888888888888888,
              "#fdca26"
             ],
             [
              1,
              "#f0f921"
             ]
            ],
            "type": "histogram2dcontour"
           }
          ],
          "mesh3d": [
           {
            "colorbar": {
             "outlinewidth": 0,
             "ticks": ""
            },
            "type": "mesh3d"
           }
          ],
          "parcoords": [
           {
            "line": {
             "colorbar": {
              "outlinewidth": 0,
              "ticks": ""
             }
            },
            "type": "parcoords"
           }
          ],
          "pie": [
           {
            "automargin": true,
            "type": "pie"
           }
          ],
          "scatter": [
           {
            "marker": {
             "colorbar": {
              "outlinewidth": 0,
              "ticks": ""
             }
            },
            "type": "scatter"
           }
          ],
          "scatter3d": [
           {
            "line": {
             "colorbar": {
              "outlinewidth": 0,
              "ticks": ""
             }
            },
            "marker": {
             "colorbar": {
              "outlinewidth": 0,
              "ticks": ""
             }
            },
            "type": "scatter3d"
           }
          ],
          "scattercarpet": [
           {
            "marker": {
             "colorbar": {
              "outlinewidth": 0,
              "ticks": ""
             }
            },
            "type": "scattercarpet"
           }
          ],
          "scattergeo": [
           {
            "marker": {
             "colorbar": {
              "outlinewidth": 0,
              "ticks": ""
             }
            },
            "type": "scattergeo"
           }
          ],
          "scattergl": [
           {
            "marker": {
             "colorbar": {
              "outlinewidth": 0,
              "ticks": ""
             }
            },
            "type": "scattergl"
           }
          ],
          "scattermapbox": [
           {
            "marker": {
             "colorbar": {
              "outlinewidth": 0,
              "ticks": ""
             }
            },
            "type": "scattermapbox"
           }
          ],
          "scatterpolar": [
           {
            "marker": {
             "colorbar": {
              "outlinewidth": 0,
              "ticks": ""
             }
            },
            "type": "scatterpolar"
           }
          ],
          "scatterpolargl": [
           {
            "marker": {
             "colorbar": {
              "outlinewidth": 0,
              "ticks": ""
             }
            },
            "type": "scatterpolargl"
           }
          ],
          "scatterternary": [
           {
            "marker": {
             "colorbar": {
              "outlinewidth": 0,
              "ticks": ""
             }
            },
            "type": "scatterternary"
           }
          ],
          "surface": [
           {
            "colorbar": {
             "outlinewidth": 0,
             "ticks": ""
            },
            "colorscale": [
             [
              0,
              "#0d0887"
             ],
             [
              0.1111111111111111,
              "#46039f"
             ],
             [
              0.2222222222222222,
              "#7201a8"
             ],
             [
              0.3333333333333333,
              "#9c179e"
             ],
             [
              0.4444444444444444,
              "#bd3786"
             ],
             [
              0.5555555555555556,
              "#d8576b"
             ],
             [
              0.6666666666666666,
              "#ed7953"
             ],
             [
              0.7777777777777778,
              "#fb9f3a"
             ],
             [
              0.8888888888888888,
              "#fdca26"
             ],
             [
              1,
              "#f0f921"
             ]
            ],
            "type": "surface"
           }
          ],
          "table": [
           {
            "cells": {
             "fill": {
              "color": "#EBF0F8"
             },
             "line": {
              "color": "white"
             }
            },
            "header": {
             "fill": {
              "color": "#C8D4E3"
             },
             "line": {
              "color": "white"
             }
            },
            "type": "table"
           }
          ]
         },
         "layout": {
          "annotationdefaults": {
           "arrowcolor": "#2a3f5f",
           "arrowhead": 0,
           "arrowwidth": 1
          },
          "autotypenumbers": "strict",
          "coloraxis": {
           "colorbar": {
            "outlinewidth": 0,
            "ticks": ""
           }
          },
          "colorscale": {
           "diverging": [
            [
             0,
             "#8e0152"
            ],
            [
             0.1,
             "#c51b7d"
            ],
            [
             0.2,
             "#de77ae"
            ],
            [
             0.3,
             "#f1b6da"
            ],
            [
             0.4,
             "#fde0ef"
            ],
            [
             0.5,
             "#f7f7f7"
            ],
            [
             0.6,
             "#e6f5d0"
            ],
            [
             0.7,
             "#b8e186"
            ],
            [
             0.8,
             "#7fbc41"
            ],
            [
             0.9,
             "#4d9221"
            ],
            [
             1,
             "#276419"
            ]
           ],
           "sequential": [
            [
             0,
             "#0d0887"
            ],
            [
             0.1111111111111111,
             "#46039f"
            ],
            [
             0.2222222222222222,
             "#7201a8"
            ],
            [
             0.3333333333333333,
             "#9c179e"
            ],
            [
             0.4444444444444444,
             "#bd3786"
            ],
            [
             0.5555555555555556,
             "#d8576b"
            ],
            [
             0.6666666666666666,
             "#ed7953"
            ],
            [
             0.7777777777777778,
             "#fb9f3a"
            ],
            [
             0.8888888888888888,
             "#fdca26"
            ],
            [
             1,
             "#f0f921"
            ]
           ],
           "sequentialminus": [
            [
             0,
             "#0d0887"
            ],
            [
             0.1111111111111111,
             "#46039f"
            ],
            [
             0.2222222222222222,
             "#7201a8"
            ],
            [
             0.3333333333333333,
             "#9c179e"
            ],
            [
             0.4444444444444444,
             "#bd3786"
            ],
            [
             0.5555555555555556,
             "#d8576b"
            ],
            [
             0.6666666666666666,
             "#ed7953"
            ],
            [
             0.7777777777777778,
             "#fb9f3a"
            ],
            [
             0.8888888888888888,
             "#fdca26"
            ],
            [
             1,
             "#f0f921"
            ]
           ]
          },
          "colorway": [
           "#636efa",
           "#EF553B",
           "#00cc96",
           "#ab63fa",
           "#FFA15A",
           "#19d3f3",
           "#FF6692",
           "#B6E880",
           "#FF97FF",
           "#FECB52"
          ],
          "font": {
           "color": "#2a3f5f"
          },
          "geo": {
           "bgcolor": "white",
           "lakecolor": "white",
           "landcolor": "#E5ECF6",
           "showlakes": true,
           "showland": true,
           "subunitcolor": "white"
          },
          "hoverlabel": {
           "align": "left"
          },
          "hovermode": "closest",
          "mapbox": {
           "style": "light"
          },
          "paper_bgcolor": "white",
          "plot_bgcolor": "#E5ECF6",
          "polar": {
           "angularaxis": {
            "gridcolor": "white",
            "linecolor": "white",
            "ticks": ""
           },
           "bgcolor": "#E5ECF6",
           "radialaxis": {
            "gridcolor": "white",
            "linecolor": "white",
            "ticks": ""
           }
          },
          "scene": {
           "xaxis": {
            "backgroundcolor": "#E5ECF6",
            "gridcolor": "white",
            "gridwidth": 2,
            "linecolor": "white",
            "showbackground": true,
            "ticks": "",
            "zerolinecolor": "white"
           },
           "yaxis": {
            "backgroundcolor": "#E5ECF6",
            "gridcolor": "white",
            "gridwidth": 2,
            "linecolor": "white",
            "showbackground": true,
            "ticks": "",
            "zerolinecolor": "white"
           },
           "zaxis": {
            "backgroundcolor": "#E5ECF6",
            "gridcolor": "white",
            "gridwidth": 2,
            "linecolor": "white",
            "showbackground": true,
            "ticks": "",
            "zerolinecolor": "white"
           }
          },
          "shapedefaults": {
           "line": {
            "color": "#2a3f5f"
           }
          },
          "ternary": {
           "aaxis": {
            "gridcolor": "white",
            "linecolor": "white",
            "ticks": ""
           },
           "baxis": {
            "gridcolor": "white",
            "linecolor": "white",
            "ticks": ""
           },
           "bgcolor": "#E5ECF6",
           "caxis": {
            "gridcolor": "white",
            "linecolor": "white",
            "ticks": ""
           }
          },
          "title": {
           "x": 0.05
          },
          "xaxis": {
           "automargin": true,
           "gridcolor": "white",
           "linecolor": "white",
           "ticks": "",
           "title": {
            "standoff": 15
           },
           "zerolinecolor": "white",
           "zerolinewidth": 2
          },
          "yaxis": {
           "automargin": true,
           "gridcolor": "white",
           "linecolor": "white",
           "ticks": "",
           "title": {
            "standoff": 15
           },
           "zerolinecolor": "white",
           "zerolinewidth": 2
          }
         }
        },
        "title": {
         "text": "3d TSNE Plot for Topic Model"
        },
        "width": 900
       }
      },
      "text/html": [
       "<div>                            <div id=\"1a104315-1663-4c9d-810a-8f7557b0508f\" class=\"plotly-graph-div\" style=\"height:800px; width:900px;\"></div>            <script type=\"text/javascript\">                require([\"plotly\"], function(Plotly) {                    window.PLOTLYENV=window.PLOTLYENV || {};                                    if (document.getElementById(\"1a104315-1663-4c9d-810a-8f7557b0508f\")) {                    Plotly.newPlot(                        \"1a104315-1663-4c9d-810a-8f7557b0508f\",                        [{\"hovertemplate\":\"Dominant_Topic=Topic 0<br>0=%{x}<br>1=%{y}<br>2=%{z}<extra></extra>\",\"legendgroup\":\"Topic 0\",\"marker\":{\"color\":\"#636efa\",\"opacity\":0.7,\"symbol\":\"circle\"},\"mode\":\"markers\",\"name\":\"Topic 0\",\"scene\":\"scene\",\"showlegend\":true,\"type\":\"scatter3d\",\"x\":[3.3807921409606934,10.180153846740723,2.276564598083496,0.2426191121339798,-0.5660145282745361,2.920194625854492,-1.3641570806503296,-5.742105960845947,-2.6135685443878174,5.785348892211914,9.598730087280273,5.003267765045166,-5.198675632476807,-5.802816867828369,-7.560858726501465,1.0396132469177246,-3.3224172592163086,-0.17448681592941284,-6.992501735687256,-0.479356974363327,-3.6164660453796387,-6.712849140167236,-4.386087417602539,-0.2546716034412384,-0.11835458874702454,4.7205491065979,-1.6852247714996338,1.789027214050293,-6.555052757263184,-2.412792205810547,-2.9035277366638184,5.6694841384887695,-7.245043754577637,-0.31001201272010803,-2.78912091255188,-7.388998985290527,2.4959561824798584,0.796363890171051,-0.565669596195221,2.309122085571289,-4.498485565185547,-0.7462494373321533,-4.595702648162842,1.4502311944961548,-1.0019398927688599,10.013665199279785,8.169709205627441,9.462634086608887,0.09832743555307388,-6.647796630859375,-0.9220792055130005,-0.69969642162323,-2.5807785987854004,0.4630591869354248,-0.17145949602127075,9.017659187316895,5.451066017150879,-6.751634120941162,1.286551833152771,-3.624877691268921,-5.213027477264404,0.8706048727035522,9.572925567626953,0.8702269196510315,-7.0814642906188965,6.348753452301025,-3.0116004943847656,10.119772911071777,-1.0971482992172241,-4.772051811218262,-6.7824249267578125,0.6485387086868286,-6.689976692199707,2.572747230529785,1.7425227165222168,-3.9825313091278076,1.2418487071990967,8.528047561645508,0.6889232397079468,4.691877365112305,0.6714064478874207,-1.7953578233718872,-6.550022125244141,5.471192359924316,-0.6118744015693665,-6.45221471786499,-5.476777076721191,-3.958665132522583,-2.1051666736602783,2.7025275230407715,-7.537328720092773,2.3823752403259277,-0.7414780855178833,-6.916296005249023,10.149320602416992,-6.271272659301758,2.899681329727173,-7.464677333831787,1.6471620798110962,-5.419983386993408,-4.748389720916748,-7.264328956604004,-0.7822424173355103,0.991956889629364,-0.9865357875823975,-4.157534122467041,8.011737823486328,-0.15864594280719757,-5.465943813323975,10.242316246032715,1.1316663026809692,8.500625610351562,2.363123893737793,7.130387306213379,-6.502115249633789,-7.180873394012451,-3.078897476196289,-1.2692148685455322,-4.837122440338135,-5.825339317321777,7.372302532196045,-6.362527370452881,-5.858138084411621,-7.379975318908691,-0.7417823076248169,-3.573287010192871,-5.1212029457092285,0.253589391708374,-3.0280134677886963,1.3062279224395752,-7.393631935119629,6.4633893966674805,-7.197667598724365,-6.6061882972717285,-6.774702072143555,8.602397918701172,-1.4828863143920898,7.009585857391357,3.297333002090454,1.0623703002929688,9.059240341186523,4.80522346496582,-7.347876071929932,-5.7042436599731445,-2.2304558753967285,7.702576637268066,0.7474953532218933,-0.8895992636680603,-6.647995948791504,-7.238975524902344,7.082470417022705,-3.7300074100494385,-7.067473411560059,-7.51138973236084,1.6966946125030518,1.9009839296340942,-1.8006746768951416,-3.644315481185913,1.152147889137268,0.8477509021759033,-4.592724800109863,-7.520832061767578,-6.113742828369141,1.4502395391464233,-6.3263325691223145,1.6954799890518188,-6.075043678283691,2.645392894744873,-1.2158085107803345,-6.754086971282959,-0.8479493856430054,-3.9505057334899902,-5.016188144683838,0.06480339169502258,1.9560519456863403,-7.035877704620361,5.941169261932373,1.9398646354675293,1.585628628730774,6.606457233428955,-7.23452091217041,3.8704941272735596,5.136317253112793,1.5357515811920166,-4.453239917755127,10.01386547088623,-0.26921939849853516,8.520520210266113,-5.995024681091309,-0.4089399576187134,-5.704648971557617,2.499824285507202,-0.30827245116233826,-4.777196407318115,1.8464025259017944,8.589868545532227,-0.7842035889625549,1.5246257781982422,4.210593223571777,-1.923712968826294,4.0752787590026855,9.997992515563965,-4.11068058013916,-3.7848095893859863,1.3357000350952148,-7.5018463134765625,-7.515870571136475,-0.5932944416999817,-0.7871065735816956,4.484066963195801,-1.584723949432373,-7.47831916809082,3.3524820804595947,-1.5362670421600342,-6.5924506187438965,-7.043471336364746,2.6650500297546387,9.45858383178711,-4.557243824005127,-2.269164800643921,-7.459522247314453,-5.01699686050415,7.2439703941345215,-0.1337210237979889,3.8626415729522705,-6.036202430725098,-5.9892144203186035,3.1162760257720947,-7.14733362197876,8.888795852661133,8.104239463806152,1.8955395221710205,7.229479789733887,-0.6723433136940002,-4.644958019256592,8.930501937866211,-0.007073709741234779,-4.354238033294678,-2.6896822452545166,-6.0129523277282715,-1.323134422302246,-3.901451349258423,-5.9113993644714355,6.774775981903076,-7.061344146728516,-0.6054866909980774,6.91273307800293,9.778846740722656,-5.991131782531738,-3.7210211753845215,9.106557846069336,1.9715852737426758,-0.4731214642524719,8.206924438476562,-7.482748031616211,-7.500949382781982,-6.657663345336914,-7.261694431304932,10.343768119812012,7.039710521697998,1.2167614698410034,6.313607692718506,-6.731525897979736,6.9025797843933105,-6.402719020843506,-0.04873528704047203,-1.7646158933639526,6.838822364807129,-7.182633399963379,0.6510058641433716,-4.293862819671631,-6.793040752410889,8.289090156555176,-5.01613187789917,-0.8578224182128906,-0.09203001856803894,-7.3666157722473145,3.738676071166992,-6.085785865783691,-0.6505141258239746,3.1322360038757324,-1.7736903429031372,3.3443708419799805,6.203723430633545,-6.32509708404541,1.6666632890701294,-5.425264358520508,-7.517195701599121,10.095916748046875,10.211490631103516,-4.740466117858887,-7.391546726226807,-3.1862025260925293,-6.1158599853515625,-4.764338493347168,-6.055214881896973,-4.661203861236572,-4.086355686187744,5.108407497406006,1.402118444442749,-6.598565578460693,7.678137302398682,-5.1613945960998535,-5.617011547088623,-6.173748016357422,0.6676353812217712,-5.5477495193481445,-5.5198845863342285,3.0118308067321777,10.177489280700684,4.364120006561279,1.4063429832458496,-3.2026541233062744],\"y\":[-10.256917953491211,-12.43692398071289,-9.747703552246094,-3.6717352867126465,-8.154470443725586,-10.230104446411133,-4.82405948638916,-6.54733419418335,-8.630929946899414,-11.126697540283203,-12.27451229095459,-9.534750938415527,-2.9877843856811523,-6.509734153747559,-5.046835899353027,-5.344447612762451,-3.32015061378479,-5.055339336395264,-6.116061687469482,-8.418298721313477,-6.990737438201904,-3.28147029876709,-6.802704334259033,-8.595674514770508,-8.162627220153809,-10.746757507324219,-7.828185081481934,-9.363818168640137,-6.307112216949463,-4.918941020965576,-3.3666465282440186,-10.468947410583496,-5.844018936157227,-5.572813987731934,-7.319631576538086,-4.493571758270264,-10.065821647644043,-3.672934055328369,-5.1102495193481445,-9.88951587677002,-3.3557074069976807,-3.4926044940948486,-3.1989498138427734,-9.435510635375977,-5.277971267700195,-12.005837440490723,-11.979866981506348,-12.19989013671875,-3.681795597076416,-6.707277297973633,-3.394230365753174,-5.968873500823975,-7.421421051025391,-8.899621963500977,-3.5790271759033203,-12.162951469421387,-11.013718605041504,-6.195361137390137,-4.170341968536377,-5.999568462371826,-2.983938217163086,-9.15459156036377,-11.421443939208984,-3.0005743503570557,-3.8632547855377197,-11.333937644958496,-7.245572090148926,-12.214376449584961,-8.504674911499023,-6.677455902099609,-3.4209842681884766,-5.1584906578063965,-3.259331226348877,-9.857735633850098,-4.233987808227539,-6.74798583984375,-3.478588819503784,-12.081159591674805,-4.807344913482666,-10.732499122619629,-9.036674499511719,-7.765081882476807,-6.312315464019775,-11.001439094543457,-8.404172897338867,-3.091531276702881,-6.557528018951416,-6.781996250152588,-7.637950420379639,-3.519563913345337,-5.01602840423584,-3.317110776901245,-5.14054536819458,-3.613384246826172,-12.059264183044434,-3.0518627166748047,-9.932621002197266,-5.478382110595703,-9.530929565429688,-2.9441421031951904,-3.179615020751953,-5.812252521514893,-3.989797592163086,-3.389993906021118,-3.617915630340576,-3.296677350997925,-11.815376281738281,-3.798184394836426,-6.567144870758057,-12.054831504821777,-9.280168533325195,-11.97761058807373,-3.558316469192505,-11.4546537399292,-3.317229747772217,-5.9198737144470215,-8.515914916992188,-8.036934852600098,-3.759866952896118,-6.506850242614746,-11.620014190673828,-3.0752625465393066,-2.9627199172973633,-4.474733829498291,-6.036448955535889,-3.2936205863952637,-3.0140433311462402,-8.867122650146484,-4.77443790435791,-9.347716331481934,-4.498599529266357,-11.372456550598145,-4.0646257400512695,-6.279667377471924,-6.250831127166748,-10.360199928283691,-3.489309072494507,-10.849705696105957,-3.150203227996826,-3.6702606678009033,-10.765522003173828,-10.785951614379883,-5.688493251800537,-6.520880222320557,-3.422456741333008,-11.831128120422363,-8.632904052734375,-8.229242324829102,-3.1713430881500244,-5.548761367797852,-11.489259719848633,-6.94415807723999,-3.838418483734131,-5.052572727203369,-4.102478981018066,-9.651843070983887,-4.9952263832092285,-6.956064701080322,-2.879974842071533,-9.146994590759277,-3.279224395751953,-5.358171463012695,-6.454678058624268,-4.6010260581970215,-3.22772479057312,-3.6792192459106445,-6.459906101226807,-9.811827659606934,-5.866461753845215,-6.207968235015869,-8.261970520019531,-6.905938148498535,-3.3078036308288574,-5.66087532043457,-4.033313274383545,-6.044846057891846,-11.125128746032715,-3.733396530151367,-5.938403606414795,-10.810151100158691,-5.857423305511475,-10.454093933105469,-10.037060737609863,-3.9789650440216064,-6.687556266784668,-12.266414642333984,-8.586837768554688,-12.075576782226562,-3.001453399658203,-8.512005805969238,-2.9403088092803955,-10.02084732055664,-3.317721128463745,-3.1656653881073,-3.991270065307617,-12.096336364746094,-3.52014422416687,-3.5412392616271973,-10.560174942016602,-5.301116466522217,-10.527364730834961,-12.230006217956543,-6.6089372634887695,-8.294451713562012,-4.162668228149414,-4.95212459564209,-4.869785308837891,-3.637639045715332,-8.297819137573242,-10.64307975769043,-5.0041985511779785,-5.382389545440674,-10.270220756530762,-7.902780055999756,-4.035653591156006,-3.970104694366455,-10.032329559326172,-12.17720890045166,-6.727354526519775,-5.128011703491211,-5.222739219665527,-3.0497469902038574,-11.671256065368652,-3.296934127807617,-10.461372375488281,-2.985870599746704,-6.4723896980285645,-3.161176919937134,-3.9705562591552734,-10.653132438659668,-11.95958423614502,-4.059225082397461,-10.904193878173828,-6.17763090133667,-3.140599250793457,-12.154314994812012,-7.88476037979126,-6.780460357666016,-7.373409271240234,-4.660049915313721,-5.259755611419678,-6.306618690490723,-2.9652206897735596,-11.485275268554688,-3.96956467628479,-7.52339506149292,-11.54633617401123,-12.265042304992676,-5.028011798858643,-4.478945255279541,-12.109292030334473,-9.690523147583008,-5.200094223022461,-11.914217948913574,-5.228107929229736,-5.348869800567627,-3.251441717147827,-4.968198776245117,-12.266134262084961,-10.852996826171875,-5.355134963989258,-11.225894927978516,-3.338162660598755,-10.709078788757324,-3.1860709190368652,-5.616562843322754,-3.4806745052337646,-11.518359184265137,-5.916977882385254,-3.6544923782348633,-6.8228960037231445,-6.659458637237549,-12.032418251037598,-3.0516066551208496,-3.4959938526153564,-7.994869232177734,-4.440025806427002,-10.422194480895996,-6.462748050689697,-6.06917142868042,-10.235288619995117,-7.788989067077637,-10.273829460144043,-11.274463653564453,-3.2265267372131348,-3.307420015335083,-2.9416120052337646,-5.123992919921875,-12.236003875732422,-12.116415977478027,-3.0774378776550293,-5.609615802764893,-7.13831901550293,-6.467331886291504,-6.6678242683410645,-2.9934825897216797,-3.8104159832000732,-6.8887457847595215,-9.424222946166992,-5.761863708496094,-3.152736186981201,-11.81861400604248,-2.998645305633545,-2.9348394870758057,-6.449750900268555,-3.7838423252105713,-2.931675672531128,-2.9371485710144043,-10.073281288146973,-12.437150001525879,-10.623741149902344,-9.417359352111816,-8.496822357177734],\"z\":[-10.701314926147461,-7.708138942718506,-10.71120548248291,-2.7950189113616943,-10.562994003295898,-10.816105842590332,-5.587181091308594,-10.505470275878906,-9.441473960876465,-9.947957038879395,-8.040245056152344,-8.830403327941895,-0.8391210436820984,-10.685440063476562,-6.749542713165283,-6.454010009765625,-0.5796164274215698,-6.144251823425293,-8.888931274414062,-10.856423377990723,-11.679929733276367,-3.727539300918579,-11.557648658752441,-10.93712329864502,-10.155328750610352,-10.333230972290039,-11.342061996459961,-10.527449607849121,-9.812116622924805,-5.963594913482666,-1.1833641529083252,-9.381580352783203,-8.23128604888916,-6.9240241050720215,-11.621772766113281,-5.904399871826172,-10.831536293029785,-3.20334792137146,-6.215449810028076,-10.883435249328613,0.5931990146636963,-1.4766476154327393,-0.06946633011102676,-10.854084014892578,-6.508408069610596,-7.889151096343994,-8.853534698486328,-8.08949089050293,-2.726346492767334,-7.592292785644531,-0.8489707708358765,-7.569698810577393,-11.60741138458252,-10.779818534851074,-2.1497609615325928,-8.390520095825195,-10.079092979431152,-9.461687088012695,-4.799026012420654,-10.338367462158203,-0.8542985320091248,-10.855732917785645,-7.640669822692871,-0.5380316376686096,-4.883507251739502,-9.720190048217773,-11.683271408081055,-7.493325710296631,-10.47936725616455,-11.323785781860352,-4.04101037979126,-6.2725605964660645,-3.6512393951416016,-10.915912628173828,-5.171255111694336,-11.598138809204102,-2.954679250717163,-8.658796310424805,-5.809464454650879,-10.338677406311035,-10.831085205078125,-11.34586238861084,-9.815606117248535,-10.051713943481445,-11.01052188873291,-3.166416883468628,-10.899455070495605,-11.619629859924316,-11.493036270141602,-4.359440803527832,-6.913114070892334,-3.5041637420654297,-6.264126777648926,-4.417910099029541,-7.902003765106201,-2.9062774181365967,-10.630824089050293,-7.403341770172119,-10.85754680633545,-1.2896848917007446,-0.023884829133749008,-8.133320808410645,-3.203840732574463,-2.3631370067596436,-1.9322322607040405,0.06816048920154572,-8.842607498168945,-2.945530891418457,-10.911604881286621,-7.6740922927856445,-10.84879207611084,-8.603607177734375,-4.163311958312988,-9.233452796936035,-3.7701613903045654,-8.413274765014648,-9.347208976745605,-11.184144973754883,-3.9917054176330566,-10.676066398620605,-9.179471015930176,-3.0622613430023193,-2.1321959495544434,-5.8787760734558105,-7.6767578125,-0.542180597782135,-0.6910814642906189,-10.905974388122559,-5.753177165985107,-10.828130722045898,-5.912703990936279,-9.670537948608398,-5.22868537902832,-9.728175163269043,-9.370501518249512,-7.661194801330566,-1.3751121759414673,-7.176900386810303,-3.950512647628784,-3.3958969116210938,-7.609256744384766,-10.31367301940918,-7.85078763961792,-10.658218383789062,-1.1237508058547974,-9.093525886535645,-10.171476364135742,-11.04944133758545,-3.453322649002075,-7.293286323547363,-9.298288345336914,-11.667245864868164,-4.830545902252197,-7.017951488494873,-4.900965213775635,-10.858561515808105,-6.038634300231934,-11.648265838623047,-0.26572924852371216,-10.863147735595703,0.3165092170238495,-7.024569988250732,-10.398472785949707,-5.601473331451416,-3.5321688652038574,-3.919203996658325,-10.438739776611328,-10.84859848022461,-7.526981353759766,-9.442785263061523,-11.061205863952637,-11.66621208190918,-2.718562364578247,-7.0052947998046875,-4.928725242614746,-8.856470108032227,-9.830522537231445,-4.254765510559082,-6.967377662658691,-9.109458923339844,-8.271830558776855,-10.593876838684082,-9.297880172729492,-4.526575565338135,-11.399674415588379,-7.495659351348877,-10.939274787902832,-8.660533905029297,-2.4522945880889893,-10.960081100463867,-1.8236042261123657,-10.905454635620117,-0.9118812680244446,-0.07183042168617249,-4.769533634185791,-8.623406410217285,-1.588409662246704,-3.39552903175354,-10.489197731018066,-6.661314964294434,-10.543846130371094,-7.49432373046875,-11.33010196685791,-9.148427963256836,-4.810924530029297,-6.595947265625,-6.47719144821167,-2.1346914768218994,-11.045926094055176,-10.393562316894531,-6.032519817352295,-7.110411167144775,-10.729597091674805,-11.291074752807617,-5.0963544845581055,-5.054621696472168,-10.630232810974121,-8.079471588134766,-11.44873046875,-6.37559175491333,-7.18071985244751,-0.5211085677146912,-9.318325996398926,-0.9604201316833496,-10.601802825927734,-2.42584228515625,-10.52808666229248,-3.7872674465179443,-5.069169521331787,-7.6513991355896,-8.880342483520508,-4.941000461578369,-8.825390815734863,-7.857205390930176,-1.6006678342819214,-8.441991806030273,-9.684776306152344,-11.564799308776855,-11.627922058105469,-5.930222988128662,-6.50382137298584,-10.885099411010742,-2.22564697265625,-9.532922744750977,-5.056459903717041,-9.70067310333252,-9.472989082336426,-7.630370140075684,-6.473437786102295,-5.252572536468506,-8.305480003356934,-10.875448226928711,-6.36228084564209,-8.76789665222168,-6.780001163482666,-7.26838493347168,-3.6250879764556885,-6.541204929351807,-7.625208377838135,-7.145518779754639,-6.44559907913208,-9.647909164428711,-3.860646963119507,-7.141626834869385,-3.5311691761016846,-6.9593424797058105,-1.376272201538086,-9.509406089782715,-8.437871932983398,-3.0421230792999268,-11.586371421813965,-9.254179000854492,-8.792715072631836,-0.5045511722564697,-1.456276774406433,-9.897656440734863,-5.82315731048584,-10.637134552001953,-10.408202171325684,-7.70468807220459,-10.806207656860352,-11.3738374710083,-10.739944458007812,-9.77526569366455,-3.5286977291107178,-2.7560057640075684,-1.267419457435608,-6.737402439117432,-7.981509208679199,-7.8984527587890625,-1.1157898902893066,-7.659042835235596,-11.66137409210205,-10.356911659240723,-11.307758331298828,-2.4748294353485107,-4.021664619445801,-11.650079727172852,-8.624680519104004,-6.83400821685791,-3.384161949157715,-9.104081153869629,-0.7849469780921936,-1.6526190042495728,-10.313080787658691,-3.4317612648010254,-1.493927001953125,-1.4929895401000977,-10.894699096679688,-7.698260307312012,-10.460371017456055,-10.858692169189453,-9.298768043518066]},{\"hovertemplate\":\"Dominant_Topic=Topic 1<br>0=%{x}<br>1=%{y}<br>2=%{z}<extra></extra>\",\"legendgroup\":\"Topic 1\",\"marker\":{\"color\":\"#EF553B\",\"opacity\":0.7,\"symbol\":\"circle\"},\"mode\":\"markers\",\"name\":\"Topic 1\",\"scene\":\"scene\",\"showlegend\":true,\"type\":\"scatter3d\",\"x\":[0.8826188445091248,1.1614373922348022,1.9442447423934937,0.9805379509925842,0.9284040331840515,1.686309814453125,1.3885630369186401,1.218082070350647,1.8102375268936157,1.4766616821289062,1.048769235610962,1.5874359607696533,1.0128989219665527,-1.8565673828125,1.5785396099090576,0.7704092264175415,0.9006037712097168,1.3712159395217896,1.3386870622634888,0.9434468150138855,0.8128441572189331,1.6739013195037842,1.4050648212432861,1.2950137853622437,1.5639106035232544,-1.7661234140396118,0.9225109219551086,1.7631868124008179,1.8733559846878052,1.8532390594482422,1.2584888935089111,1.6264480352401733],\"y\":[-11.042069435119629,-11.19112777709961,-10.812744140625,-10.618280410766602,-11.036604881286621,-11.137924194335938,-10.982224464416504,-11.059562683105469,-10.68265438079834,-11.41769790649414,-10.791243553161621,-10.476594924926758,-11.248607635498047,-5.822065353393555,-10.4680757522583,-9.90584945678711,-10.116568565368652,-10.596789360046387,-10.355649948120117,-10.139744758605957,-10.53903865814209,-11.04466724395752,-11.417110443115234,-11.31904411315918,-10.330578804016113,-5.9336652755737305,-10.124611854553223,-11.198280334472656,-10.766266822814941,-11.215497016906738,-10.7581205368042,-10.884184837341309],\"z\":[8.007412910461426,8.285456657409668,7.924011707305908,8.242029190063477,7.688577651977539,7.525589942932129,8.426053047180176,7.435339450836182,8.184747695922852,7.781344413757324,7.46849250793457,7.5583415031433105,8.01972484588623,6.6402435302734375,8.219230651855469,7.730936050415039,7.765114784240723,7.3898773193359375,8.191397666931152,7.753759384155273,7.8796281814575195,8.362709999084473,8.042407989501953,7.584982395172119,7.787346839904785,6.804704666137695,7.749106407165527,8.180590629577637,7.69493293762207,7.856595039367676,8.411444664001465,7.427623271942139]},{\"hovertemplate\":\"Dominant_Topic=Topic 2<br>0=%{x}<br>1=%{y}<br>2=%{z}<extra></extra>\",\"legendgroup\":\"Topic 2\",\"marker\":{\"color\":\"#00cc96\",\"opacity\":0.7,\"symbol\":\"circle\"},\"mode\":\"markers\",\"name\":\"Topic 2\",\"scene\":\"scene\",\"showlegend\":true,\"type\":\"scatter3d\",\"x\":[7.928315162658691,4.121560573577881,8.032479286193848,6.59157133102417,4.993079662322998,4.011826038360596,6.529299259185791,5.16866397857666,8.236337661743164,3.5795955657958984,3.2608790397644043,6.697363376617432,5.6470627784729,3.8030312061309814,5.95000696182251,7.325895309448242,1.500532627105713,7.151534557342529,6.929725170135498,4.875698566436768,5.176009178161621,3.5343449115753174,6.101412773132324,5.988000392913818,8.014945983886719,4.664477825164795,6.013737201690674,5.649694442749023,5.914422035217285,5.866729259490967,4.071507930755615,2.9156112670898438,3.2090587615966797,3.698193311691284,3.505390167236328,7.126837730407715,4.598794460296631,7.575581073760986,5.183042526245117,3.3867099285125732,7.038719177246094,5.930222034454346,3.7006142139434814,3.7449309825897217,7.553010940551758,2.5137624740600586,1.1102274656295776,4.126681804656982,3.1443748474121094,4.879803657531738,5.998281002044678,1.6866222620010376,7.0077080726623535,6.013827800750732,3.952136278152466,7.293858051300049,6.78244161605835,7.818953990936279,6.042236328125,4.167651653289795,3.7663345336914062,4.0105438232421875,4.216397285461426,7.754249572753906,7.509909629821777,2.800601005554199,2.815577268600464,1.5042023658752441,2.153254985809326,2.328730821609497,4.481672763824463,3.9193837642669678,6.76126766204834,5.491963863372803,3.535351276397705,2.360884428024292,4.871836185455322,5.946285247802734,7.327822208404541,1.7810486555099487,5.324761867523193,7.177900314331055,6.421126842498779,1.257352352142334,2.8695192337036133,2.1405839920043945,3.820838212966919,5.465636253356934,4.449491500854492,4.114610195159912,6.553338527679443,7.819461345672607,5.869367599487305,5.600414276123047,6.749162197113037,1.32746422290802,3.247623920440674,4.888535499572754,5.178972244262695,5.474660396575928,7.452766418457031,6.823635101318359,7.71733283996582,2.702169179916382,8.290230751037598],\"y\":[-0.23177380859851837,-2.6874287128448486,-0.20144355297088623,-1.0992286205291748,-0.9447932839393616,-2.1324892044067383,-0.557677149772644,-1.0481750965118408,0.0381765216588974,-2.8795230388641357,-2.6584270000457764,-0.864013671875,-1.8486340045928955,-2.0810317993164062,-1.7433651685714722,-0.8235010504722595,-2.7840230464935303,-0.29546189308166504,-0.3085882365703583,-1.785147786140442,-1.2386549711227417,-1.7130478620529175,-1.1175049543380737,-1.7168958187103271,-0.053846463561058044,-1.7983324527740479,-1.108217716217041,-1.9060535430908203,-1.7753061056137085,-1.121954083442688,-1.3841379880905151,-2.019366979598999,-2.788051128387451,-2.338789701461792,-1.534074068069458,-0.5092636346817017,-2.479311466217041,-0.6540040373802185,-1.1930789947509766,-1.9553909301757812,-0.2771688997745514,-1.776989221572876,-1.4759173393249512,-2.438791513442993,-0.6606252193450928,-2.2416858673095703,-2.857968807220459,-1.2264211177825928,-1.853918433189392,-1.208304762840271,-1.7165884971618652,-2.7602641582489014,-0.8404839038848877,-1.0097025632858276,-1.2814462184906006,-0.20033422112464905,-1.2017568349838257,-0.4407346248626709,-1.6066431999206543,-1.8677879571914673,-2.909181833267212,-1.29033625125885,-2.2637486457824707,-0.07455906271934509,-0.6940464973449707,-2.778865337371826,-1.9782688617706299,-2.5747344493865967,-2.7340028285980225,-2.9016640186309814,-1.8784427642822266,-1.9328365325927734,-1.221008062362671,-1.9382675886154175,-2.0244405269622803,-2.0904111862182617,-0.9847767949104309,-0.6335822343826294,-0.19061553478240967,-2.773305654525757,-2.108285427093506,-0.9294983148574829,-0.7640953063964844,-2.849865674972534,-2.9432241916656494,-2.3190295696258545,-1.3212238550186157,-1.6700130701065063,-1.1247320175170898,-2.417651891708374,-1.2016494274139404,-0.06089681014418602,-0.8003540635108948,-1.6693081855773926,-0.6477258801460266,-2.6972005367279053,-2.6405467987060547,-1.5950781106948853,-2.1721761226654053,-2.0044312477111816,-0.15480151772499084,-0.9351575374603271,-0.5241906642913818,-2.107942819595337,0.0580819770693779],\"z\":[0.5555731058120728,-3.4474587440490723,0.5188327431678772,-0.9019249677658081,2.440971851348877,-1.1146262884140015,1.5061389207839966,1.6660480499267578,1.2204632759094238,-3.410102605819702,-2.1788322925567627,-0.08746613562107086,-2.4847092628479004,-0.575837254524231,-2.52677059173584,-0.9423791766166687,-0.2595375180244446,1.593430519104004,1.9016668796539307,-1.0130443572998047,0.8196890354156494,1.4783105850219727,-0.18717961013317108,-2.4764647483825684,1.187275767326355,-0.7336897850036621,-0.002798214554786682,-2.712116003036499,-2.598747491836548,0.18276174366474152,2.0539159774780273,1.1226328611373901,-2.60968017578125,-1.5043275356292725,2.3821401596069336,0.7027678489685059,-3.3488848209381104,-0.6429452300071716,1.0081853866577148,0.6398105025291443,1.8579323291778564,-2.628408908843994,2.293551206588745,-1.9823756217956543,-0.6350706219673157,0.7297350764274597,-0.09777882695198059,2.7116050720214844,1.5040630102157593,1.44777512550354,-2.491642475128174,-0.4050045609474182,-0.5006428956985474,0.4205780029296875,2.7810750007629395,1.7681174278259277,-1.6297179460525513,-0.14389826357364655,-2.1190640926361084,-0.2330889105796814,-3.752748489379883,2.6202292442321777,-1.971885085105896,1.53610360622406,-0.700090765953064,-2.032053232192993,1.4903056621551514,0.8043680191040039,-0.9459757804870605,-1.9139939546585083,-0.7810472249984741,-0.12071143090724945,-1.6750940084457397,-2.5986263751983643,0.0890025794506073,1.7998480796813965,2.4742202758789062,2.1723761558532715,1.7509291172027588,-0.5944048762321472,-3.010101079940796,-1.142952561378479,0.7952892184257507,-0.25346890091896057,-2.7576303482055664,0.9944086074829102,2.8382394313812256,-1.462997317314148,2.5916290283203125,-2.4359424114227295,-1.2618632316589355,1.4861396551132202,1.556663155555725,-1.6895548105239868,0.7422176003456116,0.44845080375671387,-2.09005069732666,-0.23593629896640778,-3.0422191619873047,-2.831906318664551,1.6939818859100342,-0.5996423363685608,-0.32951241731643677,1.0619343519210815,1.211566686630249]},{\"hovertemplate\":\"Dominant_Topic=Topic 3<br>0=%{x}<br>1=%{y}<br>2=%{z}<extra></extra>\",\"legendgroup\":\"Topic 3\",\"marker\":{\"color\":\"#ab63fa\",\"opacity\":0.7,\"symbol\":\"circle\"},\"mode\":\"markers\",\"name\":\"Topic 3\",\"scene\":\"scene\",\"showlegend\":true,\"type\":\"scatter3d\",\"x\":[-0.5195686221122742,1.0192837715148926,-10.88938045501709,-9.883193016052246,-7.485641002655029,-6.8908891677856445,-10.552614212036133,-0.8274524807929993,3.781895637512207,-7.152580738067627,4.382603168487549,3.44978404045105,-0.5750291347503662,4.393552303314209,0.7051697373390198,-10.664426803588867,4.735249996185303,-8.252350807189941,0.007429394405335188,2.0548923015594482,-5.133925914764404,-3.3327250480651855,-6.3860931396484375,-3.945276975631714,-4.0895795822143555,-3.0454862117767334,-5.203980445861816,-5.726846694946289,4.7686767578125,1.6889368295669556,2.77968168258667,-10.447179794311523,0.7675321698188782,-0.06220708042383194,2.4547231197357178,1.1224510669708252,4.678103923797607,-6.5125508308410645,1.009743332862854,-8.651128768920898,1.0312411785125732,-2.6933677196502686,-3.8258535861968994,2.5896852016448975,-2.646307945251465,1.0699505805969238,-7.526941776275635,1.7323795557022095,4.496382713317871,3.2125980854034424,-10.911035537719727,4.451969623565674,-8.157421112060547,3.411198377609253,0.4744396507740021,-4.35321569442749,4.755599021911621,1.005628228187561,4.674073696136475,-9.093840599060059,0.7294430732727051,-5.235372543334961,3.505357265472412,-7.681867599487305,-9.101032257080078,-4.098758220672607,4.810534954071045,-5.351803779602051,5.091197490692139,-5.479289531707764,-4.151472091674805,-0.9198042154312134,-4.283557415008545,-2.3063511848449707,-0.6503918170928955,0.11219702661037445,0.9968346953392029,0.8737900853157043,3.688861131668091,-2.1219022274017334,1.0493483543395996,1.048432469367981,-4.951413631439209,-0.09810464829206467,-0.043879032135009766,-7.494494438171387,1.050292730331421,0.7621231079101562,3.0498363971710205,-3.1627817153930664,1.1891154050827026,-5.568140029907227,-8.120614051818848,-3.1139962673187256,-5.673847675323486,-3.2822000980377197,4.402852535247803,-8.337769508361816,0.4376475214958191,-8.755192756652832,4.103344917297363,2.1208276748657227,-2.1562588214874268,-7.289956569671631,0.8118675947189331,4.76862907409668,-0.003534013172611594,-7.540318965911865,0.9223616719245911,1.6387338638305664,-4.070340633392334,3.7815935611724854,-5.651784420013428,-10.687599182128906,-6.72613000869751,0.8999964594841003,-10.411118507385254,1.0148320198059082,-3.800455093383789,0.8584361672401428,-10.516963005065918,-7.97787618637085,-7.952686309814453,-2.3273236751556396,4.210493564605713,-3.490053176879883,-10.247143745422363,-9.601395606994629,-8.925790786743164,-7.554452896118164,-1.3877748250961304,-1.8204256296157837,1.9233722686767578,2.1330418586730957,1.0368179082870483,2.182950496673584,0.5031223893165588,1.1053345203399658,0.856387197971344,4.8174285888671875,-4.135219097137451,0.9832984209060669,-4.098530292510986,-8.511703491210938,1.0799187421798706,3.2065939903259277,-10.894739151000977,-9.96737003326416,-7.446841239929199,2.3546786308288574,3.3782215118408203,-6.730127811431885,4.725335121154785,-10.043304443359375,-2.3214173316955566,-7.95242166519165,-8.534178733825684,-1.5107530355453491,-1.1588753461837769,-10.548019409179688,-0.01125085074454546,-7.389955043792725,-3.1555733680725098,-0.6789835095405579,-10.905173301696777,4.714334964752197,0.7502047419548035,-6.193255424499512,-7.854896068572998,-7.874189376831055,0.6634325981140137,3.9601736068725586,4.114253520965576,-7.318085670471191,-4.424363136291504,4.593009948730469,3.8798255920410156,-2.7502248287200928,-7.784808158874512,1.7591638565063477,0.16734258830547333,1.0369579792022705,-3.7461090087890625,-6.964779376983643,-4.745834827423096,4.349613189697266,-7.605802536010742,-7.639889240264893,4.408145904541016,-10.909363746643066,3.221949577331543,0.5532461404800415,-5.468664169311523,-9.938505172729492,1.116973876953125,-8.128314971923828,-3.9417519569396973,-7.602209568023682,-10.862351417541504,-10.753981590270996,-6.927746295928955,-7.294928550720215,1.0997215509414673,-5.373074054718018,3.5039069652557373,-4.468732833862305,0.762626051902771,1.5379844903945923,3.764625072479248,-3.9522225856781006,-1.6396286487579346,0.1463145911693573,-10.835295677185059,-10.555811882019043,3.6227970123291016,-2.057554006576538,4.360221862792969,-3.5006957054138184,-7.378060817718506,2.5012269020080566,3.675290107727051,0.14550454914569855,-10.354299545288086,0.3564011752605438,-6.481522083282471,1.4012902975082397,4.35302209854126,1.4515118598937988,-9.092113494873047,-10.576457023620605,1.9950391054153442,2.4797160625457764,-1.0590347051620483,-8.225873947143555,0.8178611993789673,-5.83389139175415,-4.374881744384766,-5.156806468963623,-0.17720463871955872,-3.7839205265045166,-9.187187194824219,1.0457731485366821,-7.414080619812012,3.403625249862671,4.5498046875,0.8108376264572144,-6.953815937042236,0.6324167847633362,-7.036288738250732,0.8883427977561951,0.7983068823814392,-9.612166404724121,-0.010356418788433075,-4.1771979331970215,-7.114936351776123,0.8699856996536255,2.7415213584899902,-7.941640377044678,1.9536434412002563,-4.422933578491211,1.9999010562896729,-3.956221103668213,0.005515968892723322,-10.821088790893555,-3.473187208175659,-2.6867775917053223,-3.7221479415893555,1.3399163484573364,-6.825682640075684,4.7195000648498535,-2.1311752796173096,4.144733905792236,-7.79341983795166,3.190563678741455,0.7152868509292603,-1.5977494716644287,1.1969671249389648,-10.739434242248535,-10.668941497802734,-6.764157295227051,-10.885146141052246,0.878304123878479,-1.3363977670669556,-8.587008476257324,1.350913643836975,-10.645745277404785,-4.066231727600098,3.3364202976226807,-1.3697091341018677,1.3724706172943115,0.10899815708398819,0.8961997628211975,-0.033915359526872635,3.358632802963257,0.9640505909919739,0.49276411533355713,-6.909809589385986,4.126026630401611,-3.488030433654785,4.803962230682373,2.4861979484558105,-2.3475329875946045,3.9828972816467285,0.025538211688399315,-10.783211708068848,-4.545144081115723,-2.6553609371185303,3.7918035984039307,0.40858688950538635,0.2371174842119217,4.806593418121338,4.80924129486084,-8.012994766235352,-10.737936973571777,-5.19605827331543,3.0112388134002686,3.4847707748413086,0.295005202293396,-0.8778411746025085,0.3706720173358917,-8.138142585754395,-9.867472648620605,-7.658653259277344,-10.55771541595459,-7.416233062744141,-1.356785535812378,-2.671085834503174,-9.977572441101074,2.0824952125549316,4.422541618347168,-7.311603546142578,-10.282084465026855,-0.08956334739923477,1.0518254041671753,-10.79845142364502,0.7294678688049316,1.0632392168045044,-7.126010417938232,-8.771489143371582,2.416555643081665,-9.833511352539062,0.07343178987503052,-4.435146808624268,2.4154722690582275,0.8199830651283264,1.029532790184021,-9.163827896118164,1.179860234260559,4.373998641967773,-6.1496968269348145,2.1519486904144287,1.7810935974121094,-8.237640380859375,3.954476833343506,3.932695150375366,-4.082504749298096,3.1144309043884277,0.6915684938430786,-5.567686080932617,-6.424376010894775,3.977673292160034,-9.376716613769531,-10.595857620239258,-6.335313320159912,-4.102931022644043,-0.637830376625061,-2.0740435123443604,-8.489775657653809,0.6853116154670715,0.22737707197666168,-2.687847137451172,-8.135208129882812,-3.9665892124176025,1.0860121250152588,-8.789058685302734,-10.20477294921875,4.225808143615723,-7.7688822746276855,-1.9779719114303589,0.6406385898590088,-6.922237396240234,0.8961747288703918,0.3946932554244995,-5.427660942077637,2.7214322090148926,-10.036796569824219,1.267384648323059,-7.7893829345703125,-6.944045066833496,-10.939047813415527,1.476422667503357,2.970637083053589,4.806242942810059,1.070858120918274,0.09201830625534058,-2.5535480976104736,-8.86041259765625,4.379931449890137,4.768185138702393,4.55710506439209,2.4772541522979736,3.498180627822876,-10.910623550415039,0.07045447081327438,-4.272561073303223,4.7017598152160645,1.102962613105774,-10.4220609664917,-2.1637580394744873,1.2103819847106934,2.328629493713379,2.7998383045196533,-7.227432727813721,-1.2764604091644287,-3.3177528381347656,-10.606706619262695,-8.231034278869629,1.0480420589447021,-6.365906238555908,0.08405064791440964,-7.929416656494141,-7.773843288421631,-0.5002669095993042,-6.462754249572754,0.4714983105659485,0.288845032453537,1.03290593624115,0.18243898451328278,-0.7889770865440369,2.915092945098877,0.49053671956062317,2.9736359119415283,-10.791189193725586,-10.07465934753418,4.60590934753418,0.6655225157737732,-10.638484001159668,-8.987777709960938,2.9249415397644043,-2.082294225692749,1.0485224723815918,0.6655070781707764,4.444657325744629,3.392310857772827,-4.986478805541992,1.50829017162323,-9.482847213745117,4.817171096801758,-10.840718269348145,1.411946177482605,0.9003409147262573,4.741835117340088,-7.954085350036621,1.2863402366638184,1.030197262763977,4.743886947631836,0.9839368462562561,-3.9787821769714355,1.3872742652893066,-3.6855499744415283,-0.6475095152854919,-7.638896942138672,0.45727214217185974,-9.32316780090332,-6.029895782470703,-8.098023414611816,1.6418557167053223,4.7832722663879395,-0.6380373239517212,0.9813856482505798,2.052561044692993,0.8409637808799744,-5.208155632019043,3.9136860370635986,1.015318512916565,4.378971099853516,-5.798926830291748,-3.668595552444458,0.2544499933719635,-8.723725318908691,-6.8708696365356445,4.407576560974121,-6.478543281555176,1.5235259532928467,1.4686444997787476,1.4317893981933594,-10.886775970458984,-4.925309181213379,-8.972319602966309,0.628355085849762,0.5012215375900269,-9.386985778808594,3.990117311477661,4.024416446685791,0.0806085616350174,4.760278224945068,-4.4287896156311035,3.7974934577941895,-2.7062859535217285,-0.11095038056373596,-4.088921070098877,2.032728672027588,-8.207616806030273,1.4736086130142212,-9.417607307434082,-10.621258735656738,4.817094326019287,-0.6369146704673767,0.7205528020858765,4.067670822143555,-4.745565891265869,0.33543121814727783,-4.030686855316162,-9.537314414978027,-7.097654342651367,3.9267091751098633,-1.8878004550933838,-4.611456871032715,3.214507818222046,2.105677843093872,3.3794007301330566,-2.2891042232513428,-3.9371490478515625,-7.779684066772461,-6.231031894683838,0.1464478075504303,0.16073790192604065,-2.0039281845092773,4.462904453277588,-1.128408432006836,0.6491582989692688,-9.897249221801758,-4.218299865722656,4.430208683013916,1.042136549949646,-10.589680671691895,3.4663028717041016,0.15848639607429504,-3.5071144104003906,-2.6899752616882324,-2.6987802982330322,-8.01455307006836,4.082378387451172,-9.363021850585938,-4.74511194229126,0.8883422017097473,-0.8546788096427917,1.1079707145690918,-6.236572742462158,-4.360377788543701],\"y\":[10.184577941894531,-1.5622292757034302,-0.7776771783828735,-2.9383726119995117,6.556535243988037,6.993020057678223,2.064971685409546,-3.2417609691619873,13.391011238098145,5.116549015045166,14.085686683654785,13.142744064331055,-3.1886398792266846,14.086090087890625,8.716275215148926,1.616551160812378,14.193411827087402,-4.651966094970703,10.499342918395996,11.449956893920898,-4.813963890075684,3.7676799297332764,-5.520511627197266,-4.126237392425537,-4.322978496551514,-3.8034427165985107,-4.846324920654297,7.496723651885986,14.23145580291748,10.838950157165527,12.502909660339355,2.2156317234039307,-0.3216395080089569,10.65677261352539,12.274394035339355,11.323114395141602,14.309734344482422,-5.556939601898193,-0.8605639338493347,4.206247329711914,-1.5390905141830444,4.6774396896362305,-4.27163553237915,12.36829662322998,-3.8011085987091064,11.286646842956543,6.874189853668213,10.90684700012207,13.81176471710205,13.19571304321289,-0.01135994866490364,13.907498359680176,5.5989603996276855,12.987419128417969,8.166326522827148,-4.468240737915039,14.321574211120605,-2.0202481746673584,14.122965812683105,-3.769394874572754,-2.1747512817382812,-4.862879753112793,13.382134437561035,-5.184131622314453,-3.7975637912750244,-4.332697868347168,14.331324577331543,-4.6491312980651855,15.001509666442871,-3.8775386810302734,-3.723785638809204,9.934348106384277,-3.5806264877319336,6.537553787231445,6.878978252410889,1.3217850923538208,9.421209335327148,9.134546279907227,13.59097957611084,-5.329040050506592,-1.5037089586257935,11.272195816040039,5.826211929321289,10.432401657104492,7.3525872230529785,-5.354666233062744,-2.0014116764068604,-0.30124184489250183,12.706389427185059,8.694993019104004,9.851099967956543,7.561717510223389,6.199548244476318,8.723185539245605,-5.135777950286865,3.83868145942688,14.087129592895508,-4.584158897399902,0.24328495562076569,-4.138481140136719,13.869519233703613,11.556443214416504,-5.265025615692139,4.8503642082214355,-0.3678482472896576,14.324251174926758,1.7374577522277832,5.119189739227295,-2.418297290802002,-2.2612600326538086,8.115259170532227,13.724590301513672,7.526645183563232,2.9794702529907227,-5.626838684082031,-1.9586418867111206,-2.0750458240509033,-1.998400330543518,8.469091415405273,9.098615646362305,1.9492095708847046,-4.924983501434326,4.799079895019531,9.14405345916748,13.50178050994873,8.52685546875,-2.3983514308929443,-3.2746615409851074,-3.9424946308135986,5.21042013168335,9.664963722229004,6.60749626159668,-1.8945811986923218,11.575020790100098,-2.006337881088257,11.65345287322998,8.24008560180664,-1.1654342412948608,-1.879831075668335,14.322683334350586,8.084647178649902,-1.996842861175537,-3.7479147911071777,4.321020126342773,-1.0923056602478027,13.135824203491211,-0.822503387928009,-2.809959650039673,5.02996301651001,11.90177059173584,12.969240188598633,7.0991363525390625,14.180328369140625,-2.706040143966675,9.147040367126465,-3.1031317710876465,-4.38738489151001,-3.4237399101257324,-3.3072855472564697,2.7178103923797607,1.7709380388259888,-5.429919242858887,4.0169358253479,6.865524768829346,-0.5192453265190125,14.305147171020508,-0.21607156097888947,5.433538436889648,6.375287055969238,6.5192036628723145,11.042200088500977,13.580015182495117,13.876199722290039,6.928579330444336,8.009658813476562,14.218734741210938,13.606122016906738,6.457239627838135,6.694096088409424,10.956425666809082,1.2230349779129028,-2.0023224353790283,8.190512657165527,6.96858549118042,5.842443943023682,14.08272647857666,-1.998758316040039,5.14479923248291,13.928909301757812,0.04595973342657089,12.972183227539062,0.06754530221223831,5.604841709136963,-2.86606502532959,-1.3425171375274658,5.533345699310303,-4.077276229858398,-5.252133369445801,0.35162028670310974,-1.2376915216445923,6.956271648406982,-5.475519180297852,-1.292580246925354,-3.957606554031372,13.468954086303711,8.133055686950684,-2.601619005203247,-1.9740145206451416,13.686539649963379,-3.9354143142700195,6.635282039642334,1.2552436590194702,0.724548876285553,1.8793200254440308,13.482586860656738,-5.593299865722656,13.711040496826172,3.528877019882202,4.881490707397461,12.303295135498047,13.207165718078613,1.1947441101074219,2.394838571548462,7.913493633270264,-5.576752662658691,10.29245376586914,13.686152458190918,10.392862319946289,3.855809450149536,2.017563819885254,11.357033729553223,12.058749198913574,9.85429859161377,5.983630657196045,-2.2007741928100586,7.449057102203369,6.005996227264404,7.735718727111816,7.22261381149292,-3.824368953704834,3.7886853218078613,-2.0038111209869385,5.001300811767578,12.982623100280762,14.256144523620605,-2.5303421020507812,5.20619535446167,10.977304458618164,-5.570923805236816,9.17000961303711,-2.301689863204956,3.354591131210327,7.387817859649658,-3.6890783309936523,-3.3892486095428467,-0.4943239390850067,12.486526489257812,4.715538501739502,11.287939071655273,8.038472175598145,11.94435977935791,-4.174010753631592,1.7051308155059814,-0.7237898111343384,3.569241762161255,8.95394515991211,3.1849868297576904,10.174100875854492,7.015652179718018,14.173559188842773,-5.252438068389893,13.906641006469727,6.689784526824951,12.822293281555176,11.063496589660645,9.54527759552002,-2.5594677925109863,-1.3913847208023071,1.673515796661377,-5.615379333496094,0.19964556396007538,-1.935693621635437,9.694782257080078,-4.307263374328613,10.193537712097168,1.7640711069107056,-3.815735101699829,13.049195289611816,6.682939052581787,10.237950325012207,10.458536148071289,9.186145782470703,1.8540024757385254,12.960082054138184,11.210363388061523,8.185514450073242,5.2180495262146,13.733697891235352,8.529806137084961,14.335864067077637,12.068678855895996,6.531275749206543,13.47661304473877,7.426360130310059,-1.174581527709961,5.909549236297607,4.732116222381592,13.3514986038208,10.66615104675293,0.896689236164093,14.334837913513184,14.292006492614746,-3.1795427799224854,1.3242436647415161,-4.842870712280273,12.716348648071289,13.431012153625488,7.803916931152344,6.793924331665039,10.854771614074707,-2.819709539413452,3.063430070877075,6.58037805557251,-1.778227686882019,4.701406002044678,6.684957504272461,-3.8029656410217285,2.9105706214904785,11.496162414550781,13.913636207580566,-5.4711689949035645,-2.328296422958374,10.607686996459961,-2.048166275024414,0.3299722671508789,-1.948332667350769,11.28178596496582,-5.5541253089904785,4.119192600250244,11.978551864624023,0.3315739631652832,10.676980972290039,-3.4138872623443604,-1.7816870212554932,-0.3714766800403595,-1.542231798171997,3.812084436416626,9.830164909362793,14.074527740478516,-5.441642761230469,12.055824279785156,-2.1762044429779053,-4.687387943267822,13.742472648620605,13.455740928649902,8.462735176086426,12.838752746582031,-0.16631032526493073,-5.0638837814331055,-5.561675071716309,13.468316078186035,-1.0139968395233154,-1.6275752782821655,-3.6562674045562744,-4.336014747619629,6.884790420532227,-5.375570297241211,4.346409320831299,8.66604995727539,0.9209408164024353,6.471042156219482,6.184093952178955,-3.9948012828826904,-1.4415465593338013,-4.126216411590576,2.6192831993103027,13.870284080505371,-1.967570185661316,-5.655040740966797,-0.23772881925106049,5.2231035232543945,9.18593978881836,-2.141456127166748,-4.969231605529785,12.46716022491455,2.833604097366333,-1.5415799617767334,4.748875141143799,-5.591816425323486,-0.6969966888427734,11.574103355407715,12.64851188659668,14.290209770202637,-1.4567196369171143,1.4009044170379639,6.497440338134766,4.329721927642822,14.085444450378418,14.231256484985352,13.997875213623047,12.055214881896973,12.976619720458984,-0.1077006459236145,1.4870107173919678,-3.5949010848999023,14.154097557067871,-2.0190470218658447,2.3139424324035645,-5.253136157989502,-2.4617724418640137,11.862262725830078,12.45921802520752,6.881416320800781,9.728569030761719,6.328661918640137,1.8987723588943481,5.913064479827881,-0.9827501177787781,-5.535492420196533,10.408358573913574,4.7815375328063965,-5.136475086212158,10.201924324035645,7.18448543548584,8.157621383666992,7.791991710662842,-2.509998321533203,7.627328872680664,6.8234076499938965,12.602961540222168,8.20531940460205,12.671279907226562,0.742672860622406,-2.6760733127593994,14.225708961486816,8.611754417419434,1.7084527015686035,3.9614458084106445,12.621204376220703,9.273527145385742,-1.5088064670562744,8.611688613891602,13.843303680419922,13.052178382873535,7.80494499206543,-1.9816566705703735,-3.3943710327148438,14.3243408203125,-1.062872290611267,-1.9953856468200684,-1.9582626819610596,14.312418937683105,6.420053958892822,10.064043045043945,-2.565969944000244,14.204188346862793,-0.7956341505050659,-3.98136305809021,10.266212463378906,8.441474914550781,6.880797863006592,-3.5920369625091553,0.4881809651851654,-3.5740435123443604,7.36780309677124,4.611996650695801,10.758626937866211,14.250385284423828,6.884685039520264,-1.6313594579696655,11.97917652130127,9.056679725646973,7.706202030181885,13.665447235107422,-0.8829702734947205,14.088850021362305,7.464616775512695,8.452117919921875,0.6457088589668274,-4.202526092529297,6.991744518280029,14.087442398071289,7.177860736846924,11.603870391845703,10.428604125976562,10.40783977508545,-0.8398175239562988,7.831481456756592,-3.9266068935394287,10.93033504486084,8.23576545715332,3.5887868404388428,13.479668617248535,13.507179260253906,-0.1905471533536911,14.321971893310547,8.10318660736084,13.747476577758789,-3.7246053218841553,10.450749397277832,-3.7576661109924316,11.416488647460938,6.02256965637207,10.441869735717773,-3.4727442264556885,-1.590301275253296,14.322501182556152,6.884927272796631,-0.14005470275878906,13.609817504882812,5.842523574829102,-2.9230260848999023,-3.8769803047180176,3.4334068298339844,-5.5528082847595215,13.408881187438965,-5.7432942390441895,5.923923492431641,13.094615936279297,11.53174114227295,12.971720695495605,9.164995193481445,-4.099161148071289,-5.123227596282959,5.421638488769531,-2.7357680797576904,7.59688663482666,-3.6221349239349365,13.903552055358887,9.814962387084961,8.580191612243652,-2.9041574001312256,-4.401253700256348,13.72132396697998,-0.9623028039932251,-1.722129464149475,12.973234176635742,1.2290148735046387,8.510149002075195,8.952235221862793,-3.369858980178833,-4.90277624130249,13.856999397277832,3.6192944049835205,5.842658996582031,9.170995712280273,6.8018364906311035,-1.234702467918396,-5.485409259796143,8.188835144042969],\"z\":[-8.068686485290527,9.083749771118164,10.907698631286621,9.808501243591309,-9.078661918640137,-9.112478256225586,12.199100494384766,0.32333025336265564,4.857853412628174,13.289347648620605,2.21848464012146,5.656661033630371,0.30089905858039856,2.1400835514068604,11.469724655151367,11.896246910095215,-2.00470232963562,8.60661506652832,-7.679198265075684,8.409454345703125,5.424142360687256,11.553563117980957,6.688560485839844,3.3889434337615967,4.043052673339844,2.8089537620544434,5.506402492523193,-9.028453826904297,-1.7813606262207031,9.163540840148926,-5.980269432067871,12.191658020019531,11.821720123291016,-7.7277302742004395,-6.269153118133545,-7.241105079650879,0.9011984467506409,6.8140363693237305,11.030769348144531,13.008030891418457,9.197227478027344,11.669962882995605,4.082843780517578,-6.151744842529297,3.239485025405884,-7.276642322540283,-9.25537395477295,9.073491096496582,-3.3742058277130127,5.539026737213135,11.23629093170166,-3.2447338104248047,-10.252593040466309,-5.2691755294799805,12.092951774597168,4.473132133483887,0.12352988123893738,5.835791110992432,-2.3917648792266846,9.276008605957031,5.527270317077637,5.540397644042969,4.655519962310791,8.032768249511719,9.26890754699707,4.07767915725708,-0.6202860474586487,5.9739227294921875,1.921470284461975,6.895868301391602,1.9508962631225586,-8.21435832977295,1.4247395992279053,13.897361755371094,13.911367416381836,13.06285572052002,10.721724510192871,11.024388313293457,4.1447224617004395,7.736600399017334,9.370034217834473,-7.290774822235107,13.521800994873047,-7.942052841186523,13.209197998046875,7.821638107299805,5.799092769622803,11.842021942138672,-5.714024543762207,-8.735712051391602,10.262935638427734,-9.0211763381958,-9.478387832641602,-8.72509479522705,5.9702348709106445,11.569079399108887,2.0602009296417236,8.680342674255371,12.478360176086426,9.038176536560059,3.3240201473236084,8.273106575012207,7.879086971282959,13.437125205993652,11.72908878326416,-0.018475105985999107,13.249601364135742,13.478697776794434,3.222297191619873,2.3773162364959717,-9.029215812683105,4.173160076141357,-9.028249740600586,11.06580638885498,7.007424354553223,6.544861793518066,10.279123306274414,5.929571628570557,-8.977455139160156,11.060832977294922,11.971796989440918,8.337427139282227,13.307225227355957,-8.566597938537598,-4.023720741271973,-8.777362823486328,10.113544464111328,9.6029052734375,9.163683891296387,13.295524597167969,-8.343676567077637,13.997385025024414,4.0530571937561035,8.24844741821289,5.808079719543457,8.14465045928955,12.010331153869629,10.551658630371094,7.248597621917725,-0.8848085403442383,-8.732966423034668,6.031512260437012,2.0513548851013184,13.059927940368652,10.606767654418945,5.561903476715088,10.88576889038086,9.883858680725098,13.039194107055664,7.793729305267334,-5.308795928955078,-9.05778694152832,-2.0752739906311035,9.943377494812012,-8.566181182861328,8.85671615600586,8.851458549499512,3.005821943283081,0.07539123296737671,11.617654800415039,13.26439380645752,7.7094221115112305,11.599245071411133,13.92527961730957,11.020360946655273,0.4762536287307739,11.909676551818848,13.419086456298828,-9.216743469238281,-9.222482681274414,-7.480212211608887,4.179734706878662,3.280552387237549,-9.057068824768066,-8.920023918151855,1.1099810600280762,3.993171453475952,13.799715995788574,-9.332963943481445,9.01896858215332,12.982945442199707,5.839982032775879,-8.791597366333008,-9.121580123901367,13.509737014770508,2.5019829273223877,10.21290111541748,13.15351390838623,-3.401224374771118,11.259614944458008,5.881612777709961,12.268220901489258,13.451051712036133,9.852779388427734,10.130216598510742,-10.355937957763672,3.2136831283569336,7.948525428771973,11.386747360229492,10.700671195983887,-9.1212797164917,7.6137895584106445,10.139457702636719,6.713819980621338,4.604344844818115,-8.940388679504395,2.3036069869995117,4.585513114929199,4.555999755859375,2.728807210922241,14.019946098327637,13.011975288391113,11.546304702758789,11.966723442077637,5.061257839202881,6.21833610534668,-4.176130771636963,11.486597061157227,13.065133094787598,-6.228117942810059,-4.88746452331543,13.002774238586426,12.260908126831055,12.41507625579834,6.750778675079346,9.78386116027832,-3.9509551525115967,9.666582107543945,12.872174263000488,12.149151802062988,8.52949047088623,7.526454448699951,-8.253451347351074,-9.703849792480469,5.086861610412598,-9.037476539611816,13.573620796203613,-8.987037658691406,13.404422760009766,2.4624667167663574,12.844675064086914,5.805454254150391,13.534696578979492,-5.277609825134277,1.8342180252075195,2.7396275997161865,13.354195594787598,-7.468496799468994,7.343230724334717,10.988222122192383,4.417927265167236,12.66294002532959,13.15639877319336,1.8289051055908203,8.33706283569336,11.573380470275879,-6.014686107635498,13.173883438110352,8.615924835205078,-8.953018188476562,-6.624967098236084,3.5579373836517334,13.235191345214844,10.924884796142578,11.499531745910645,-8.640030860900879,11.360536575317383,9.913580894470215,-9.105178833007812,-2.112659215927124,7.83978796005249,3.154235601425171,-9.33176326751709,-5.543088436126709,-7.465554714202881,-8.398974418640137,1.4989863634109497,10.628461837768555,11.942458152770996,7.055456161499023,11.321094512939453,6.77595853805542,-8.32981014251709,8.909259796142578,9.890912055969238,12.002894401550293,2.2885806560516357,5.716049671173096,14.033629417419434,9.842753410339355,-7.926460266113281,10.970508575439453,13.30031967163086,-5.335028648376465,-7.344010829925537,12.06637191772461,13.36066722869873,-4.028355598449707,-8.777756690979004,-0.4427556097507477,7.512264251708984,13.888100624084473,-4.358437538146973,13.100171089172363,10.730559349060059,13.528693199157715,11.67920970916748,4.376004219055176,-7.747631072998047,12.849312782287598,-0.5066373348236084,-1.3820269107818604,9.836623191833496,11.792671203613281,5.497101783752441,6.37246561050415,5.406540393829346,12.56770133972168,13.998872756958008,-7.758885860443115,10.030622482299805,12.522543907165527,-9.104656219482422,10.43031120300293,13.277183532714844,14.03370475769043,3.2160873413085938,12.480531692504883,8.350308418273926,-3.255995988845825,7.627870082855225,10.15011978149414,-7.884452819824219,5.557920932769775,11.369775772094727,7.13554573059082,-7.281793117523193,7.42903995513916,12.98063850402832,7.654904365539551,11.286986351013184,-7.947419166564941,0.8033117055892944,3.4758644104003906,11.718057632446289,9.181083679199219,12.85465145111084,10.285053253173828,2.2383315563201904,6.413116931915283,-6.510059833526611,2.5677080154418945,8.584014892578125,3.9149112701416016,4.452853202819824,-8.810517311096191,6.136258602142334,11.997184753417969,5.876817226409912,6.697182655334473,-4.3718461990356445,10.715632438659668,10.508444786071777,7.7002458572387695,4.088797569274902,13.9043607711792,7.4967522621154785,13.07278823852539,11.524901390075684,12.865852355957031,13.812479972839355,-9.483282089233398,2.911825180053711,9.697561264038086,9.054688453674316,12.340441703796387,-3.508420467376709,10.259775161743164,6.69059419631958,12.055733680725098,13.357001304626465,10.970568656921387,6.6807074546813965,5.742702960968018,-6.03452730178833,12.447583198547363,10.499804496765137,13.433099746704102,7.243243217468262,10.948394775390625,-6.999685287475586,-5.789956092834473,-1.4266027212142944,9.584089279174805,13.095725059509277,13.842203140258789,13.135841369628906,2.263974666595459,-1.7839428186416626,-2.9478695392608643,7.530426502227783,5.405001163482666,11.191917419433594,13.131233215332031,1.4782661199569702,-2.227315664291382,5.525813102722168,12.185639381408691,7.9069294929504395,2.1252214908599854,7.843120098114014,6.832891941070557,-9.012430191040039,-8.31350040435791,13.720625877380371,12.066790580749512,-9.801701545715332,10.852907180786133,6.636047840118408,-7.779621124267578,13.121932983398438,8.114025115966797,-8.061012268066406,-9.08487319946289,12.103229522705078,12.583046913146973,2.2485969066619873,12.810534477233887,13.97702693939209,6.579197883605957,12.052310943603516,6.456549644470215,11.545244216918945,9.961800575256348,1.0136715173721313,11.585823059082031,11.9322509765625,12.919709205627441,-5.8367109298706055,-8.514472961425781,9.350751876831055,11.585895538330078,-3.2610490322113037,5.68328857421875,-8.970768928527832,4.621437072753906,9.524724006652832,-0.8270747065544128,10.774079322814941,4.793781757354736,6.546375751495361,0.2191000133752823,-9.294663429260254,10.027334213256836,1.8339210748672485,-1.9438875913619995,11.150054931640625,2.8621585369110107,9.812009811401367,-8.968518257141113,13.909845352172852,8.568949699401855,12.479796409606934,9.414342880249023,-9.047680854797363,13.14806079864502,9.259196281433105,-1.6748547554016113,13.904498100280762,8.702896118164062,-6.586610794067383,11.110383033752441,-8.990793228149414,3.912418842315674,11.011590957641602,2.2893195152282715,-9.034008026123047,-8.674875259399414,12.794301986694336,9.002073287963867,-9.099930763244629,2.013144016265869,-9.083561897277832,-6.966668605804443,9.629420280456543,9.685040473937988,10.878397941589355,-8.966436386108398,9.184839248657227,-7.59497594833374,12.015830993652344,12.766009330749512,-4.35748815536499,-4.253376007080078,12.969339370727539,0.05933282524347305,-8.986085891723633,4.3238444328308105,2.654655933380127,-7.961298942565918,2.0967161655426025,8.453723907470703,-9.652583122253418,9.615266799926758,9.477742195129395,10.52803897857666,-0.8625986576080322,13.903748512268066,11.968948364257812,-4.139131546020508,13.509754180908203,0.6530559062957764,2.5075459480285645,12.700323104858398,7.408060550689697,-4.480201721191406,7.004763126373291,13.543417930603027,5.344222068786621,8.304685592651367,-5.308250904083252,-8.559050559997559,3.307004690170288,8.120537757873535,13.41581916809082,3.2551021575927734,12.855899810791016,3.396679401397705,-3.3831920623779297,-8.272011756896973,11.61296558380127,9.829270362854004,4.279216766357422,-3.37723445892334,10.86900520324707,10.46231460571289,5.329859256744385,12.992035865783691,-8.77230167388916,-8.639077186584473,-0.33122023940086365,8.369010925292969,3.4030866622924805,12.776137351989746,13.509784698486328,10.98730182647705,13.991263389587402,10.327747344970703,6.4981207847595215,-8.773123741149902]}],                        {\"height\":800,\"legend\":{\"title\":{\"text\":\"Dominant_Topic\"},\"tracegroupgap\":0},\"scene\":{\"domain\":{\"x\":[0.0,1.0],\"y\":[0.0,1.0]},\"xaxis\":{\"title\":{\"text\":\"0\"}},\"yaxis\":{\"title\":{\"text\":\"1\"}},\"zaxis\":{\"title\":{\"text\":\"2\"}}},\"template\":{\"data\":{\"bar\":[{\"error_x\":{\"color\":\"#2a3f5f\"},\"error_y\":{\"color\":\"#2a3f5f\"},\"marker\":{\"line\":{\"color\":\"#E5ECF6\",\"width\":0.5},\"pattern\":{\"fillmode\":\"overlay\",\"size\":10,\"solidity\":0.2}},\"type\":\"bar\"}],\"barpolar\":[{\"marker\":{\"line\":{\"color\":\"#E5ECF6\",\"width\":0.5},\"pattern\":{\"fillmode\":\"overlay\",\"size\":10,\"solidity\":0.2}},\"type\":\"barpolar\"}],\"carpet\":[{\"aaxis\":{\"endlinecolor\":\"#2a3f5f\",\"gridcolor\":\"white\",\"linecolor\":\"white\",\"minorgridcolor\":\"white\",\"startlinecolor\":\"#2a3f5f\"},\"baxis\":{\"endlinecolor\":\"#2a3f5f\",\"gridcolor\":\"white\",\"linecolor\":\"white\",\"minorgridcolor\":\"white\",\"startlinecolor\":\"#2a3f5f\"},\"type\":\"carpet\"}],\"choropleth\":[{\"colorbar\":{\"outlinewidth\":0,\"ticks\":\"\"},\"type\":\"choropleth\"}],\"contour\":[{\"colorbar\":{\"outlinewidth\":0,\"ticks\":\"\"},\"colorscale\":[[0.0,\"#0d0887\"],[0.1111111111111111,\"#46039f\"],[0.2222222222222222,\"#7201a8\"],[0.3333333333333333,\"#9c179e\"],[0.4444444444444444,\"#bd3786\"],[0.5555555555555556,\"#d8576b\"],[0.6666666666666666,\"#ed7953\"],[0.7777777777777778,\"#fb9f3a\"],[0.8888888888888888,\"#fdca26\"],[1.0,\"#f0f921\"]],\"type\":\"contour\"}],\"contourcarpet\":[{\"colorbar\":{\"outlinewidth\":0,\"ticks\":\"\"},\"type\":\"contourcarpet\"}],\"heatmap\":[{\"colorbar\":{\"outlinewidth\":0,\"ticks\":\"\"},\"colorscale\":[[0.0,\"#0d0887\"],[0.1111111111111111,\"#46039f\"],[0.2222222222222222,\"#7201a8\"],[0.3333333333333333,\"#9c179e\"],[0.4444444444444444,\"#bd3786\"],[0.5555555555555556,\"#d8576b\"],[0.6666666666666666,\"#ed7953\"],[0.7777777777777778,\"#fb9f3a\"],[0.8888888888888888,\"#fdca26\"],[1.0,\"#f0f921\"]],\"type\":\"heatmap\"}],\"heatmapgl\":[{\"colorbar\":{\"outlinewidth\":0,\"ticks\":\"\"},\"colorscale\":[[0.0,\"#0d0887\"],[0.1111111111111111,\"#46039f\"],[0.2222222222222222,\"#7201a8\"],[0.3333333333333333,\"#9c179e\"],[0.4444444444444444,\"#bd3786\"],[0.5555555555555556,\"#d8576b\"],[0.6666666666666666,\"#ed7953\"],[0.7777777777777778,\"#fb9f3a\"],[0.8888888888888888,\"#fdca26\"],[1.0,\"#f0f921\"]],\"type\":\"heatmapgl\"}],\"histogram\":[{\"marker\":{\"pattern\":{\"fillmode\":\"overlay\",\"size\":10,\"solidity\":0.2}},\"type\":\"histogram\"}],\"histogram2d\":[{\"colorbar\":{\"outlinewidth\":0,\"ticks\":\"\"},\"colorscale\":[[0.0,\"#0d0887\"],[0.1111111111111111,\"#46039f\"],[0.2222222222222222,\"#7201a8\"],[0.3333333333333333,\"#9c179e\"],[0.4444444444444444,\"#bd3786\"],[0.5555555555555556,\"#d8576b\"],[0.6666666666666666,\"#ed7953\"],[0.7777777777777778,\"#fb9f3a\"],[0.8888888888888888,\"#fdca26\"],[1.0,\"#f0f921\"]],\"type\":\"histogram2d\"}],\"histogram2dcontour\":[{\"colorbar\":{\"outlinewidth\":0,\"ticks\":\"\"},\"colorscale\":[[0.0,\"#0d0887\"],[0.1111111111111111,\"#46039f\"],[0.2222222222222222,\"#7201a8\"],[0.3333333333333333,\"#9c179e\"],[0.4444444444444444,\"#bd3786\"],[0.5555555555555556,\"#d8576b\"],[0.6666666666666666,\"#ed7953\"],[0.7777777777777778,\"#fb9f3a\"],[0.8888888888888888,\"#fdca26\"],[1.0,\"#f0f921\"]],\"type\":\"histogram2dcontour\"}],\"mesh3d\":[{\"colorbar\":{\"outlinewidth\":0,\"ticks\":\"\"},\"type\":\"mesh3d\"}],\"parcoords\":[{\"line\":{\"colorbar\":{\"outlinewidth\":0,\"ticks\":\"\"}},\"type\":\"parcoords\"}],\"pie\":[{\"automargin\":true,\"type\":\"pie\"}],\"scatter\":[{\"marker\":{\"colorbar\":{\"outlinewidth\":0,\"ticks\":\"\"}},\"type\":\"scatter\"}],\"scatter3d\":[{\"line\":{\"colorbar\":{\"outlinewidth\":0,\"ticks\":\"\"}},\"marker\":{\"colorbar\":{\"outlinewidth\":0,\"ticks\":\"\"}},\"type\":\"scatter3d\"}],\"scattercarpet\":[{\"marker\":{\"colorbar\":{\"outlinewidth\":0,\"ticks\":\"\"}},\"type\":\"scattercarpet\"}],\"scattergeo\":[{\"marker\":{\"colorbar\":{\"outlinewidth\":0,\"ticks\":\"\"}},\"type\":\"scattergeo\"}],\"scattergl\":[{\"marker\":{\"colorbar\":{\"outlinewidth\":0,\"ticks\":\"\"}},\"type\":\"scattergl\"}],\"scattermapbox\":[{\"marker\":{\"colorbar\":{\"outlinewidth\":0,\"ticks\":\"\"}},\"type\":\"scattermapbox\"}],\"scatterpolar\":[{\"marker\":{\"colorbar\":{\"outlinewidth\":0,\"ticks\":\"\"}},\"type\":\"scatterpolar\"}],\"scatterpolargl\":[{\"marker\":{\"colorbar\":{\"outlinewidth\":0,\"ticks\":\"\"}},\"type\":\"scatterpolargl\"}],\"scatterternary\":[{\"marker\":{\"colorbar\":{\"outlinewidth\":0,\"ticks\":\"\"}},\"type\":\"scatterternary\"}],\"surface\":[{\"colorbar\":{\"outlinewidth\":0,\"ticks\":\"\"},\"colorscale\":[[0.0,\"#0d0887\"],[0.1111111111111111,\"#46039f\"],[0.2222222222222222,\"#7201a8\"],[0.3333333333333333,\"#9c179e\"],[0.4444444444444444,\"#bd3786\"],[0.5555555555555556,\"#d8576b\"],[0.6666666666666666,\"#ed7953\"],[0.7777777777777778,\"#fb9f3a\"],[0.8888888888888888,\"#fdca26\"],[1.0,\"#f0f921\"]],\"type\":\"surface\"}],\"table\":[{\"cells\":{\"fill\":{\"color\":\"#EBF0F8\"},\"line\":{\"color\":\"white\"}},\"header\":{\"fill\":{\"color\":\"#C8D4E3\"},\"line\":{\"color\":\"white\"}},\"type\":\"table\"}]},\"layout\":{\"annotationdefaults\":{\"arrowcolor\":\"#2a3f5f\",\"arrowhead\":0,\"arrowwidth\":1},\"autotypenumbers\":\"strict\",\"coloraxis\":{\"colorbar\":{\"outlinewidth\":0,\"ticks\":\"\"}},\"colorscale\":{\"diverging\":[[0,\"#8e0152\"],[0.1,\"#c51b7d\"],[0.2,\"#de77ae\"],[0.3,\"#f1b6da\"],[0.4,\"#fde0ef\"],[0.5,\"#f7f7f7\"],[0.6,\"#e6f5d0\"],[0.7,\"#b8e186\"],[0.8,\"#7fbc41\"],[0.9,\"#4d9221\"],[1,\"#276419\"]],\"sequential\":[[0.0,\"#0d0887\"],[0.1111111111111111,\"#46039f\"],[0.2222222222222222,\"#7201a8\"],[0.3333333333333333,\"#9c179e\"],[0.4444444444444444,\"#bd3786\"],[0.5555555555555556,\"#d8576b\"],[0.6666666666666666,\"#ed7953\"],[0.7777777777777778,\"#fb9f3a\"],[0.8888888888888888,\"#fdca26\"],[1.0,\"#f0f921\"]],\"sequentialminus\":[[0.0,\"#0d0887\"],[0.1111111111111111,\"#46039f\"],[0.2222222222222222,\"#7201a8\"],[0.3333333333333333,\"#9c179e\"],[0.4444444444444444,\"#bd3786\"],[0.5555555555555556,\"#d8576b\"],[0.6666666666666666,\"#ed7953\"],[0.7777777777777778,\"#fb9f3a\"],[0.8888888888888888,\"#fdca26\"],[1.0,\"#f0f921\"]]},\"colorway\":[\"#636efa\",\"#EF553B\",\"#00cc96\",\"#ab63fa\",\"#FFA15A\",\"#19d3f3\",\"#FF6692\",\"#B6E880\",\"#FF97FF\",\"#FECB52\"],\"font\":{\"color\":\"#2a3f5f\"},\"geo\":{\"bgcolor\":\"white\",\"lakecolor\":\"white\",\"landcolor\":\"#E5ECF6\",\"showlakes\":true,\"showland\":true,\"subunitcolor\":\"white\"},\"hoverlabel\":{\"align\":\"left\"},\"hovermode\":\"closest\",\"mapbox\":{\"style\":\"light\"},\"paper_bgcolor\":\"white\",\"plot_bgcolor\":\"#E5ECF6\",\"polar\":{\"angularaxis\":{\"gridcolor\":\"white\",\"linecolor\":\"white\",\"ticks\":\"\"},\"bgcolor\":\"#E5ECF6\",\"radialaxis\":{\"gridcolor\":\"white\",\"linecolor\":\"white\",\"ticks\":\"\"}},\"scene\":{\"xaxis\":{\"backgroundcolor\":\"#E5ECF6\",\"gridcolor\":\"white\",\"gridwidth\":2,\"linecolor\":\"white\",\"showbackground\":true,\"ticks\":\"\",\"zerolinecolor\":\"white\"},\"yaxis\":{\"backgroundcolor\":\"#E5ECF6\",\"gridcolor\":\"white\",\"gridwidth\":2,\"linecolor\":\"white\",\"showbackground\":true,\"ticks\":\"\",\"zerolinecolor\":\"white\"},\"zaxis\":{\"backgroundcolor\":\"#E5ECF6\",\"gridcolor\":\"white\",\"gridwidth\":2,\"linecolor\":\"white\",\"showbackground\":true,\"ticks\":\"\",\"zerolinecolor\":\"white\"}},\"shapedefaults\":{\"line\":{\"color\":\"#2a3f5f\"}},\"ternary\":{\"aaxis\":{\"gridcolor\":\"white\",\"linecolor\":\"white\",\"ticks\":\"\"},\"baxis\":{\"gridcolor\":\"white\",\"linecolor\":\"white\",\"ticks\":\"\"},\"bgcolor\":\"#E5ECF6\",\"caxis\":{\"gridcolor\":\"white\",\"linecolor\":\"white\",\"ticks\":\"\"}},\"title\":{\"x\":0.05},\"xaxis\":{\"automargin\":true,\"gridcolor\":\"white\",\"linecolor\":\"white\",\"ticks\":\"\",\"title\":{\"standoff\":15},\"zerolinecolor\":\"white\",\"zerolinewidth\":2},\"yaxis\":{\"automargin\":true,\"gridcolor\":\"white\",\"linecolor\":\"white\",\"ticks\":\"\",\"title\":{\"standoff\":15},\"zerolinecolor\":\"white\",\"zerolinewidth\":2}}},\"title\":{\"text\":\"3d TSNE Plot for Topic Model\"},\"width\":900},                        {\"responsive\": true}                    ).then(function(){\n",
       "                            \n",
       "var gd = document.getElementById('1a104315-1663-4c9d-810a-8f7557b0508f');\n",
       "var x = new MutationObserver(function (mutations, observer) {{\n",
       "        var display = window.getComputedStyle(gd).display;\n",
       "        if (!display || display === 'none') {{\n",
       "            console.log([gd, 'removed!']);\n",
       "            Plotly.purge(gd);\n",
       "            observer.disconnect();\n",
       "        }}\n",
       "}});\n",
       "\n",
       "// Listen for the removal of the full notebook cells\n",
       "var notebookContainer = gd.closest('#notebook-container');\n",
       "if (notebookContainer) {{\n",
       "    x.observe(notebookContainer, {childList: true});\n",
       "}}\n",
       "\n",
       "// Listen for the clearing of the current output cell\n",
       "var outputEl = gd.closest('.output');\n",
       "if (outputEl) {{\n",
       "    x.observe(outputEl, {childList: true});\n",
       "}}\n",
       "\n",
       "                        })                };                });            </script>        </div>"
      ]
     },
     "metadata": {},
     "output_type": "display_data"
    }
   ],
   "source": [
    "plot_model(lda, plot = 'tsne')"
   ]
  },
  {
   "cell_type": "markdown",
   "metadata": {},
   "source": [
    "T-distributed stochastic neighbor embedding (t-SNE) is a nonlinear dimensionality reduction technique well suited for embedding high-dimensional data for display in two- or three-dimensional low-dimensional space."
   ]
  },
  {
   "cell_type": "markdown",
   "metadata": {},
   "source": [
    "### Uniform Manifold Approximation and Projection Plot"
   ]
  },
  {
   "cell_type": "code",
   "execution_count": 20,
   "metadata": {},
   "outputs": [
    {
     "data": {
      "text/html": [
       "        <script type=\"text/javascript\">\n",
       "        window.PlotlyConfig = {MathJaxConfig: 'local'};\n",
       "        if (window.MathJax) {MathJax.Hub.Config({SVG: {font: \"STIX-Web\"}});}\n",
       "        if (typeof require !== 'undefined') {\n",
       "        require.undef(\"plotly\");\n",
       "        requirejs.config({\n",
       "            paths: {\n",
       "                'plotly': ['https://cdn.plot.ly/plotly-2.2.0.min']\n",
       "            }\n",
       "        });\n",
       "        require(['plotly'], function(Plotly) {\n",
       "            window._Plotly = Plotly;\n",
       "        });\n",
       "        }\n",
       "        </script>\n",
       "        "
      ]
     },
     "metadata": {},
     "output_type": "display_data"
    },
    {
     "data": {
      "image/png": "[encoded data removed]",
      "text/plain": [
       "<Figure size 720x432 with 1 Axes>"
      ]
     },
     "metadata": {},
     "output_type": "display_data"
    }
   ],
   "source": [
    "plot_model(lda, plot = 'umap')"
   ]
  },
  {
   "cell_type": "markdown",
   "metadata": {},
   "source": [
    "UMAP (Uniform Manifold Approximation and Projection) is a novel multi-learning technique for dimensionality reduction. It is similar to tSNE and PCA in purpose, as they are all dimensionality reduction techniques for 2d / 3d projections. UMAP is built from a theoretical framework based on Riemannian geometry and algebraic topology."
   ]
  },
  {
   "cell_type": "markdown",
   "metadata": {},
   "source": [
    "#  Evaluation of the Model"
   ]
  },
  {
   "cell_type": "markdown",
   "metadata": {},
   "source": [
    "Another way to analyze model performance is to use the ʻevaluate_model () `function which displays a user interface for all available graphics for a given model. It uses the `plot_model ()` function internally. See the example below where we have generated a sentiment polarity plot for `Topic 3` using the LDA model stored in the variable` lda`."
   ]
  },
  {
   "cell_type": "code",
   "execution_count": 21,
   "metadata": {},
   "outputs": [
    {
     "data": {
      "application/vnd.jupyter.widget-view+json": {
       "model_id": "39f4a6f808e746ef81cbd052ae3100c2",
       "version_major": 2,
       "version_minor": 0
      },
      "text/plain": [
       "interactive(children=(ToggleButtons(description='Plot Type:', icons=('',), options=(('Frequency Plot', 'freque…"
      ]
     },
     "metadata": {},
     "output_type": "display_data"
    }
   ],
   "source": [
    "evaluate_model(lda)"
   ]
  },
  {
   "cell_type": "markdown",
   "metadata": {},
   "source": [
    "#  Save  model"
   ]
  },
  {
   "cell_type": "markdown",
   "metadata": {},
   "source": [
    "As you delve deeper into natural language processing, you will learn that topic model training time increases exponentially as the size of the corpus increases. As such, if you want to continue your experiment or analysis at a later time, you do not need to repeat the entire experiment and retrain your model. PyCaret's built-in `save_model ()` function allows you to save the model for later use."
   ]
  },
  {
   "cell_type": "code",
   "execution_count": 22,
   "metadata": {},
   "outputs": [
    {
     "name": "stdout",
     "output_type": "stream",
     "text": [
      "Model Succesfully Saved\n"
     ]
    }
   ],
   "source": [
    "save_model(lda,'Final LDA Model')"
   ]
  },
  {
   "cell_type": "markdown",
   "metadata": {},
   "source": [
    "#  Load model"
   ]
  },
  {
   "cell_type": "markdown",
   "metadata": {},
   "source": [
    "To load a model saved at a future date in the same environment or in a different one, we would use PyCaret's `load_model ()` function."
   ]
  },
  {
   "cell_type": "code",
   "execution_count": 23,
   "metadata": {},
   "outputs": [
    {
     "name": "stdout",
     "output_type": "stream",
     "text": [
      "Model Sucessfully Loaded\n"
     ]
    }
   ],
   "source": [
    "saved_lda = load_model('Final LDA Model')"
   ]
  },
  {
   "cell_type": "code",
   "execution_count": 24,
   "metadata": {},
   "outputs": [
    {
     "name": "stdout",
     "output_type": "stream",
     "text": [
      "LdaModel(num_terms=5302, num_topics=4, decay=0.5, chunksize=100)\n"
     ]
    }
   ],
   "source": [
    "print(saved_lda)"
   ]
  }
 ],
 "metadata": {
  "kernelspec": {
   "display_name": "Python (Pycaret)",
   "language": "python",
   "name": "pycaret"
  },
  "language_info": {
   "codemirror_mode": {
    "name": "ipython",
    "version": 3
   },
   "file_extension": ".py",
   "mimetype": "text/x-python",
   "name": "python",
   "nbconvert_exporter": "python",
   "pygments_lexer": "ipython3",
   "version": "3.7.10"
  }
 },
 "nbformat": 4,
 "nbformat_minor": 2
}
